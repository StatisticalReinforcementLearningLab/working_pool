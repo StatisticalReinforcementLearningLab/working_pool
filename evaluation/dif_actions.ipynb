{
 "cells": [
  {
   "cell_type": "code",
   "execution_count": 1,
   "metadata": {},
   "outputs": [],
   "source": [
    "import pickle\n",
    "import pandas as pd\n",
    "import os\n",
    "import sys\n",
    "sys.path\n",
    "from scipy import stats\n",
    "sys.path.append('../simulation')\n",
    "import TS_personal_params_pooled as pp\n",
    "import TS_global_params_pooled as gtp\n",
    "import numpy as np"
   ]
  },
  {
   "cell_type": "code",
   "execution_count": 3,
   "metadata": {},
   "outputs": [],
   "source": [
    "with open('../../Downloads/big_mellongf.pkl','rb') as f:\n",
    "    test = pickle.load(f)"
   ]
  },
  {
   "cell_type": "code",
   "execution_count": 4,
   "metadata": {},
   "outputs": [],
   "source": [
    "def get_decision_times_sims(d,title,save_title,save=False,i=None,ax=None):\n",
    "    actions = {}\n",
    "    regrets ={}\n",
    "    oregrets ={}\n",
    "    steps = []\n",
    "    for sim,sims in d['actions'].items():\n",
    "        for k,v in sims.items():\n",
    "            if k not in actions:\n",
    "                actions[k]=[]\n",
    "            actions[k].extend(v)\n",
    "    for sim,sims in d['regrets'].items():\n",
    "        for k,v in sims.items():\n",
    "            if k not in regrets:\n",
    "                regrets[k]=[]\n",
    "            regrets[k].extend(v)\n",
    "            \n",
    "    for sim,sims in d['oregrets'].items():\n",
    "        for k,v in sims.items():\n",
    "            if k not in oregrets:\n",
    "                oregrets[k]=[]\n",
    "            oregrets[k].extend(v)\n",
    "   # for sim,sims in d['steps'].items():\n",
    "        \n",
    "           \n",
    "             \n",
    "        #steps[k].extend(sims)\n",
    " \n",
    "    return get_to_plot_actions(actions),get_to_plot_regrets(regrets),steps,get_to_plot_regrets(oregrets)\n",
    "#,get_to_plot_regrets(steps)"
   ]
  },
  {
   "cell_type": "code",
   "execution_count": 7,
   "metadata": {},
   "outputs": [],
   "source": [
    "def get_to_plot_actions(actions):\n",
    "    \n",
    "    skeys = sorted(actions.keys())\n",
    "    to_plot = []\n",
    "    for k in skeys:\n",
    "        to_plot.append(sum(actions[k])/len(actions[k]))\n",
    "    return to_plot\n",
    "def get_to_plot_regrets(actions):\n",
    "    \n",
    "    skeys = sorted(actions.keys())\n",
    "    to_plot = []\n",
    "    for k in skeys:\n",
    "        to_plot.append(np.array(actions[k]).mean())\n",
    "    return to_plot"
   ]
  },
  {
   "cell_type": "code",
   "execution_count": 8,
   "metadata": {},
   "outputs": [],
   "source": [
    "def get_all_d(dic):\n",
    "    to_return = {}\n",
    "    cases = ['case_one','case_two','case_three']\n",
    "   \n",
    "    for i in range(len(cases)):\n",
    "        case = cases[i]\n",
    "        d = dic[case]\n",
    "        act,regret,steps,oregrets  = get_decision_times_sims(d,case,case,save=False,i=i,ax=None)\n",
    "        to_return[case]={'actions':act,'regrets':regret,'steps':steps,'oregrets':oregrets}\n",
    "    return to_return"
   ]
  },
  {
   "cell_type": "code",
   "execution_count": 9,
   "metadata": {},
   "outputs": [],
   "source": [
    "t= get_all_d(test)"
   ]
  },
  {
   "cell_type": "code",
   "execution_count": 15,
   "metadata": {},
   "outputs": [],
   "source": [
    "def get_weekly_averages(points):\n",
    "    to_return = []\n",
    "    sems = []\n",
    "    for i in range(0,len(points)-5,35):\n",
    "        temp = points[i:i+35]\n",
    "        to_return.append(np.array(temp).mean())\n",
    "        #print(temp)\n",
    "        sems.append(stats.sem(temp))\n",
    "    return to_return,sems"
   ]
  },
  {
   "cell_type": "code",
   "execution_count": 21,
   "metadata": {},
   "outputs": [],
   "source": [
    "def get_decision_times(d,title,save_title,save=False,i=None,ax=None):\n",
    "    \n",
    "    x =get_to_plot_actions(d['actions'])\n",
    "   \n",
    "    to_plotr =  get_to_plot_regrets(d['regrets'])\n",
    "    to_plotro =  get_to_plot_regrets(d['oregrets'])\n",
    "    return x,to_plotr,[], to_plotro "
   ]
  },
  {
   "cell_type": "code",
   "execution_count": 23,
   "metadata": {},
   "outputs": [],
   "source": [
    "def get_results(results_path,pop_size,update_time,case,phrase,ophrase):\n",
    "    \n",
    "    \n",
    "    files = os.listdir('{}{}'.format(results_path,case))\n",
    "    \n",
    "    steps = []\n",
    "\n",
    "    #check population and pop_size,update_time\n",
    "    files = [f for f in files if '.DS' not in f and pop_size in f and phrase in f and ophrase not in f and 'update_days_{}'.format(update_time) in f  and '2015' not in f    ]\n",
    "    #files = files[:50]\n",
    "    #print(len(files))\n",
    "    #print(files)\n",
    "    seen = 0 \n",
    "    regrets = {}\n",
    "    actions = {}\n",
    "    oregrets = {}\n",
    "    mus = {}\n",
    "    for ff in files:\n",
    "        #sim = int(ff.split('sim_')[1].strip('_continuous_pretreatment_base_coef_scale_hybrid.pkl'))\n",
    "        #try:\n",
    "        with open('{}{}/{}'.format(results_path,case,ff),'rb') as f:\n",
    "            d = pickle.load(f)\n",
    "            #return d\n",
    "            #print(d.keys())\n",
    "            if len(d)>0:\n",
    "            #if int(sim)<60:\n",
    "                #print(len([k['steps'] for k in d['history'].values() if k['avail'] and k['decision_time']]))\n",
    "                steps = steps+[k['steps'] for k in d['history'].values() if k['avail'] and k['decision_time']]\n",
    "                for k,v in d['actions'].items():\n",
    "                    if k not in actions:\n",
    "                        actions[k]=[]\n",
    "                    actions[k].extend(v)\n",
    "                for k,v in d['regrets'].items():\n",
    "                    if k not in regrets:\n",
    "                        regrets[k]=[]\n",
    "                    regrets[k].extend(v)\n",
    "                for k,v in d['oregrets'].items():\n",
    "                    if k not in oregrets:\n",
    "                        oregrets[k]=[]\n",
    "                    oregrets[k].extend(v)\n",
    "            seen = seen+1\n",
    "           # print(ff)\n",
    "    print(seen)\n",
    "    return {'steps':steps,'oregrets':oregrets,'regrets':regrets,'actions':actions}"
   ]
  },
  {
   "cell_type": "code",
   "execution_count": 24,
   "metadata": {},
   "outputs": [],
   "source": [
    "def get_all(results_path,pop,update,phrase,ophrase):\n",
    "    to_return = {}\n",
    "    cases = ['case_one','case_two','case_three']\n",
    "   \n",
    "    for i in range(len(cases)):\n",
    "        case = cases[i]\n",
    "        d = get_results(results_path,str(pop),update,cases[i],phrase,ophrase)\n",
    "        \n",
    "        act,regret,steps,oregrets = get_decision_times(d,case,case,save=False,i=i,ax=None)\n",
    "        to_return[case]={'actions':act,'regrets':regret,'steps':steps,'oregrets':oregrets}\n",
    "    return to_return"
   ]
  },
  {
   "cell_type": "code",
   "execution_count": 25,
   "metadata": {},
   "outputs": [
    {
     "name": "stdout",
     "output_type": "stream",
     "text": [
      "50\n",
      "50\n",
      "50\n"
     ]
    }
   ],
   "source": [
    "fb = get_all('../../Downloads/pooling_results_testing/batch/','32',7,'burden818twotimesaveshortmajoritymellong','?')\n",
    "\n"
   ]
  },
  {
   "cell_type": "code",
   "execution_count": 28,
   "metadata": {},
   "outputs": [
    {
     "data": {
      "text/plain": [
       "([0.5004,\n",
       "  0.5651093604807892,\n",
       "  0.6141931259683361,\n",
       "  0.6052622960507966,\n",
       "  0.6136312043599131,\n",
       "  0.6467063949434144,\n",
       "  0.6395018984571198,\n",
       "  0.6176297380445297,\n",
       "  0.6406791661754395,\n",
       "  0.6185821670393098,\n",
       "  0.6080448979591837,\n",
       "  0.662312925170068],\n",
       " [0.006938448877748662,\n",
       "  0.016791508326319777,\n",
       "  0.014264405579163865,\n",
       "  0.009764720668142053,\n",
       "  0.009871089953265634,\n",
       "  0.008915440870502184,\n",
       "  0.007538973542658079,\n",
       "  0.009256297049609438,\n",
       "  0.011625707959425179,\n",
       "  0.01469278041626629,\n",
       "  0.02326901318960073,\n",
       "  0.020716133661709196])"
      ]
     },
     "execution_count": 28,
     "metadata": {},
     "output_type": "execute_result"
    }
   ],
   "source": [
    "get_weekly_averages(fb['case_three']['actions'])"
   ]
  },
  {
   "cell_type": "code",
   "execution_count": 30,
   "metadata": {},
   "outputs": [
    {
     "data": {
      "text/plain": [
       "([0.49484761904761904,\n",
       "  0.5323557902415046,\n",
       "  0.5991257555653839,\n",
       "  0.5941422170768315,\n",
       "  0.531570558841044,\n",
       "  0.5904880330776624,\n",
       "  0.5513184469838709,\n",
       "  0.5147270426556733,\n",
       "  0.5581168129154975,\n",
       "  0.5937401138543995,\n",
       "  0.5956075448361163,\n",
       "  0.6669183673469388],\n",
       " [0.005688758105906334,\n",
       "  0.0035982785289269043,\n",
       "  0.008680137626781475,\n",
       "  0.006273704763709249,\n",
       "  0.013232082765799052,\n",
       "  0.010733054896207633,\n",
       "  0.014030770285323579,\n",
       "  0.01594269750401586,\n",
       "  0.015170618115134179,\n",
       "  0.021215057089085172,\n",
       "  0.02776854561707393,\n",
       "  0.026428785824915])"
      ]
     },
     "execution_count": 30,
     "metadata": {},
     "output_type": "execute_result"
    }
   ],
   "source": [
    "get_weekly_averages(t['case_two']['actions'])"
   ]
  },
  {
   "cell_type": "code",
   "execution_count": null,
   "metadata": {},
   "outputs": [],
   "source": []
  },
  {
   "cell_type": "code",
   "execution_count": null,
   "metadata": {},
   "outputs": [],
   "source": []
  }
 ],
 "metadata": {
  "kernelspec": {
   "display_name": "Python 3",
   "language": "python",
   "name": "python3"
  },
  "language_info": {
   "codemirror_mode": {
    "name": "ipython",
    "version": 3
   },
   "file_extension": ".py",
   "mimetype": "text/x-python",
   "name": "python",
   "nbconvert_exporter": "python",
   "pygments_lexer": "ipython3",
   "version": "3.6.8"
  }
 },
 "nbformat": 4,
 "nbformat_minor": 2
}
