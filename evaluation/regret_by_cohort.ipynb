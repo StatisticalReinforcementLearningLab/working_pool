{
 "cells": [
  {
   "cell_type": "code",
   "execution_count": 33,
   "metadata": {},
   "outputs": [],
   "source": [
    "import pickle\n",
    "import pandas as pd\n",
    "import os\n",
    "import sys\n",
    "sys.path\n",
    "from scipy import stats\n",
    "sys.path.append('../simulation')\n",
    "import TS_personal_params_pooled as pp\n",
    "import TS_global_params_pooled as gtp\n",
    "import numpy as np"
   ]
  },
  {
   "cell_type": "code",
   "execution_count": 6,
   "metadata": {},
   "outputs": [],
   "source": [
    "with open('../distributions_rl4rl/time_to_active_participants_pop_32_short_staggered_12.pkl','rb') as f:\n",
    "    t = pickle.load(f)"
   ]
  },
  {
   "cell_type": "code",
   "execution_count": 11,
   "metadata": {},
   "outputs": [],
   "source": [
    "seen={}\n",
    "seenset=set([])\n",
    "for k,v in t.items():\n",
    "    for person in v:\n",
    "        if person not in seenset:\n",
    "            seenset.add(person)\n",
    "            if k not in seen:\n",
    "                seen[k]=[]\n",
    "            seen[k].append(person)"
   ]
  },
  {
   "cell_type": "code",
   "execution_count": 26,
   "metadata": {},
   "outputs": [],
   "source": [
    "keys = sorted(seen)\n",
    "ns = {i:seen[keys[i]] for i in range(len(keys))}"
   ]
  },
  {
   "cell_type": "code",
   "execution_count": 28,
   "metadata": {},
   "outputs": [
    {
     "data": {
      "text/plain": [
       "{0: [0, 1, 2, 3, 4],\n",
       " 1: [5, 6, 7, 8, 9, 10, 11, 12, 13, 14],\n",
       " 2: [15, 16, 17, 18, 19],\n",
       " 3: [20, 21, 22, 23],\n",
       " 4: [24, 25, 26, 27],\n",
       " 5: [28, 29, 30, 31]}"
      ]
     },
     "execution_count": 28,
     "metadata": {},
     "output_type": "execute_result"
    }
   ],
   "source": [
    "ns"
   ]
  },
  {
   "cell_type": "code",
   "execution_count": 20,
   "metadata": {},
   "outputs": [],
   "source": [
    "def get_results_new_save_person(results_path,pop_size,update_time,case,phrase,ophrase):\n",
    "    \n",
    "    \n",
    "    files = os.listdir('{}{}'.format(results_path,case))\n",
    "    \n",
    "    steps = []\n",
    "\n",
    "    #check population and pop_size,update_time\n",
    "    files = [f for f in files if '.DS' not in f and pop_size in f and phrase in f and ophrase not in f and 'update_days_{}'.format(update_time) in f  and '2015' not in f    ]\n",
    "    #files = files[:50]\n",
    "    #print(len(files))\n",
    "    #print(files)\n",
    "    seen = 0 \n",
    "    to_return = {}\n",
    "    for ff in files:\n",
    "        sim = int(ff.split('sim_')[1].split('_')[0])\n",
    "        \n",
    "        #try:\n",
    "        with open('{}{}/{}'.format(results_path,case,ff),'rb') as f:\n",
    "            d = pickle.load(f)\n",
    "     \n",
    "            #print(d.keys())\n",
    "            if len(d)>0:\n",
    "                to_return[sim]=d['pregret']\n",
    "    to_save = {}\n",
    "    for sim in range(50):\n",
    "        for person in range(32):\n",
    "            for time,regret in to_return[sim][person].items():\n",
    "                if time not in to_save:\n",
    "                    to_save[time]={}\n",
    "                if person not in to_save[time]:\n",
    "                    to_save[time][person]={}\n",
    "                to_save[time][person][sim]=regret\n",
    "    return to_save"
   ]
  },
  {
   "cell_type": "code",
   "execution_count": 22,
   "metadata": {},
   "outputs": [],
   "source": [
    "def get_regret(p):\n",
    "    to_return={}\n",
    "    for time,dicts in p.items():\n",
    "        for person,sims in dicts.items():\n",
    "            if person not in to_return:\n",
    "                to_return[person]={}\n",
    "            for sim,r in sims.items():\n",
    "                if sim not in to_return[person]:\n",
    "                    to_return[person][sim]=[]\n",
    "                to_return[person][sim].append(r)\n",
    "                \n",
    "    for person in to_return:\n",
    "        for sim in to_return[person]:\n",
    "            to_return[person][sim]=sum(to_return[person][sim])\n",
    "    return to_return"
   ]
  },
  {
   "cell_type": "code",
   "execution_count": 55,
   "metadata": {},
   "outputs": [],
   "source": [
    "t= get_results_new_save_person('../../Downloads/pooling_results_testing/personalized/','32',7,'case_two','burden816747time_cond','inc')\n",
    "r = get_regret(t)"
   ]
  },
  {
   "cell_type": "code",
   "execution_count": 56,
   "metadata": {},
   "outputs": [],
   "source": [
    "r = get_regret(t)"
   ]
  },
  {
   "cell_type": "code",
   "execution_count": 42,
   "metadata": {},
   "outputs": [],
   "source": [
    "def by_cohort(cohorts,regrets):\n",
    "    to_return = {}\n",
    "    for k,v in cohorts.items():\n",
    "        temp = []\n",
    "        for person in v:\n",
    "            reg = list(regrets[person].values())\n",
    "            temp.extend(reg)\n",
    "        to_return[k]=temp\n",
    "    return to_return"
   ]
  },
  {
   "cell_type": "code",
   "execution_count": 43,
   "metadata": {},
   "outputs": [],
   "source": [
    "checkbatch = by_cohort(ns,r)"
   ]
  },
  {
   "cell_type": "code",
   "execution_count": 34,
   "metadata": {},
   "outputs": [
    {
     "name": "stdout",
     "output_type": "stream",
     "text": [
      "0\n",
      "18.179800000000007\n",
      "1\n",
      "16.6319\n",
      "2\n",
      "15.255800000000006\n",
      "3\n",
      "14.746750000000002\n",
      "4\n",
      "13.701250000000005\n",
      "5\n",
      "13.86625\n"
     ]
    }
   ],
   "source": [
    "for k,v in checkbatch.items():\n",
    "    print(k)\n",
    "    print(np.array(v).mean())"
   ]
  },
  {
   "cell_type": "code",
   "execution_count": 39,
   "metadata": {},
   "outputs": [
    {
     "name": "stdout",
     "output_type": "stream",
     "text": [
      "0\n",
      "24.803000000000008\n",
      "1\n",
      "23.577200000000012\n",
      "2\n",
      "21.304200000000005\n",
      "3\n",
      "20.40725000000001\n",
      "4\n",
      "19.17650000000001\n",
      "5\n",
      "15.411750000000001\n"
     ]
    }
   ],
   "source": [
    "for k,v in checkbatch.items():\n",
    "    print(k)\n",
    "    print(np.array(v).mean())"
   ]
  },
  {
   "cell_type": "code",
   "execution_count": 44,
   "metadata": {},
   "outputs": [
    {
     "name": "stdout",
     "output_type": "stream",
     "text": [
      "0\n",
      "22.778072116278167\n",
      "1\n",
      "34.65481986455311\n",
      "2\n",
      "22.596267641433638\n",
      "3\n",
      "34.98850612138765\n",
      "4\n",
      "24.812514166929294\n",
      "5\n",
      "19.530073324379472\n"
     ]
    }
   ],
   "source": [
    "for k,v in checkbatch.items():\n",
    "    print(k)\n",
    "    print(np.array(v).mean())"
   ]
  },
  {
   "cell_type": "code",
   "execution_count": 48,
   "metadata": {},
   "outputs": [
    {
     "name": "stdout",
     "output_type": "stream",
     "text": [
      "0\n",
      "25.45371445239255\n",
      "1\n",
      "35.18186739419753\n",
      "2\n",
      "23.525197793478654\n",
      "3\n",
      "33.931476510635505\n",
      "4\n",
      "27.772901203989687\n",
      "5\n",
      "27.805143312766095\n"
     ]
    }
   ],
   "source": [
    "checkbatch = by_cohort(ns,r)\n",
    "for k,v in checkbatch.items():\n",
    "    print(k)\n",
    "    print(np.array(v).mean())"
   ]
  },
  {
   "cell_type": "code",
   "execution_count": 51,
   "metadata": {},
   "outputs": [
    {
     "name": "stdout",
     "output_type": "stream",
     "text": [
      "0\n",
      "26.26080000000001\n",
      "1\n",
      "26.49540000000001\n",
      "2\n",
      "25.943600000000014\n",
      "3\n",
      "25.29650000000001\n",
      "4\n",
      "23.74050000000001\n",
      "5\n",
      "24.121000000000013\n"
     ]
    }
   ],
   "source": [
    "checkbatch = by_cohort(ns,r)\n",
    "for k,v in checkbatch.items():\n",
    "    print(k)\n",
    "    print(np.array(v).mean())"
   ]
  },
  {
   "cell_type": "code",
   "execution_count": 54,
   "metadata": {},
   "outputs": [
    {
     "name": "stdout",
     "output_type": "stream",
     "text": [
      "0\n",
      "25.894\n",
      "1\n",
      "25.627700000000004\n",
      "2\n",
      "24.381200000000003\n",
      "3\n",
      "23.675\n",
      "4\n",
      "22.19375\n",
      "5\n",
      "21.96625\n"
     ]
    }
   ],
   "source": [
    "checkbatch = by_cohort(ns,r)\n",
    "for k,v in checkbatch.items():\n",
    "    print(k)\n",
    "    print(np.array(v).mean())"
   ]
  },
  {
   "cell_type": "code",
   "execution_count": 57,
   "metadata": {},
   "outputs": [
    {
     "name": "stdout",
     "output_type": "stream",
     "text": [
      "0\n",
      "29.475400000000004\n",
      "1\n",
      "27.725300000000004\n",
      "2\n",
      "27.5944\n",
      "3\n",
      "27.229499999999998\n",
      "4\n",
      "26.926750000000002\n",
      "5\n",
      "29.29575\n"
     ]
    }
   ],
   "source": [
    "t= get_results_new_save_person('../../Downloads/pooling_results_testing/personalized/','32',7,'case_two','burden816747time_cond','inc')\n",
    "r = get_regret(t)\n",
    "checkbatch = by_cohort(ns,r)\n",
    "for k,v in checkbatch.items():\n",
    "    print(k)\n",
    "    print(np.array(v).mean())"
   ]
  },
  {
   "cell_type": "code",
   "execution_count": 58,
   "metadata": {},
   "outputs": [
    {
     "name": "stdout",
     "output_type": "stream",
     "text": [
      "0\n",
      "23.233200000000007\n",
      "1\n",
      "24.449100000000005\n",
      "2\n",
      "24.535000000000007\n",
      "3\n",
      "23.774250000000002\n",
      "4\n",
      "22.028000000000006\n",
      "5\n",
      "23.285250000000005\n"
     ]
    }
   ],
   "source": [
    "t= get_results_new_save_person('../../Downloads/pooling_results_testing/personalized/','32',7,'case_one','burden816747time_cond','inc')\n",
    "r = get_regret(t)\n",
    "checkbatch = by_cohort(ns,r)\n",
    "for k,v in checkbatch.items():\n",
    "    print(k)\n",
    "    print(np.array(v).mean())"
   ]
  },
  {
   "cell_type": "code",
   "execution_count": 59,
   "metadata": {},
   "outputs": [
    {
     "name": "stdout",
     "output_type": "stream",
     "text": [
      "0\n",
      "26.474871408745326\n",
      "1\n",
      "35.2594487165786\n",
      "2\n",
      "28.658558315979633\n",
      "3\n",
      "37.85906798766729\n",
      "4\n",
      "28.0905465902615\n",
      "5\n",
      "28.23169479197975\n"
     ]
    }
   ],
   "source": [
    "t= get_results_new_save_person('../../Downloads/pooling_results_testing/personalized/','32',7,'case_three','burden816747time_cond','inc')\n",
    "r = get_regret(t)\n",
    "checkbatch = by_cohort(ns,r)\n",
    "for k,v in checkbatch.items():\n",
    "    print(k)\n",
    "    print(np.array(v).mean())"
   ]
  },
  {
   "cell_type": "code",
   "execution_count": 61,
   "metadata": {},
   "outputs": [
    {
     "name": "stdout",
     "output_type": "stream",
     "text": [
      "0\n",
      "21.745600000000007\n",
      "1\n",
      "23.173500000000008\n",
      "2\n",
      "24.748000000000008\n",
      "3\n",
      "23.859500000000004\n",
      "4\n",
      "22.418750000000003\n",
      "5\n",
      "20.159000000000002\n"
     ]
    }
   ],
   "source": [
    "with open('../../Downloads/regret_case_two_816747_person_dict.pkl','rb') as f:\n",
    "    t = pickle.load(f)\n",
    "r = get_regret(t)\n",
    "checkbatch = by_cohort(ns,r)\n",
    "for k,v in checkbatch.items():\n",
    "    print(k)\n",
    "    print(np.array(v).mean())"
   ]
  },
  {
   "cell_type": "code",
   "execution_count": 62,
   "metadata": {},
   "outputs": [
    {
     "name": "stdout",
     "output_type": "stream",
     "text": [
      "0\n",
      "18.397400000000005\n",
      "1\n",
      "19.87680000000001\n",
      "2\n",
      "19.95180000000001\n",
      "3\n",
      "21.617000000000008\n",
      "4\n",
      "19.92750000000001\n",
      "5\n",
      "22.53550000000001\n"
     ]
    }
   ],
   "source": [
    "with open('../../Downloads/regret_case_one_816747_person_dict.pkl','rb') as f:\n",
    "    t = pickle.load(f)\n",
    "r = get_regret(t)\n",
    "checkbatch = by_cohort(ns,r)\n",
    "for k,v in checkbatch.items():\n",
    "    print(k)\n",
    "    print(np.array(v).mean())"
   ]
  },
  {
   "cell_type": "code",
   "execution_count": 63,
   "metadata": {},
   "outputs": [
    {
     "name": "stdout",
     "output_type": "stream",
     "text": [
      "0\n",
      "20.31489657902877\n",
      "1\n",
      "33.41000131562465\n",
      "2\n",
      "21.584929740941437\n",
      "3\n",
      "34.48508551484087\n",
      "4\n",
      "31.67013433264591\n",
      "5\n",
      "28.544910313535265\n"
     ]
    }
   ],
   "source": [
    "with open('../../Downloads/regret_case_three_816747_person_dict.pkl','rb') as f:\n",
    "    t = pickle.load(f)\n",
    "r = get_regret(t)\n",
    "checkbatch = by_cohort(ns,r)\n",
    "for k,v in checkbatch.items():\n",
    "    print(k)\n",
    "    print(np.array(v).mean())"
   ]
  },
  {
   "cell_type": "code",
   "execution_count": null,
   "metadata": {},
   "outputs": [],
   "source": []
  }
 ],
 "metadata": {
  "kernelspec": {
   "display_name": "Python 3",
   "language": "python",
   "name": "python3"
  },
  "language_info": {
   "codemirror_mode": {
    "name": "ipython",
    "version": 3
   },
   "file_extension": ".py",
   "mimetype": "text/x-python",
   "name": "python",
   "nbconvert_exporter": "python",
   "pygments_lexer": "ipython3",
   "version": "3.6.8"
  }
 },
 "nbformat": 4,
 "nbformat_minor": 2
}
