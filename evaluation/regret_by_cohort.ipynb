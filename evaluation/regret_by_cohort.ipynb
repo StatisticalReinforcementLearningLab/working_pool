{
 "cells": [
  {
   "cell_type": "code",
   "execution_count": 2,
   "metadata": {},
   "outputs": [],
   "source": [
    "import pickle\n",
    "import pandas as pd\n",
    "import os\n",
    "import sys\n",
    "sys.path\n",
    "from scipy import stats\n",
    "sys.path.append('../simulation')\n",
    "import TS_personal_params_pooled as pp\n",
    "import TS_global_params_pooled as gtp\n",
    "import numpy as np"
   ]
  },
  {
   "cell_type": "code",
   "execution_count": 2,
   "metadata": {},
   "outputs": [],
   "source": [
    "with open('../distributions_rl4rl/time_to_active_participants_pop_32_short_staggered_12.pkl','rb') as f:\n",
    "    t = pickle.load(f)"
   ]
  },
  {
   "cell_type": "code",
   "execution_count": 3,
   "metadata": {},
   "outputs": [],
   "source": [
    "seen={}\n",
    "seenset=set([])\n",
    "for k,v in t.items():\n",
    "    for person in v:\n",
    "        if person not in seenset:\n",
    "            seenset.add(person)\n",
    "            if k not in seen:\n",
    "                seen[k]=[]\n",
    "            seen[k].append(person)"
   ]
  },
  {
   "cell_type": "code",
   "execution_count": 4,
   "metadata": {},
   "outputs": [],
   "source": [
    "keys = sorted(seen)\n",
    "ns = {i:seen[keys[i]] for i in range(len(keys))}"
   ]
  },
  {
   "cell_type": "code",
   "execution_count": 5,
   "metadata": {},
   "outputs": [
    {
     "data": {
      "text/plain": [
       "{0: [0, 1, 2, 3, 4],\n",
       " 1: [5, 6, 7, 8, 9, 10, 11, 12, 13, 14],\n",
       " 2: [15, 16, 17, 18, 19],\n",
       " 3: [20, 21, 22, 23],\n",
       " 4: [24, 25, 26, 27],\n",
       " 5: [28, 29, 30, 31]}"
      ]
     },
     "execution_count": 5,
     "metadata": {},
     "output_type": "execute_result"
    }
   ],
   "source": [
    "ns"
   ]
  },
  {
   "cell_type": "code",
   "execution_count": 6,
   "metadata": {},
   "outputs": [],
   "source": [
    "def get_results_new_save_person(results_path,pop_size,update_time,case,phrase,ophrase):\n",
    "    \n",
    "    \n",
    "    files = os.listdir('{}{}'.format(results_path,case))\n",
    "    \n",
    "    steps = []\n",
    "\n",
    "    #check population and pop_size,update_time\n",
    "    files = [f for f in files if '.DS' not in f and pop_size in f and phrase in f and ophrase not in f and 'update_days_{}'.format(update_time) in f  and '2015' not in f    ]\n",
    "    #files = files[:50]\n",
    "    #print(len(files))\n",
    "    #print(files)\n",
    "    seen = 0 \n",
    "    to_return = {}\n",
    "    for ff in files:\n",
    "        sim = int(ff.split('sim_')[1].split('_')[0])\n",
    "        \n",
    "        #try:\n",
    "        with open('{}{}/{}'.format(results_path,case,ff),'rb') as f:\n",
    "            d = pickle.load(f)\n",
    "     \n",
    "            #print(d.keys())\n",
    "            if len(d)>0:\n",
    "                to_return[sim]=d['poregret']\n",
    "    to_save = {}\n",
    "    for sim in range(50):\n",
    "        for person in range(32):\n",
    "            for time,regret in to_return[sim][person].items():\n",
    "                if time not in to_save:\n",
    "                    to_save[time]={}\n",
    "                if person not in to_save[time]:\n",
    "                    to_save[time][person]={}\n",
    "                to_save[time][person][sim]=regret\n",
    "    return to_save"
   ]
  },
  {
   "cell_type": "code",
   "execution_count": 7,
   "metadata": {},
   "outputs": [],
   "source": [
    "def get_regret(p):\n",
    "    to_return={}\n",
    "    for time,dicts in p.items():\n",
    "        for person,sims in dicts.items():\n",
    "            if person not in to_return:\n",
    "                to_return[person]={}\n",
    "            for sim,r in sims.items():\n",
    "                if sim not in to_return[person]:\n",
    "                    to_return[person][sim]=[]\n",
    "                to_return[person][sim].append(r)\n",
    "                \n",
    "    for person in to_return:\n",
    "        for sim in to_return[person]:\n",
    "            to_return[person][sim]=sum(to_return[person][sim])\n",
    "    return to_return"
   ]
  },
  {
   "cell_type": "code",
   "execution_count": 55,
   "metadata": {},
   "outputs": [],
   "source": [
    "t= get_results_new_save_person('../../Downloads/pooling_results_testing/personalized/','32',7,'case_two','burden816747time_cond','inc')\n",
    "r = get_regret(t)"
   ]
  },
  {
   "cell_type": "code",
   "execution_count": 56,
   "metadata": {},
   "outputs": [],
   "source": [
    "r = get_regret(t)"
   ]
  },
  {
   "cell_type": "code",
   "execution_count": 8,
   "metadata": {},
   "outputs": [],
   "source": [
    "def by_cohort(cohorts,regrets):\n",
    "    to_return = {}\n",
    "    for k,v in cohorts.items():\n",
    "        temp = []\n",
    "        for person in v:\n",
    "            reg = list(regrets[person].values())\n",
    "            temp.extend(reg)\n",
    "        to_return[k]=temp\n",
    "    return to_return"
   ]
  },
  {
   "cell_type": "code",
   "execution_count": 43,
   "metadata": {},
   "outputs": [],
   "source": [
    "checkbatch = by_cohort(ns,r)"
   ]
  },
  {
   "cell_type": "code",
   "execution_count": 128,
   "metadata": {},
   "outputs": [
    {
     "name": "stdout",
     "output_type": "stream",
     "text": [
      "0\n",
      "18.393199999999997\n",
      "1\n",
      "15.987999999999998\n",
      "2\n",
      "13.592599999999997\n",
      "3\n",
      "13.138749999999995\n",
      "4\n",
      "11.968749999999995\n",
      "5\n",
      "11.639499999999993\n"
     ]
    }
   ],
   "source": [
    "t= get_results_new_save_person('../../Downloads/pooling_results_testing/batch/','32',7,'case_one','burden818twotimesaveshortmajoritymellong','inc')\n",
    "r = get_regret(t)\n",
    "checkbatch = by_cohort(ns,r)\n",
    "for k,v in checkbatch.items():\n",
    "    print(k)\n",
    "    print(np.array(v).mean())"
   ]
  },
  {
   "cell_type": "code",
   "execution_count": 97,
   "metadata": {},
   "outputs": [
    {
     "name": "stdout",
     "output_type": "stream",
     "text": [
      "0\n",
      "33.921\n",
      "1\n",
      "32.005900000000004\n",
      "2\n",
      "30.386200000000006\n",
      "3\n",
      "29.31625\n",
      "4\n",
      "27.605000000000004\n",
      "5\n",
      "27.24124999999999\n"
     ]
    }
   ],
   "source": [
    "t= get_results_new_save_person('../../Downloads/pooling_results_testing/batch/','32',7,'case_two','None818two','save')\n",
    "r = get_regret(t)\n",
    "checkbatch = by_cohort(ns,r)\n",
    "for k,v in checkbatch.items():\n",
    "    print(k)\n",
    "    print(np.array(v).mean())"
   ]
  },
  {
   "cell_type": "code",
   "execution_count": 131,
   "metadata": {},
   "outputs": [
    {
     "name": "stdout",
     "output_type": "stream",
     "text": [
      "0\n",
      "16.810643777426527\n",
      "1\n",
      "21.97791970096525\n",
      "2\n",
      "17.784331285458045\n",
      "3\n",
      "24.361137373315138\n",
      "4\n",
      "15.49002259470055\n",
      "5\n",
      "12.337246063989246\n",
      "18.12688346597579\n"
     ]
    }
   ],
   "source": [
    "t= get_results_new_save_person('../../Downloads/pooling_results_testing/batch/','32',7,'case_three','None818twotimesaveshortmajoritysmall','positive')\n",
    "r = get_regret(t)\n",
    "checkbatch = by_cohort(ns,r)\n",
    "alls= []\n",
    "for k,v in checkbatch.items():\n",
    "    print(k)\n",
    "    print(np.array(v).mean())\n",
    "    alls.append(np.array(v).mean())\n",
    "print(np.array(alls).mean())"
   ]
  },
  {
   "cell_type": "code",
   "execution_count": null,
   "metadata": {},
   "outputs": [],
   "source": []
  },
  {
   "cell_type": "code",
   "execution_count": 11,
   "metadata": {},
   "outputs": [
    {
     "ename": "UnpicklingError",
     "evalue": "pickle data was truncated",
     "output_type": "error",
     "traceback": [
      "\u001b[0;31m---------------------------------------------------------------------------\u001b[0m",
      "\u001b[0;31mUnpicklingError\u001b[0m                           Traceback (most recent call last)",
      "\u001b[0;32m<ipython-input-11-29f545998f00>\u001b[0m in \u001b[0;36m<module>\u001b[0;34m\u001b[0m\n\u001b[1;32m      1\u001b[0m \u001b[0;32mwith\u001b[0m \u001b[0mopen\u001b[0m\u001b[0;34m(\u001b[0m\u001b[0;34m'../../Downloads/regret_burden828hm.pkl'\u001b[0m\u001b[0;34m,\u001b[0m\u001b[0;34m'rb'\u001b[0m\u001b[0;34m)\u001b[0m \u001b[0;32mas\u001b[0m \u001b[0mf\u001b[0m\u001b[0;34m:\u001b[0m\u001b[0;34m\u001b[0m\u001b[0;34m\u001b[0m\u001b[0m\n\u001b[0;32m----> 2\u001b[0;31m     \u001b[0mt\u001b[0m \u001b[0;34m=\u001b[0m \u001b[0mpickle\u001b[0m\u001b[0;34m.\u001b[0m\u001b[0mload\u001b[0m\u001b[0;34m(\u001b[0m\u001b[0mf\u001b[0m\u001b[0;34m)\u001b[0m\u001b[0;34m\u001b[0m\u001b[0;34m\u001b[0m\u001b[0m\n\u001b[0m\u001b[1;32m      3\u001b[0m \u001b[0;34m\u001b[0m\u001b[0m\n\u001b[1;32m      4\u001b[0m \u001b[0mr\u001b[0m \u001b[0;34m=\u001b[0m \u001b[0mget_regret\u001b[0m\u001b[0;34m(\u001b[0m\u001b[0mt\u001b[0m\u001b[0;34m[\u001b[0m\u001b[0;34m'case_one'\u001b[0m\u001b[0;34m]\u001b[0m\u001b[0;34m[\u001b[0m\u001b[0;34m'or'\u001b[0m\u001b[0;34m]\u001b[0m\u001b[0;34m)\u001b[0m\u001b[0;34m\u001b[0m\u001b[0;34m\u001b[0m\u001b[0m\n\u001b[1;32m      5\u001b[0m \u001b[0malls\u001b[0m \u001b[0;34m=\u001b[0m \u001b[0;34m[\u001b[0m\u001b[0;34m]\u001b[0m\u001b[0;34m\u001b[0m\u001b[0;34m\u001b[0m\u001b[0m\n",
      "\u001b[0;31mUnpicklingError\u001b[0m: pickle data was truncated"
     ]
    }
   ],
   "source": [
    "with open('../../Downloads/regret_burden828hm.pkl','rb') as f:\n",
    "    t = pickle.load(f)\n",
    "    \n",
    "r = get_regret(t['case_one']['or'])\n",
    "alls = []\n",
    "checkbatch = by_cohort(ns,r)\n",
    "for k,v in checkbatch.items():\n",
    "    print(k)\n",
    "    print(np.array(v).mean())\n",
    "    alls.extend(v)\n",
    "np.array(alls).mean()"
   ]
  },
  {
   "cell_type": "code",
   "execution_count": 79,
   "metadata": {},
   "outputs": [
    {
     "name": "stdout",
     "output_type": "stream",
     "text": [
      "0\n",
      "39.89120000000001\n",
      "1\n",
      "40.1758\n",
      "2\n",
      "39.13459999999999\n",
      "3\n",
      "39.0105\n",
      "4\n",
      "36.780750000000005\n",
      "5\n",
      "37.34375\n"
     ]
    }
   ],
   "source": [
    "t= get_results_new_save_person('../../Downloads/pooling_results_testing/hob_clipped/','32',7,'case_one','burden817731','inc')\n",
    "r = get_regret(t)\n",
    "checkbatch = by_cohort(ns,r)\n",
    "for k,v in checkbatch.items():\n",
    "    print(k)\n",
    "    print(np.array(v).mean())"
   ]
  },
  {
   "cell_type": "code",
   "execution_count": 80,
   "metadata": {},
   "outputs": [
    {
     "name": "stdout",
     "output_type": "stream",
     "text": [
      "0\n",
      "37.969800000000006\n",
      "1\n",
      "38.65089999999999\n",
      "2\n",
      "37.04579999999999\n",
      "3\n",
      "36.618500000000004\n",
      "4\n",
      "33.86125\n",
      "5\n",
      "33.88075\n"
     ]
    }
   ],
   "source": [
    "t= get_results_new_save_person('../../Downloads/pooling_results_testing/hob_clipped/','32',7,'case_two','burden817731','inc')\n",
    "r = get_regret(t)\n",
    "checkbatch = by_cohort(ns,r)\n",
    "for k,v in checkbatch.items():\n",
    "    print(k)\n",
    "    print(np.array(v).mean())"
   ]
  },
  {
   "cell_type": "code",
   "execution_count": 81,
   "metadata": {},
   "outputs": [
    {
     "name": "stdout",
     "output_type": "stream",
     "text": [
      "0\n",
      "39.35122467712511\n",
      "1\n",
      "51.40097696795171\n",
      "2\n",
      "35.7128585044465\n",
      "3\n",
      "50.26213872618795\n",
      "4\n",
      "41.86718708297336\n",
      "5\n",
      "42.24147302469068\n"
     ]
    }
   ],
   "source": [
    "t= get_results_new_save_person('../../Downloads/pooling_results_testing/hob_clipped/','32',7,'case_three','burden817731','inc')\n",
    "r = get_regret(t)\n",
    "checkbatch = by_cohort(ns,r)\n",
    "for k,v in checkbatch.items():\n",
    "    print(k)\n",
    "    print(np.array(v).mean())"
   ]
  },
  {
   "cell_type": "code",
   "execution_count": 82,
   "metadata": {},
   "outputs": [
    {
     "name": "stdout",
     "output_type": "stream",
     "text": [
      "0\n",
      "44.41660000000003\n",
      "1\n",
      "42.650600000000004\n",
      "2\n",
      "42.46820000000002\n",
      "3\n",
      "43.229750000000024\n",
      "4\n",
      "41.22400000000002\n",
      "5\n",
      "44.77775000000003\n"
     ]
    }
   ],
   "source": [
    "t= get_results_new_save_person('../../Downloads/pooling_results_testing/personalized/','32',7,'case_two','burden817731','inc')\n",
    "r = get_regret(t)\n",
    "checkbatch = by_cohort(ns,r)\n",
    "for k,v in checkbatch.items():\n",
    "    print(k)\n",
    "    print(np.array(v).mean())"
   ]
  },
  {
   "cell_type": "code",
   "execution_count": 83,
   "metadata": {},
   "outputs": [
    {
     "name": "stdout",
     "output_type": "stream",
     "text": [
      "0\n",
      "37.551800000000014\n",
      "1\n",
      "38.54310000000001\n",
      "2\n",
      "38.2934\n",
      "3\n",
      "38.209250000000004\n",
      "4\n",
      "34.943000000000005\n",
      "5\n",
      "36.87225000000001\n"
     ]
    }
   ],
   "source": [
    "t= get_results_new_save_person('../../Downloads/pooling_results_testing/batch/','32',7,'case_one','burden817731','inc')\n",
    "r = get_regret(t)\n",
    "checkbatch = by_cohort(ns,r)\n",
    "for k,v in checkbatch.items():\n",
    "    print(k)\n",
    "    print(np.array(v).mean())"
   ]
  },
  {
   "cell_type": "code",
   "execution_count": 63,
   "metadata": {},
   "outputs": [
    {
     "ename": "TypeError",
     "evalue": "by_cohort() missing 1 required positional argument: 'gids'",
     "output_type": "error",
     "traceback": [
      "\u001b[0;31m---------------------------------------------------------------------------\u001b[0m",
      "\u001b[0;31mTypeError\u001b[0m                                 Traceback (most recent call last)",
      "\u001b[0;32m<ipython-input-63-523f32cca9d8>\u001b[0m in \u001b[0;36m<module>\u001b[0;34m\u001b[0m\n\u001b[1;32m      1\u001b[0m \u001b[0mt\u001b[0m\u001b[0;34m=\u001b[0m \u001b[0mget_results_new_save_person\u001b[0m\u001b[0;34m(\u001b[0m\u001b[0;34m'../../Downloads/pooling_results_testing/personalized/'\u001b[0m\u001b[0;34m,\u001b[0m\u001b[0;34m'32'\u001b[0m\u001b[0;34m,\u001b[0m\u001b[0;36m7\u001b[0m\u001b[0;34m,\u001b[0m\u001b[0;34m'case_one'\u001b[0m\u001b[0;34m,\u001b[0m\u001b[0;34m'quick2'\u001b[0m\u001b[0;34m,\u001b[0m\u001b[0;34m'inc'\u001b[0m\u001b[0;34m)\u001b[0m\u001b[0;34m\u001b[0m\u001b[0;34m\u001b[0m\u001b[0m\n\u001b[1;32m      2\u001b[0m \u001b[0mr\u001b[0m \u001b[0;34m=\u001b[0m \u001b[0mget_regret\u001b[0m\u001b[0;34m(\u001b[0m\u001b[0mt\u001b[0m\u001b[0;34m)\u001b[0m\u001b[0;34m\u001b[0m\u001b[0;34m\u001b[0m\u001b[0m\n\u001b[0;32m----> 3\u001b[0;31m \u001b[0mcheckbatch\u001b[0m \u001b[0;34m=\u001b[0m \u001b[0mby_cohort\u001b[0m\u001b[0;34m(\u001b[0m\u001b[0mns\u001b[0m\u001b[0;34m,\u001b[0m\u001b[0mr\u001b[0m\u001b[0;34m)\u001b[0m\u001b[0;34m\u001b[0m\u001b[0;34m\u001b[0m\u001b[0m\n\u001b[0m\u001b[1;32m      4\u001b[0m \u001b[0;32mfor\u001b[0m \u001b[0mk\u001b[0m\u001b[0;34m,\u001b[0m\u001b[0mv\u001b[0m \u001b[0;32min\u001b[0m \u001b[0mcheckbatch\u001b[0m\u001b[0;34m.\u001b[0m\u001b[0mitems\u001b[0m\u001b[0;34m(\u001b[0m\u001b[0;34m)\u001b[0m\u001b[0;34m:\u001b[0m\u001b[0;34m\u001b[0m\u001b[0;34m\u001b[0m\u001b[0m\n\u001b[1;32m      5\u001b[0m     \u001b[0mprint\u001b[0m\u001b[0;34m(\u001b[0m\u001b[0mk\u001b[0m\u001b[0;34m)\u001b[0m\u001b[0;34m\u001b[0m\u001b[0;34m\u001b[0m\u001b[0m\n",
      "\u001b[0;31mTypeError\u001b[0m: by_cohort() missing 1 required positional argument: 'gids'"
     ]
    }
   ],
   "source": [
    "t= get_results_new_save_person('../../Downloads/pooling_results_testing/personalized/','32',7,'case_one','quick2','inc')\n",
    "r = get_regret(t)\n",
    "checkbatch = by_cohort(ns,r)\n",
    "for k,v in checkbatch.items():\n",
    "    print(k)\n",
    "    print(np.array(v).mean())"
   ]
  },
  {
   "cell_type": "code",
   "execution_count": 62,
   "metadata": {},
   "outputs": [
    {
     "name": "stdout",
     "output_type": "stream",
     "text": [
      "0\n",
      "18.397400000000005\n",
      "1\n",
      "19.87680000000001\n",
      "2\n",
      "19.95180000000001\n",
      "3\n",
      "21.617000000000008\n",
      "4\n",
      "19.92750000000001\n",
      "5\n",
      "22.53550000000001\n"
     ]
    }
   ],
   "source": [
    "with open('../../Downloads/regret_case_one_816747_person_dict.pkl','rb') as f:\n",
    "    t = pickle.load(f)\n",
    "r = get_regret(t)\n",
    "checkbatch = by_cohort(ns,r)\n",
    "for k,v in checkbatch.items():\n",
    "    print(k)\n",
    "    print(np.array(v).mean())"
   ]
  },
  {
   "cell_type": "code",
   "execution_count": 102,
   "metadata": {},
   "outputs": [
    {
     "name": "stdout",
     "output_type": "stream",
     "text": [
      "0\n",
      "26.922104473571082\n",
      "1\n",
      "31.91377330072889\n",
      "2\n",
      "25.420648962785723\n",
      "3\n",
      "34.8726407514544\n",
      "4\n",
      "24.713350289035034\n",
      "5\n",
      "27.95685344779195\n",
      "28.63322853756118\n"
     ]
    }
   ],
   "source": [
    "with open('../../Downloads/regret_case_three_818two_person_dict.pkl','rb') as f:\n",
    "    t = pickle.load(f)\n",
    "r = get_regret(t)\n",
    "alls=[]\n",
    "checkbatch = by_cohort(ns,r)\n",
    "for k,v in checkbatch.items():\n",
    "    print(k)\n",
    "    print(np.array(v).mean())\n",
    "    alls.append(np.array(v).mean())\n",
    "print(np.array(alls).mean())"
   ]
  },
  {
   "cell_type": "code",
   "execution_count": 60,
   "metadata": {},
   "outputs": [],
   "source": [
    "def get_cw(t):\n",
    "    first_day = {}\n",
    "    keys = list(sorted(t.keys()))\n",
    "   \n",
    "    for time_idx in range(len(keys)):\n",
    "        time = keys[time_idx]\n",
    "        people=t[time]\n",
    "        for person in people:\n",
    "            if person not in first_day:\n",
    "                first_day[person]= first_day[person]= [time,time+pd.DateOffset(days=10*7),time+pd.DateOffset(days=10*7)-pd.DateOffset(days=7)]\n",
    "                #[time,time+pd.DateOffset(days=12*7),time+pd.DateOffset(days=12*7)-pd.DateOffset(days=7)]\n",
    "    return first_day"
   ]
  },
  {
   "cell_type": "code",
   "execution_count": 13,
   "metadata": {},
   "outputs": [],
   "source": [
    "def by_cohort(cohorts,regrets,gids):\n",
    "    to_return = {}\n",
    "    gs = {}\n",
    "    for k,v in cohorts.items():\n",
    "        temp = []\n",
    "        tempg=[]\n",
    "        for person in v:\n",
    "            reg = regrets[person]\n",
    "            temp.extend(reg)\n",
    "            tempg.append(gids[person])\n",
    "        to_return[k]=temp\n",
    "        gs[k]=tempg\n",
    "    return to_return,gs"
   ]
  },
  {
   "cell_type": "code",
   "execution_count": 22,
   "metadata": {},
   "outputs": [],
   "source": [
    "def by_cohort_last_week(cohorts,regrets,gids):\n",
    "    to_return = {}\n",
    "    gs = {}\n",
    "    for k,v in cohorts.items():\n",
    "        temp = []\n",
    "        tempg=[]\n",
    "        for person in v:\n",
    "            reg = by_week(person,regrets[person])\n",
    "            temp.extend(reg)\n",
    "            tempg.append(gids[person])\n",
    "        #print(temp)\n",
    "        #print(np.array(temp).mean())\n",
    "        to_return[k]=temp\n",
    "        gs[k]=tempg\n",
    "    return to_return,gs"
   ]
  },
  {
   "cell_type": "code",
   "execution_count": 43,
   "metadata": {},
   "outputs": [],
   "source": [
    "def by_week(person,d):\n",
    "    return [np.array(list(v.values())).mean() for k,v in d.items() if k<cohort_to_week[person][1] and k>=cohort_to_week[person][2]]\n",
    "    "
   ]
  },
  {
   "cell_type": "code",
   "execution_count": 61,
   "metadata": {},
   "outputs": [],
   "source": [
    "with open('../distributions_rl4rl/time_to_active_participants_pop_32_short_staggered_10rn.pkl','rb') as f:\n",
    "    t = pickle.load(f)\n",
    "cohort_to_week = get_cw(t)"
   ]
  },
  {
   "cell_type": "code",
   "execution_count": 116,
   "metadata": {},
   "outputs": [],
   "source": [
    "with open('../../Downloads/regret_Nonequick2.pkl','rb') as f:\n",
    "    ttt = pickle.load(f)\n",
    "    "
   ]
  },
  {
   "cell_type": "code",
   "execution_count": 27,
   "metadata": {},
   "outputs": [],
   "source": [
    "gids = {0: 2,\n",
    " 1: 2,\n",
    " 2: 2,\n",
    " 3: 1,\n",
    " 4: 1,\n",
    " 5: 1,\n",
    " 6: 1,\n",
    " 7: 1,\n",
    " 8: 1,\n",
    " 9: 2,\n",
    " 10: 1,\n",
    " 11: 2,\n",
    " 12: 1,\n",
    " 13: 2,\n",
    " 14: 1,\n",
    " 15: 1,\n",
    " 16: 1,\n",
    " 17: 1,\n",
    " 18: 2,\n",
    " 19: 2,\n",
    " 20: 2,\n",
    " 21: 1,\n",
    " 22: 1,\n",
    " 23: 2,\n",
    " 24: 1,\n",
    " 25: 2,\n",
    " 26: 1,\n",
    " 27: 2,\n",
    " 28: 2,\n",
    " 29: 2,\n",
    " 30: 1,\n",
    " 31: 2}"
   ]
  },
  {
   "cell_type": "code",
   "execution_count": 31,
   "metadata": {},
   "outputs": [],
   "source": [
    "def switch(d):\n",
    "    tr = {}\n",
    "    for time,pdict in d.items():\n",
    "        for k,v in pdict.items():\n",
    "            if k not in tr:\n",
    "                tr[k]={}\n",
    "            tr[k][time]=v\n",
    "    return tr"
   ]
  },
  {
   "cell_type": "code",
   "execution_count": 44,
   "metadata": {},
   "outputs": [],
   "source": [
    "checkbatch = by_cohort_last_week(ns,switch(tt['case_three']['or']),gids)"
   ]
  },
  {
   "cell_type": "code",
   "execution_count": 46,
   "metadata": {},
   "outputs": [
    {
     "name": "stdout",
     "output_type": "stream",
     "text": [
      "0\n",
      "0.12082690678283607\n",
      "1\n",
      "0.1111329898507717\n",
      "2\n",
      "0.11268240342503293\n",
      "3\n",
      "0.10036536751936093\n",
      "4\n",
      "0.0649431590312116\n",
      "5\n",
      "0.06697319520847234\n",
      "0.09615400363628092\n"
     ]
    }
   ],
   "source": [
    "checkbatch = by_cohort_last_week(ns,switch(tt['case_three']['or']),gids)\n",
    "alls = []\n",
    "for k,v in checkbatch[0].items():\n",
    "    print(k)\n",
    "    print(np.array(v).mean())\n",
    "    alls.append(np.array(v).mean())\n",
    "print(np.array(alls).mean())"
   ]
  },
  {
   "cell_type": "code",
   "execution_count": 50,
   "metadata": {},
   "outputs": [
    {
     "name": "stdout",
     "output_type": "stream",
     "text": [
      "0\n",
      "0.06228243884012295\n",
      "1\n",
      "0.07007182871453137\n",
      "2\n",
      "0.06127770560802932\n",
      "3\n",
      "0.10160959906704516\n",
      "4\n",
      "0.06593444282138058\n",
      "5\n",
      "0.07680154070999387\n",
      "0.07299625929351722\n"
     ]
    }
   ],
   "source": [
    "checkbatch = by_cohort_last_week(ns,switch(tt['case_three']['or']),gids)\n",
    "alls = []\n",
    "for k,v in checkbatch[0].items():\n",
    "    print(k)\n",
    "    print(np.array(v).mean())\n",
    "    alls.append(np.array(v).mean())\n",
    "print(np.array(alls).mean())"
   ]
  },
  {
   "cell_type": "code",
   "execution_count": 56,
   "metadata": {},
   "outputs": [],
   "source": [
    "def get_results_new_save_personr(results_path,pop_size,update_time,case,phrase,ophrase):\n",
    "    \n",
    "    \n",
    "    files = os.listdir('{}{}'.format(results_path,case))\n",
    "    \n",
    "    steps = []\n",
    "\n",
    "    #check population and pop_size,update_time\n",
    "    files = [f for f in files if '.DS' not in f and pop_size in f and phrase in f and ophrase not in f and 'update_days_{}'.format(update_time) in f  and '2015' not in f    ]\n",
    "    #files = files[:50]\n",
    "    #print(len(files))\n",
    "    #print(files)\n",
    "    seen = 0 \n",
    "    to_return = {}\n",
    "    to_returno = {}\n",
    "    for ff in files:\n",
    "        sim = int(ff.split('sim_')[1].split('_')[0])\n",
    "        \n",
    "        #try:\n",
    "        with open('{}{}/{}'.format(results_path,case,ff),'rb') as f:\n",
    "            d = pickle.load(f)\n",
    "     \n",
    "            #print(d.keys())\n",
    "            if len(d)>0:\n",
    "                to_return[sim]=d['pregret']\n",
    "                to_returno[sim]=d['poregret']\n",
    "    to_save = {}\n",
    "    to_saveo = {}\n",
    "    for sim in range(20):\n",
    "        for person in range(32):\n",
    "            for time,regret in to_return[sim][person].items():\n",
    "                if time not in to_save:\n",
    "                    to_save[time]={}\n",
    "                if time not in to_saveo:\n",
    "                    to_saveo[time]={}\n",
    "                if person not in to_save[time]:\n",
    "                    to_save[time][person]={}\n",
    "                if person not in to_saveo[time]:\n",
    "                    to_saveo[time][person]={}\n",
    "                to_save[time][person][sim]=regret\n",
    "                to_saveo[time][person][sim]=to_returno[sim][person][time]\n",
    "    return {'r':to_save,'or':to_saveo}\n"
   ]
  },
  {
   "cell_type": "code",
   "execution_count": 87,
   "metadata": {},
   "outputs": [],
   "source": [
    "tt= get_results_new_save_personr('../../Downloads/pooling_results_testing/hob_clipped/','32',7,'case_three','None829quick2lesssocialrev_cond','?')\n"
   ]
  },
  {
   "cell_type": "code",
   "execution_count": 75,
   "metadata": {},
   "outputs": [
    {
     "name": "stdout",
     "output_type": "stream",
     "text": [
      "0\n",
      "0.05952582402156305\n",
      "1\n",
      "0.086449541965737\n",
      "2\n",
      "0.07204016782899314\n",
      "3\n",
      "0.08402815199662832\n",
      "4\n",
      "0.0731940169882202\n",
      "5\n",
      "0.07911950500037904\n",
      "0.07572620130025347\n"
     ]
    }
   ],
   "source": [
    "checkbatch = by_cohort_last_week(ns,switch(tt['or']),gids)\n",
    "alls = []\n",
    "for k,v in checkbatch[0].items():\n",
    "    print(k)\n",
    "    print(np.array(v).mean())\n",
    "    alls.append(np.array(v).mean())\n",
    "print(np.array(alls).mean())"
   ]
  },
  {
   "cell_type": "code",
   "execution_count": 72,
   "metadata": {},
   "outputs": [
    {
     "name": "stdout",
     "output_type": "stream",
     "text": [
      "0\n",
      "0.05377663954955632\n",
      "1\n",
      "0.08338264934863941\n",
      "2\n",
      "0.0509375804031532\n",
      "3\n",
      "0.07133555299861781\n",
      "4\n",
      "0.07190271085787812\n",
      "5\n",
      "0.06829859591696862\n",
      "0.06660562151246892\n"
     ]
    }
   ],
   "source": [
    "checkbatch = by_cohort_last_week(ns,switch(ttt['case_three']['or']),gids)\n",
    "alls = []\n",
    "for k,v in checkbatch[0].items():\n",
    "    print(k)\n",
    "    print(np.array(v).mean())\n",
    "    alls.append(np.array(v).mean())\n",
    "print(np.array(alls).mean())"
   ]
  },
  {
   "cell_type": "code",
   "execution_count": 78,
   "metadata": {},
   "outputs": [],
   "source": [
    "y1 = 0.08230994528221401\n",
    "y2 = 0.06660562151246892\n",
    "y2 = 0.07572620130025347"
   ]
  },
  {
   "cell_type": "code",
   "execution_count": 79,
   "metadata": {},
   "outputs": [
    {
     "data": {
      "text/plain": [
       "0.07998722340765783"
      ]
     },
     "execution_count": 79,
     "metadata": {},
     "output_type": "execute_result"
    }
   ],
   "source": [
    "(y1-y2)/y1"
   ]
  },
  {
   "cell_type": "code",
   "execution_count": 117,
   "metadata": {},
   "outputs": [],
   "source": [
    "# ttt['case_three']['or'][pd.Timestamp('2015-07-27 10:00:00')]"
   ]
  },
  {
   "cell_type": "code",
   "execution_count": 83,
   "metadata": {},
   "outputs": [
    {
     "name": "stdout",
     "output_type": "stream",
     "text": [
      "0.085592817812107\n"
     ]
    }
   ],
   "source": [
    "all_regrets = []\n",
    "for time,pd in ttt['case_three']['or'].items():\n",
    "    for person,per in pd.items():\n",
    "        temp = list(per.values())\n",
    "        all_regrets.extend(temp)\n",
    "print(np.array(all_regrets).mean())"
   ]
  },
  {
   "cell_type": "code",
   "execution_count": 85,
   "metadata": {},
   "outputs": [
    {
     "name": "stdout",
     "output_type": "stream",
     "text": [
      "0.09640215268703825\n"
     ]
    }
   ],
   "source": [
    "all_regrets = []\n",
    "for time,pd in tt['or'].items():\n",
    "    for person,per in pd.items():\n",
    "        temp = list(per.values())\n",
    "        all_regrets.extend(temp)\n",
    "print(np.array(all_regrets).mean())"
   ]
  },
  {
   "cell_type": "code",
   "execution_count": 88,
   "metadata": {},
   "outputs": [
    {
     "name": "stdout",
     "output_type": "stream",
     "text": [
      "0.10380671756441089\n"
     ]
    }
   ],
   "source": [
    "all_regrets = []\n",
    "for time,pd in tt['or'].items():\n",
    "    for person,per in pd.items():\n",
    "        temp = list(per.values())\n",
    "        all_regrets.extend(temp)\n",
    "print(np.array(all_regrets).mean())"
   ]
  },
  {
   "cell_type": "code",
   "execution_count": 92,
   "metadata": {},
   "outputs": [
    {
     "data": {
      "text/plain": [
       "0.11212752592800374"
      ]
     },
     "execution_count": 92,
     "metadata": {},
     "output_type": "execute_result"
    }
   ],
   "source": [
    "y2 = 0.09640215268703825\n",
    "y3 = 0.10380671756441089\n",
    "y1 = 0.085592817812107\n",
    "(y2-y1)/y2"
   ]
  },
  {
   "cell_type": "code",
   "execution_count": 93,
   "metadata": {},
   "outputs": [
    {
     "data": {
      "text/plain": [
       "0.8461538461538461"
      ]
     },
     "execution_count": 93,
     "metadata": {},
     "output_type": "execute_result"
    }
   ],
   "source": [
    "y1 = 0.06\n",
    "y2 = .39\n",
    "(y2-y1)/y2"
   ]
  },
  {
   "cell_type": "code",
   "execution_count": 113,
   "metadata": {},
   "outputs": [],
   "source": [
    "def get_all():\n",
    "    all_regrets = []\n",
    "    for case in ['case_one','case_two','case_three']:\n",
    "        tt= get_results_new_save_personr('../../Downloads/pooling_results_testing/hob_clipped/','32',7,case,'None829longgen_cond_inc','?')\n",
    "      \n",
    "        for time,pd in tt['or'].items():\n",
    "            for person,per in pd.items():\n",
    "                temp = list(per.values())\n",
    "                all_regrets.extend(temp)\n",
    "    return all_regrets"
   ]
  },
  {
   "cell_type": "code",
   "execution_count": 114,
   "metadata": {},
   "outputs": [],
   "source": [
    "hob = get_all()"
   ]
  },
  {
   "cell_type": "code",
   "execution_count": 115,
   "metadata": {},
   "outputs": [
    {
     "data": {
      "text/plain": [
       "0.09118351228063776"
      ]
     },
     "execution_count": 115,
     "metadata": {},
     "output_type": "execute_result"
    }
   ],
   "source": [
    "np.array(hob).mean()"
   ]
  },
  {
   "cell_type": "code",
   "execution_count": 4,
   "metadata": {},
   "outputs": [
    {
     "data": {
      "text/plain": [
       "0.08745503489368864"
      ]
     },
     "execution_count": 4,
     "metadata": {},
     "output_type": "execute_result"
    }
   ],
   "source": [
    "    with open('../../Downloads/regret_group_timeburden.pkl','rb') as f:\n",
    "        ttt = pickle.load(f)\n",
    "    \n",
    "    all_regrets = []\n",
    "    for case in ['case_one','case_two','case_three']:\n",
    "        \n",
    "        for time,pd in ttt[case]['or'].items():\n",
    "            for person,per in pd.items():\n",
    "                temp = np.array(list(per.values())).mean()\n",
    "                all_regrets.append(temp)\n",
    "    np.array(all_regrets).mean()"
   ]
  },
  {
   "cell_type": "code",
   "execution_count": 118,
   "metadata": {},
   "outputs": [
    {
     "data": {
      "text/plain": [
       "0.06931267364229422"
      ]
     },
     "execution_count": 118,
     "metadata": {},
     "output_type": "execute_result"
    }
   ],
   "source": [
    "    all_regrets = []\n",
    "    for case in ['case_one','case_two','case_three']:\n",
    "        \n",
    "        for time,pd in ttt[case]['or'].items():\n",
    "            for person,per in pd.items():\n",
    "                temp = np.array(list(per.values())).mean()\n",
    "                all_regrets.append(temp)\n",
    "    np.array(all_regrets).mean()"
   ]
  },
  {
   "cell_type": "code",
   "execution_count": 106,
   "metadata": {},
   "outputs": [
    {
     "data": {
      "text/plain": [
       "0.1935135732454985"
      ]
     },
     "execution_count": 106,
     "metadata": {},
     "output_type": "execute_result"
    }
   ],
   "source": [
    "(0.08594400518459482-0.06931267364229422)/0.08594400518459482"
   ]
  },
  {
   "cell_type": "code",
   "execution_count": 104,
   "metadata": {},
   "outputs": [
    {
     "data": {
      "text/plain": [
       "0.15336681070030653"
      ]
     },
     "execution_count": 104,
     "metadata": {},
     "output_type": "execute_result"
    }
   ],
   "source": [
    "(0.10017274520501314-0.08480957075382585)/0.10017274520501314"
   ]
  },
  {
   "cell_type": "code",
   "execution_count": 107,
   "metadata": {},
   "outputs": [
    {
     "data": {
      "text/plain": [
       "0.1734401919729025"
      ]
     },
     "execution_count": 107,
     "metadata": {},
     "output_type": "execute_result"
    }
   ],
   "source": [
    "(0.1935135732454985+0.15336681070030653)/2"
   ]
  },
  {
   "cell_type": "code",
   "execution_count": 7,
   "metadata": {},
   "outputs": [],
   "source": [
    "y1 = 0.085592817812107+0.06931267364229422"
   ]
  },
  {
   "cell_type": "code",
   "execution_count": 10,
   "metadata": {},
   "outputs": [],
   "source": [
    "y2 =( 0.10526438964152629+0.09118351228063776+0.08019852627929322+0.08745503489368864)/2"
   ]
  },
  {
   "cell_type": "code",
   "execution_count": 11,
   "metadata": {},
   "outputs": [
    {
     "data": {
      "text/plain": [
       "0.14910810773687125"
      ]
     },
     "execution_count": 11,
     "metadata": {},
     "output_type": "execute_result"
    }
   ],
   "source": [
    "(y2-y1)/y2"
   ]
  },
  {
   "cell_type": "code",
   "execution_count": 4,
   "metadata": {},
   "outputs": [],
   "source": [
    "with open('../../Downloads/population_size_32_update_days_7_short_static_sim_48_pop_0_None92unstaggered_cond.pkl','rb') as f:\n",
    "    temp = pickle.load(f)"
   ]
  },
  {
   "cell_type": "code",
   "execution_count": 49,
   "metadata": {},
   "outputs": [],
   "source": [
    "with open('../../Downloads/results_marianne_sim/GPY/case_three_n/population_size_32_update_days_7_short_static_sim_0_pop_1_burdenstaggered_userCRZ_cond_eps_0.1_STREAM_EB.pkl','rb') as f:\n",
    "    temp = pickle.load(f)"
   ]
  },
  {
   "cell_type": "code",
   "execution_count": 50,
   "metadata": {},
   "outputs": [
    {
     "data": {
      "text/plain": [
       "array([0.00079145, 0.00438757, 0.00539576, 0.00426636, 0.00467049])"
      ]
     },
     "execution_count": 50,
     "metadata": {},
     "output_type": "execute_result"
    }
   ],
   "source": [
    "np.diagonal(temp['pprams'].sigmas2[9])"
   ]
  },
  {
   "cell_type": "code",
   "execution_count": null,
   "metadata": {},
   "outputs": [],
   "source": []
  }
 ],
 "metadata": {
  "kernelspec": {
   "display_name": "Python 3",
   "language": "python",
   "name": "python3"
  },
  "language_info": {
   "codemirror_mode": {
    "name": "ipython",
    "version": 3
   },
   "file_extension": ".py",
   "mimetype": "text/x-python",
   "name": "python",
   "nbconvert_exporter": "python",
   "pygments_lexer": "ipython3",
   "version": "3.6.8"
  }
 },
 "nbformat": 4,
 "nbformat_minor": 2
}
