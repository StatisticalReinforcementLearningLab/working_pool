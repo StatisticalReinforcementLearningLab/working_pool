{
 "cells": [
  {
   "cell_type": "code",
   "execution_count": 1,
   "metadata": {},
   "outputs": [],
   "source": [
    "import numpy as np\n",
    "import pickle\n",
    "import os\n",
    "import math\n",
    "import matplotlib.pyplot as plt\n",
    "import math\n",
    "import numpy as np\n",
    "import sys\n",
    "sys.path\n",
    "from scipy import stats\n",
    "sys.path.append('../simulation')\n",
    "import TS_personal_params_pooled as pp\n",
    "import TS_global_params_pooled as gtp\n",
    "%matplotlib inline"
   ]
  },
  {
   "cell_type": "code",
   "execution_count": 15,
   "metadata": {},
   "outputs": [],
   "source": [
    "def get_to_plot_actions(actions):\n",
    "    \n",
    "    skeys = sorted(actions.keys())\n",
    "    to_plot = []\n",
    "    for k in skeys:\n",
    "        to_plot.append(sum(actions[k])/len(actions[k]))\n",
    "    return to_plot\n",
    "def get_to_plot_regrets(actions):\n",
    "    \n",
    "    skeys = sorted(actions.keys())\n",
    "    to_plot = []\n",
    "    for k in skeys:\n",
    "        to_plot.append(np.array(actions[k]).mean())\n",
    "    return to_plot"
   ]
  },
  {
   "cell_type": "code",
   "execution_count": 3,
   "metadata": {},
   "outputs": [],
   "source": [
    "with open('../../Downloads/results_pfour_new717.pkl','rb') as f:\n",
    "    pooled = pickle.load(f)"
   ]
  },
  {
   "cell_type": "code",
   "execution_count": 21,
   "metadata": {},
   "outputs": [],
   "source": [
    "with open('../../Downloads/cleaned_719.pkl','rb') as f:\n",
    "    pooledtwo = pickle.load(f)"
   ]
  },
  {
   "cell_type": "code",
   "execution_count": 31,
   "metadata": {},
   "outputs": [],
   "source": [
    "def get_decision_times_sims(d,title,save_title,save=False,i=None,ax=None):\n",
    "    actions = {}\n",
    "    regrets ={}\n",
    "    steps = []\n",
    "    for sim,sims in d['actions'].items():\n",
    "        if sim<17:\n",
    "            for k,v in sims.items():\n",
    "                if k not in actions:\n",
    "                    actions[k]=[]\n",
    "                actions[k].extend(v)\n",
    "    for sim,sims in d['regrets'].items():\n",
    "        if sim<17:\n",
    "            for k,v in sims.items():\n",
    "                if k not in regrets:\n",
    "                    regrets[k]=[]\n",
    "                regrets[k].extend(v)\n",
    "   # for sim,sims in d['steps'].items():\n",
    "        \n",
    "           \n",
    "             \n",
    "        #steps[k].extend(sims)\n",
    " \n",
    "    return get_to_plot_actions(actions),get_to_plot_regrets(regrets),steps\n",
    "#,get_to_plot_regrets(steps)"
   ]
  },
  {
   "cell_type": "code",
   "execution_count": 22,
   "metadata": {},
   "outputs": [],
   "source": [
    "def get_all_d(dic):\n",
    "    to_return = {}\n",
    "    cases = ['case_one','case_two','case_three']\n",
    "   \n",
    "    for i in range(len(cases)):\n",
    "        if cases[i] in dic:\n",
    "            case = cases[i]\n",
    "            d = dic[case]\n",
    "            act,regret,steps  = get_decision_times_sims(d,case,case,save=False,i=i,ax=None)\n",
    "            to_return[case]={'actions':act,'regrets':regret,'steps':steps}\n",
    "    return to_return"
   ]
  },
  {
   "cell_type": "code",
   "execution_count": 32,
   "metadata": {},
   "outputs": [],
   "source": [
    "d_one = get_all_d(pooled)\n",
    "d_two = get_all_d(pooledtwo)"
   ]
  },
  {
   "cell_type": "code",
   "execution_count": 27,
   "metadata": {},
   "outputs": [
    {
     "data": {
      "text/plain": [
       "dict_keys([12, 3, 15, 5, 9, 4, 13, 2, 8, 11, 1, 10, 0, 6, 16, 17, 14, 7])"
      ]
     },
     "execution_count": 27,
     "metadata": {},
     "output_type": "execute_result"
    }
   ],
   "source": [
    "pooledtwo['case_three']['actions'].keys()"
   ]
  },
  {
   "cell_type": "code",
   "execution_count": 19,
   "metadata": {},
   "outputs": [],
   "source": [
    "def check_array(darr_one,darr_two):\n",
    "    return set([darr_one[i]==darr_two[i] for i in range(len(darr_one))])"
   ]
  },
  {
   "cell_type": "code",
   "execution_count": 33,
   "metadata": {},
   "outputs": [
    {
     "data": {
      "text/plain": [
       "{False}"
      ]
     },
     "execution_count": 33,
     "metadata": {},
     "output_type": "execute_result"
    }
   ],
   "source": [
    "check_array(d_one['case_three']['actions'],d_two['case_three']['actions'])"
   ]
  },
  {
   "cell_type": "code",
   "execution_count": null,
   "metadata": {},
   "outputs": [],
   "source": []
  }
 ],
 "metadata": {
  "kernelspec": {
   "display_name": "Python 3",
   "language": "python",
   "name": "python3"
  },
  "language_info": {
   "codemirror_mode": {
    "name": "ipython",
    "version": 3
   },
   "file_extension": ".py",
   "mimetype": "text/x-python",
   "name": "python",
   "nbconvert_exporter": "python",
   "pygments_lexer": "ipython3",
   "version": "3.6.8"
  }
 },
 "nbformat": 4,
 "nbformat_minor": 2
}
