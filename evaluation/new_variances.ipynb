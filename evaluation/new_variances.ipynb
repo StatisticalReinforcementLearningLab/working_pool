{
 "cells": [
  {
   "cell_type": "code",
   "execution_count": 1,
   "metadata": {},
   "outputs": [],
   "source": [
    "import pickle\n",
    "import itertools\n",
    "import pandas as pd\n",
    "import numpy as np\n",
    "import matplotlib.pyplot as plt\n",
    "\n",
    "%matplotlib inline"
   ]
  },
  {
   "cell_type": "code",
   "execution_count": 7,
   "metadata": {},
   "outputs": [],
   "source": [
    "with open('../../Downloads/regret_case_three_person_dict.pkl','rb') as f:\n",
    "    pooled = pickle.load(f) "
   ]
  },
  {
   "cell_type": "code",
   "execution_count": 10,
   "metadata": {},
   "outputs": [
    {
     "data": {
      "text/plain": [
       "dict_keys([0, 1, 2, 3, 5, 6, 7, 8, 9, 10, 11, 12, 13, 14, 15, 16, 18, 19, 20, 21, 22, 24, 25, 26, 27, 28, 30, 31])"
      ]
     },
     "execution_count": 10,
     "metadata": {},
     "output_type": "execute_result"
    }
   ],
   "source": [
    "pooled[pd.Timestamp('2015-07-27 10:00:00')]"
   ]
  },
  {
   "cell_type": "code",
   "execution_count": 27,
   "metadata": {},
   "outputs": [],
   "source": [
    "with open('../distributions_rl4rl/time_to_active_participants_pop_32_short_staggered_12.pkl','rb') as f:\n",
    "    act = pickle.load(f)"
   ]
  },
  {
   "cell_type": "code",
   "execution_count": 56,
   "metadata": {},
   "outputs": [],
   "source": [
    "def get_ssw_one_time(a_dict):\n",
    "    \n",
    "    temp = []\n",
    "    for person,sim in a_dict.items():\n",
    "        if person==1:\n",
    "        #print(sim.keys())\n",
    "            my_average = np.array([r for r in list(sim.values())]).mean()\n",
    "        \n",
    "            t = [(r-my_average)**2 for r in list(sim.values())]\n",
    "            temp.append(sum(t))\n",
    "            print(sum(t))\n",
    "            print(my_average)\n",
    "    return sum(temp)\n",
    "    "
   ]
  },
  {
   "cell_type": "code",
   "execution_count": 58,
   "metadata": {},
   "outputs": [],
   "source": [
    "def get_ssb_one_time(a_dict):\n",
    "    \n",
    "    alls = []\n",
    "    \n",
    "    for person,sim in a_dict.items():\n",
    "        t = [r for r in list(sim.values())]\n",
    "        alls.extend(t)\n",
    "    global_mean = np.array(alls).mean()\n",
    "    temp = []\n",
    "    for person,sim in a_dict.items():\n",
    "        if person==1:\n",
    "            print(50*(my_average-global_mean)**2)\n",
    "        my_average = np.array([r for r in list(sim.values())]).mean()\n",
    "        temp.append(50*(my_average-global_mean)**2)\n",
    "        \n",
    "    return sum(temp)\n",
    "        \n",
    "        "
   ]
  },
  {
   "cell_type": "code",
   "execution_count": 33,
   "metadata": {},
   "outputs": [],
   "source": [
    "def get_sst_one_time(a_dict):\n",
    "    \n",
    "    alls = []\n",
    "    \n",
    "    for person,sim in a_dict.items():\n",
    "        t = [r for r in list(sim.values())]\n",
    "        alls.extend(t)\n",
    "    global_mean = np.array(alls).mean()\n",
    "    temp = []\n",
    "    for person,sim in a_dict.items():\n",
    "        \n",
    "        my_average = [(r-global_mean)**2 for r in list(sim.values())]\n",
    "        temp.append(sum(my_average))\n",
    "    return sum(temp)\n",
    "        "
   ]
  },
  {
   "cell_type": "code",
   "execution_count": 61,
   "metadata": {},
   "outputs": [],
   "source": [
    "ssw = get_ssw_one_time(pooled[pd.Timestamp('2015-10-15 19:00:00')])\n",
    "\n",
    "ssb =  get_ssb_one_time(pooled[pd.Timestamp('2015-10-15 19:00:00')])\n",
    "sst =  get_sst_one_time(pooled[pd.Timestamp('2015-10-15 19:00:00')])"
   ]
  },
  {
   "cell_type": "code",
   "execution_count": 63,
   "metadata": {},
   "outputs": [
    {
     "data": {
      "text/plain": [
       "dict_keys([3, 4, 5, 6, 7, 8, 9, 10, 11, 12, 13, 14, 16, 17, 20, 21, 22, 25, 26, 27, 29])"
      ]
     },
     "execution_count": 63,
     "metadata": {},
     "output_type": "execute_result"
    }
   ],
   "source": [
    "pooled[pd.Timestamp('2015-10-15 19:00:00')].keys()"
   ]
  },
  {
   "cell_type": "code",
   "execution_count": 39,
   "metadata": {},
   "outputs": [],
   "source": [
    "def get_all(d):\n",
    "    times_ssw = {}\n",
    "    times_ssb = {}\n",
    "    times_sst = {}\n",
    "    for time in d.keys():\n",
    "        times_ssw[time]=get_ssw_one_time(d[time])\n",
    "        times_ssb[time]=get_ssb_one_time(d[time])\n",
    "        times_sst[time]=get_sst_one_time(d[time])\n",
    "    return times_ssw,times_ssb,times_sst"
   ]
  },
  {
   "cell_type": "code",
   "execution_count": 42,
   "metadata": {},
   "outputs": [],
   "source": [
    "def get_weekly_averages(points):\n",
    "    to_return = []\n",
    "    for i in range(0,len(points),35):\n",
    "        temp = points[i:i+35]\n",
    "        to_return.append(np.array(temp).mean())\n",
    "    return to_return"
   ]
  },
  {
   "cell_type": "code",
   "execution_count": 40,
   "metadata": {},
   "outputs": [],
   "source": [
    "sswall,ssball,sstall = get_all(pooled)"
   ]
  },
  {
   "cell_type": "code",
   "execution_count": 41,
   "metadata": {},
   "outputs": [],
   "source": [
    "to_plot = [sswall[t]/sstall[t] for t in sorted(sstall.keys())]"
   ]
  },
  {
   "cell_type": "code",
   "execution_count": 43,
   "metadata": {},
   "outputs": [],
   "source": [
    "ts2 = get_weekly_averages(to_plot)"
   ]
  },
  {
   "cell_type": "code",
   "execution_count": 44,
   "metadata": {},
   "outputs": [
    {
     "data": {
      "image/png": "[encoded data removed]",
      "text/plain": [
       "<Figure size 432x288 with 1 Axes>"
      ]
     },
     "metadata": {
      "needs_background": "light"
     },
     "output_type": "display_data"
    }
   ],
   "source": [
    "plt.plot(ts2)\n",
    "plt.ylabel('SSW/SST')\n",
    "plt.xlabel('Week of study')\n",
    "plt.title('Algorithms have random seeds')\n",
    "plt.tight_layout()\n",
    "#plt.savefig('between study variance (SSG) over total measure of variability (SST) algorithm random seeds')\n"
   ]
  },
  {
   "cell_type": "code",
   "execution_count": null,
   "metadata": {},
   "outputs": [],
   "source": []
  }
 ],
 "metadata": {
  "kernelspec": {
   "display_name": "Python 3",
   "language": "python",
   "name": "python3"
  },
  "language_info": {
   "codemirror_mode": {
    "name": "ipython",
    "version": 3
   },
   "file_extension": ".py",
   "mimetype": "text/x-python",
   "name": "python",
   "nbconvert_exporter": "python",
   "pygments_lexer": "ipython3",
   "version": "3.6.8"
  }
 },
 "nbformat": 4,
 "nbformat_minor": 2
}
