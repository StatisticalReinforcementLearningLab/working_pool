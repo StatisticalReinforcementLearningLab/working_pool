{
 "cells": [
  {
   "cell_type": "code",
   "execution_count": 1,
   "metadata": {},
   "outputs": [],
   "source": [
    "import numpy as np\n",
    "import pickle\n",
    "import os\n",
    "import math\n",
    "import matplotlib.pyplot as plt\n",
    "import math\n",
    "import numpy as np\n",
    "import sys\n",
    "sys.path\n",
    "from scipy import stats\n",
    "sys.path.append('../simulation')\n",
    "import TS_personal_params_pooled as pp\n",
    "import TS_global_params_pooled as gtp\n",
    "%matplotlib inline"
   ]
  },
  {
   "cell_type": "code",
   "execution_count": 2,
   "metadata": {},
   "outputs": [],
   "source": [
    "def get_interventions(results_path,pop_size,update_time,case,phrase,ophrase):\n",
    "    \n",
    "    \n",
    "    files = os.listdir('{}{}'.format(results_path,case))\n",
    "    \n",
    "    steps = []\n",
    "\n",
    "    #check population and pop_size,update_time\n",
    "    files = [f for f in files if '.DS' not in f and pop_size in f and phrase in f and ophrase not in f and 'update_days_{}'.format(update_time) in f  and '2015' not in f    ]\n",
    "    #files = files[:50]\n",
    "    print(len(files))\n",
    "    #print(files)\n",
    "    seen = 0 \n",
    "    to_return={}\n",
    "    to_return_o={}\n",
    "    for ff in files:\n",
    "        #sim = int(ff.split('sim_')[1].strip('_continuous_pretreatment_base_coef_scale_hybrid.pkl'))\n",
    "        #try:\n",
    "        with open('{}{}/{}'.format(results_path,case,ff),'rb') as f:\n",
    "            d = pickle.load(f)\n",
    "            #print(d['gids'])\n",
    "            #return d\n",
    "            #print(d.keys())\n",
    "            if len(d)>0:\n",
    "            #if int(sim)<60:\n",
    "                for k,v in d['history'].items():\n",
    "                    #print(v.keys())\n",
    "                    #print(d.keys())\n",
    "                    #print(d['actions'])\n",
    "                    #print(k.split('-'))\n",
    "                    gid = int(k.split('-')[-1])\n",
    "                    if gid not in to_return:\n",
    "                        to_return[gid]=[]\n",
    "                    if gid not in to_return_o:\n",
    "                        to_return_o[gid]=[]\n",
    "                    if v['avail'] and v['decision_time']:\n",
    "                        to_return[gid].append(v['action'])\n",
    "                        \n",
    "                        to_return_o[gid].append(v['optimal_action'])\n",
    "                #print(len([k['steps'] for k in d['history'].values() if k['avail'] and k['decision_time']]))\n",
    "        \n",
    "    return to_return,to_return_o\n",
    "\n"
   ]
  },
  {
   "cell_type": "code",
   "execution_count": 13,
   "metadata": {},
   "outputs": [
    {
     "name": "stdout",
     "output_type": "stream",
     "text": [
      "50\n",
      "2\n",
      "0.2830726032892098\n",
      "1\n",
      "0.5819505398815744\n"
     ]
    }
   ],
   "source": [
    "test_batch,test_o_batch = get_interventions('../../Downloads/pooling_results_testing/hob_clipped/','32',7,'case_two','None825basenotreatd7_cond_inc','?')\n",
    "for k,v in test_batch.items():\n",
    "    print(k)\n",
    "    print(np.array(v).mean())"
   ]
  },
  {
   "cell_type": "code",
   "execution_count": 16,
   "metadata": {},
   "outputs": [
    {
     "name": "stdout",
     "output_type": "stream",
     "text": [
      "50\n",
      "2\n",
      "0.29593464680442094\n",
      "1\n",
      "0.5905955851728446\n"
     ]
    }
   ],
   "source": [
    "test_batch,test_o_batch = get_interventions('../../Downloads/pooling_results_testing/hob_clipped/','32',7,'case_two','None829quick2rev','inc')\n",
    "for k,v in test_batch.items():\n",
    "    print(k)\n",
    "    print(np.array(v).mean())"
   ]
  },
  {
   "cell_type": "code",
   "execution_count": 19,
   "metadata": {},
   "outputs": [
    {
     "name": "stdout",
     "output_type": "stream",
     "text": [
      "50\n",
      "2\n",
      "0.3468861124459395\n",
      "1\n",
      "0.5712494793835902\n"
     ]
    }
   ],
   "source": [
    "test_batch,test_o_batch = get_interventions('../../Downloads/pooling_results_testing/hob_clipped/','32',7,'case_two','None829quick2lesssocialrev_cond_inc','?')\n",
    "for k,v in test_batch.items():\n",
    "    print(k)\n",
    "    print(np.array(v).mean())"
   ]
  },
  {
   "cell_type": "code",
   "execution_count": 14,
   "metadata": {},
   "outputs": [
    {
     "name": "stdout",
     "output_type": "stream",
     "text": [
      "50\n",
      "2\n",
      "0.46242671792407497\n",
      "1\n",
      "0.4872344856309871\n"
     ]
    }
   ],
   "source": [
    "test_batch,test_o_batch = get_interventions('../../Downloads/pooling_results_testing/batch/','32',7,'case_two','None829quick2rev','inc')\n",
    "for k,v in test_batch.items():\n",
    "    print(k)\n",
    "    print(np.array(v).mean())"
   ]
  },
  {
   "cell_type": "code",
   "execution_count": 15,
   "metadata": {},
   "outputs": [
    {
     "name": "stdout",
     "output_type": "stream",
     "text": [
      "50\n",
      "2\n",
      "0.49418548774627585\n",
      "1\n",
      "0.65533527696793\n"
     ]
    }
   ],
   "source": [
    "test_batch,test_o_batch = get_interventions('../../Downloads/pooling_results_testing/personalized/','32',7,'case_two','None829quick2rev','inc')\n",
    "for k,v in test_batch.items():\n",
    "    print(k)\n",
    "    print(np.array(v).mean())"
   ]
  },
  {
   "cell_type": "code",
   "execution_count": 17,
   "metadata": {},
   "outputs": [
    {
     "name": "stdout",
     "output_type": "stream",
     "text": [
      "2\n",
      "0.3567467563671312\n",
      "1\n",
      "0.5881091211995002\n"
     ]
    }
   ],
   "source": [
    "#hob_inc\n",
    "with open('../../Downloads/actions_None829quick2_cond.pkl','rb') as f:\n",
    "    pooled = pickle.load(f)\n",
    "for k,v in pooled['case_two'][0].items():\n",
    "    print(k)\n",
    "    print(np.array(v).mean())"
   ]
  },
  {
   "cell_type": "code",
   "execution_count": 58,
   "metadata": {},
   "outputs": [],
   "source": [
    "#type(pooled['case_two'])"
   ]
  },
  {
   "cell_type": "code",
   "execution_count": 67,
   "metadata": {},
   "outputs": [
    {
     "name": "stdout",
     "output_type": "stream",
     "text": [
      "2\n",
      "0.4003890894504613\n",
      "1\n",
      "0.6149529780564263\n"
     ]
    }
   ],
   "source": [
    "#hob_correct\n",
    "for k,v in pooled['case_two'][0].items():\n",
    "    print(k)\n",
    "    print(np.array(v).mean())"
   ]
  },
  {
   "cell_type": "code",
   "execution_count": 29,
   "metadata": {},
   "outputs": [],
   "source": [
    "#Pooling\n",
    "#2\n",
    "#0.2639015019210618\n",
    "#1\n",
    "#0.6541439688715953"
   ]
  },
  {
   "cell_type": "code",
   "execution_count": null,
   "metadata": {},
   "outputs": [],
   "source": []
  }
 ],
 "metadata": {
  "kernelspec": {
   "display_name": "Python 3",
   "language": "python",
   "name": "python3"
  },
  "language_info": {
   "codemirror_mode": {
    "name": "ipython",
    "version": 3
   },
   "file_extension": ".py",
   "mimetype": "text/x-python",
   "name": "python",
   "nbconvert_exporter": "python",
   "pygments_lexer": "ipython3",
   "version": "3.6.8"
  }
 },
 "nbformat": 4,
 "nbformat_minor": 2
}
