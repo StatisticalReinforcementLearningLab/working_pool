{
 "cells": [
  {
   "cell_type": "code",
   "execution_count": 1,
   "metadata": {},
   "outputs": [],
   "source": [
    "import pickle\n",
    "import pandas as pd\n",
    "import os\n",
    "import sys\n",
    "sys.path\n",
    "from scipy import stats\n",
    "sys.path.append('../simulation')\n",
    "import TS_personal_params_pooled as pp\n",
    "import TS_global_params_pooled as gtp\n",
    "import numpy as np"
   ]
  },
  {
   "cell_type": "code",
   "execution_count": 3,
   "metadata": {},
   "outputs": [],
   "source": [
    "with open('../distributions_rl4rl/time_to_active_participants_pop_32_short_staggered_18.pkl','rb') as f:\n",
    "    t = pickle.load(f)"
   ]
  },
  {
   "cell_type": "code",
   "execution_count": 4,
   "metadata": {},
   "outputs": [],
   "source": [
    "seen={}\n",
    "seenset=set([])\n",
    "for k,v in t.items():\n",
    "    for person in v:\n",
    "        if person not in seenset:\n",
    "            seenset.add(person)\n",
    "            if k not in seen:\n",
    "                seen[k]=[]\n",
    "            seen[k].append(person)"
   ]
  },
  {
   "cell_type": "code",
   "execution_count": 5,
   "metadata": {},
   "outputs": [],
   "source": [
    "keys = sorted(seen)\n",
    "ns = {i:seen[keys[i]] for i in range(len(keys))}"
   ]
  },
  {
   "cell_type": "code",
   "execution_count": 6,
   "metadata": {},
   "outputs": [
    {
     "data": {
      "text/plain": [
       "{0: [0, 1, 2, 3, 4],\n",
       " 1: [5, 6, 7, 8, 9, 10, 11, 12, 13, 14],\n",
       " 2: [15, 16, 17, 18, 19],\n",
       " 3: [20, 21, 22, 23],\n",
       " 4: [24, 25, 26, 27],\n",
       " 5: [28, 29, 30, 31]}"
      ]
     },
     "execution_count": 6,
     "metadata": {},
     "output_type": "execute_result"
    }
   ],
   "source": [
    "ns"
   ]
  },
  {
   "cell_type": "code",
   "execution_count": 110,
   "metadata": {},
   "outputs": [],
   "source": [
    "def get_interventions(results_path,pop_size,update_time,case,phrase,ophrase):\n",
    "    \n",
    "    \n",
    "    files = os.listdir('{}{}'.format(results_path,case))\n",
    "    \n",
    "    steps = []\n",
    "\n",
    "    #check population and pop_size,update_time\n",
    "    files = [f for f in files if '.DS' not in f and pop_size in f and phrase in f and ophrase not in f and 'update_days_{}'.format(update_time) in f  and '2015' not in f    ]\n",
    "    #files = files[:50]\n",
    "    print(len(files))\n",
    "    #print(files)\n",
    "    seen = 0 \n",
    "    to_return={}\n",
    "    to_return_o={}\n",
    "    gids = {}\n",
    "    for ff in files:\n",
    "        #sim = int(ff.split('sim_')[1].strip('_continuous_pretreatment_base_coef_scale_hybrid.pkl'))\n",
    "        #try:\n",
    "        with open('{}{}/{}'.format(results_path,case,ff),'rb') as f:\n",
    "            d = pickle.load(f)\n",
    "            #print(d['gids'])\n",
    "            #return d\n",
    "            #print(d.keys())\n",
    "            if len(d)>0:\n",
    "            #if int(sim)<60:\n",
    "                for k,v in d['history'].items():\n",
    "                    #print(v.keys())\n",
    "                    #print(d.keys())\n",
    "                    #print(d['actions'])\n",
    "                    #print(k.split('-'))\n",
    "                    gid = int(k.split('-')[0])\n",
    "                    rgid = int(k.split('-')[-1])\n",
    "                    if gid not in to_return:\n",
    "                        to_return[gid]=[]\n",
    "                    if gid not in to_return_o:\n",
    "                        to_return_o[gid]=[]\n",
    "                    gids[gid]=rgid\n",
    "                    if v['avail'] and v['decision_time']:\n",
    "                        to_return[gid].append(v['action'])\n",
    "                        \n",
    "                        to_return_o[gid].append(v['other_action'])\n",
    "               \n",
    "                #print(len([k['steps'] for k in d['history'].values() if k['avail'] and k['decision_time']]))\n",
    "        \n",
    "    return to_return,to_return_o,gids\n",
    "\n"
   ]
  },
  {
   "cell_type": "code",
   "execution_count": 22,
   "metadata": {},
   "outputs": [],
   "source": [
    "def get_regret(p):\n",
    "    to_return={}\n",
    "    for time,dicts in p.items():\n",
    "        for person,sims in dicts.items():\n",
    "            if person not in to_return:\n",
    "                to_return[person]={}\n",
    "            for sim,r in sims.items():\n",
    "                if sim not in to_return[person]:\n",
    "                    to_return[person][sim]=[]\n",
    "                to_return[person][sim].append(r)\n",
    "                \n",
    "    for person in to_return:\n",
    "        for sim in to_return[person]:\n",
    "            to_return[person][sim]=sum(to_return[person][sim])\n",
    "    return to_return"
   ]
  },
  {
   "cell_type": "code",
   "execution_count": 28,
   "metadata": {},
   "outputs": [
    {
     "name": "stdout",
     "output_type": "stream",
     "text": [
      "50\n"
     ]
    }
   ],
   "source": [
    "t= get_interventions('../../Downloads/pooling_results_testing/personalized/','32',7,'case_two','burden816747time_cond','inc')\n",
    "#r = get_regret(t)"
   ]
  },
  {
   "cell_type": "code",
   "execution_count": 29,
   "metadata": {},
   "outputs": [
    {
     "data": {
      "text/plain": [
       "{0: 2,\n",
       " 1: 2,\n",
       " 2: 2,\n",
       " 3: 1,\n",
       " 4: 1,\n",
       " 5: 1,\n",
       " 6: 1,\n",
       " 7: 1,\n",
       " 8: 1,\n",
       " 9: 2,\n",
       " 10: 1,\n",
       " 11: 2,\n",
       " 12: 1,\n",
       " 13: 2,\n",
       " 14: 1,\n",
       " 15: 1,\n",
       " 16: 1,\n",
       " 17: 1,\n",
       " 18: 2,\n",
       " 19: 2,\n",
       " 20: 2,\n",
       " 21: 1,\n",
       " 22: 1,\n",
       " 23: 2,\n",
       " 24: 1,\n",
       " 25: 2,\n",
       " 26: 1,\n",
       " 27: 2,\n",
       " 28: 2,\n",
       " 29: 2,\n",
       " 30: 1,\n",
       " 31: 2}"
      ]
     },
     "execution_count": 29,
     "metadata": {},
     "output_type": "execute_result"
    }
   ],
   "source": [
    "#r = get_regret(t)\n",
    "\n",
    "t[2]"
   ]
  },
  {
   "cell_type": "code",
   "execution_count": 34,
   "metadata": {},
   "outputs": [],
   "source": [
    "def by_cohort(cohorts,regrets,gids):\n",
    "    to_return = {}\n",
    "    gs = {}\n",
    "    for k,v in cohorts.items():\n",
    "        temp = []\n",
    "        tempg=[]\n",
    "        for person in v:\n",
    "            reg = regrets[person]\n",
    "            temp.extend(reg)\n",
    "            tempg.append(gids[person])\n",
    "        to_return[k]=temp\n",
    "        gs[k]=tempg\n",
    "    return to_return,gs"
   ]
  },
  {
   "cell_type": "code",
   "execution_count": null,
   "metadata": {},
   "outputs": [],
   "source": []
  },
  {
   "cell_type": "code",
   "execution_count": 36,
   "metadata": {},
   "outputs": [
    {
     "name": "stdout",
     "output_type": "stream",
     "text": [
      "0\n",
      "0.5894736842105263\n",
      "0.44903674280039724\n",
      "1.6\n",
      "1\n",
      "0.6255314960629921\n",
      "0.7068602362204724\n",
      "1.3\n",
      "2\n",
      "0.6051851851851852\n",
      "0.6213213213213213\n",
      "1.4\n",
      "3\n",
      "0.5869221260815822\n",
      "0.5338689740420272\n",
      "1.5\n",
      "4\n",
      "0.6149174078780177\n",
      "0.5605336721728081\n",
      "1.5\n",
      "5\n",
      "0.5633893919793014\n",
      "0.3516946959896507\n",
      "1.75\n"
     ]
    }
   ],
   "source": [
    "checkbatch = by_cohort(ns,t[0],t[2])\n",
    "checktrue = by_cohort(ns,t[1],t[2])\n",
    "#checkbatch = by_cohort(ns,r)\n",
    "for k,v in checkbatch[0].items():\n",
    "    print(k)\n",
    "    print(np.array(v).mean())\n",
    "    print(np.array(checktrue[0][k]).mean())\n",
    "    print(np.array(checktrue[1][k]).mean())"
   ]
  },
  {
   "cell_type": "code",
   "execution_count": 114,
   "metadata": {},
   "outputs": [
    {
     "name": "stdout",
     "output_type": "stream",
     "text": [
      "50\n",
      "0\n",
      "0.5837562437562438\n",
      "0.35264735264735264\n",
      "1.6\n",
      "-0.23110889110889116\n",
      "1\n",
      "0.5899706457925636\n",
      "0.6148434442270059\n",
      "1.3\n",
      "0.024872798434442234\n",
      "2\n",
      "0.5793587174348698\n",
      "0.3324248496993988\n",
      "1.4\n",
      "-0.246933867735471\n",
      "3\n",
      "0.5342962962962963\n",
      "0.3934814814814815\n",
      "1.5\n",
      "-0.14081481481481478\n",
      "4\n",
      "0.531190781049936\n",
      "0.7346222791293214\n",
      "1.5\n",
      "0.20343149807938543\n",
      "5\n",
      "0.5115197956577267\n",
      "0.566411238825032\n",
      "1.75\n",
      "0.05489144316730532\n",
      "0.9020533133403099\n"
     ]
    }
   ],
   "source": [
    "t= get_interventions('../../Downloads/pooling_results_testing/batch/','32',7,'case_three','burden818twotimesaveshortmajorityr','inc')\n",
    "checkbatch = by_cohort(ns,t[0],t[2])\n",
    "checktrue = by_cohort(ns,t[1],t[2])\n",
    "#checkbatch = by_cohort(ns,r)\n",
    "checks=[]\n",
    "for k,v in checkbatch[0].items():\n",
    "    print(k)\n",
    "    print(np.array(v).mean())\n",
    "    print(np.array(checktrue[0][k]).mean())\n",
    "    print(np.array(checktrue[1][k]).mean())\n",
    "    print(np.array(checktrue[0][k]).mean()-np.array(v).mean())\n",
    "    checks.append(abs(np.array(checktrue[0][k]).mean()-np.array(v).mean()))\n",
    "print(np.array(checks).sum())"
   ]
  },
  {
   "cell_type": "code",
   "execution_count": 127,
   "metadata": {},
   "outputs": [
    {
     "name": "stdout",
     "output_type": "stream",
     "text": [
      "50\n",
      "0\n",
      "0.5967825223435949\n",
      "0.2755312810327706\n",
      "1.6\n",
      "-0.3212512413108243\n",
      "1\n",
      "0.6269389763779527\n",
      "0.42796259842519685\n",
      "1.3\n",
      "-0.19897637795275586\n",
      "2\n",
      "0.6092892892892893\n",
      "0.383003003003003\n",
      "1.4\n",
      "-0.22628628628628628\n",
      "3\n",
      "0.5917428924598269\n",
      "0.3286032138442522\n",
      "1.5\n",
      "-0.26313967861557475\n",
      "4\n",
      "0.6232274459974587\n",
      "0.3524015247776366\n",
      "1.5\n",
      "-0.27082592121982213\n",
      "5\n",
      "0.5726002587322122\n",
      "0.22095730918499354\n",
      "1.75\n",
      "-0.35164294954721864\n",
      "1.6321224549324818\n",
      "0.6079912595598564\n"
     ]
    }
   ],
   "source": [
    "t= get_interventions('../../Downloads/pooling_results_testing/personalized/','32',7,'case_two','burden818twotimesaveshortmajoritymellong','?')\n",
    "checkbatch = by_cohort(ns,t[0],t[2])\n",
    "checktrue = by_cohort(ns,t[1],t[2])\n",
    "#checkbatch = by_cohort(ns,r)\n",
    "checks=[]\n",
    "avs=[]\n",
    "sent = []\n",
    "for k,v in checkbatch[0].items():\n",
    "    print(k)\n",
    "    print(np.array(v).mean())\n",
    "    sent.extend(v)\n",
    "    print(np.array(checktrue[0][k]).mean())\n",
    "    print(np.array(checktrue[1][k]).mean())\n",
    "    print(np.array(checktrue[0][k]).mean()-np.array(v).mean())\n",
    "    checks.append(abs(np.array(checktrue[0][k]).mean()-np.array(v).mean()))\n",
    "    avs.extend(checktrue[0][k])\n",
    "print(np.array(checks).sum())\n",
    "print(np.array(sent).mean())"
   ]
  },
  {
   "cell_type": "code",
   "execution_count": 130,
   "metadata": {},
   "outputs": [
    {
     "name": "stdout",
     "output_type": "stream",
     "text": [
      "50\n",
      "0\n",
      "0.6742062572421784\n",
      "0.6574971031286211\n",
      "1.6\n",
      "-0.016709154113557334\n",
      "1\n",
      "0.6952562574493445\n",
      "0.6604886769964243\n",
      "1.3\n",
      "-0.034767580452920166\n",
      "2\n",
      "0.6943230403800476\n",
      "0.6479097387173397\n",
      "1.4\n",
      "-0.04641330166270785\n",
      "3\n",
      "0.6809954751131222\n",
      "0.6796681749622926\n",
      "1.5\n",
      "-0.0013273001508296023\n",
      "4\n",
      "0.6888650306748466\n",
      "0.6910736196319018\n",
      "1.5\n",
      "0.002208588957055224\n",
      "5\n",
      "0.6619879518072289\n",
      "0.6675903614457831\n",
      "1.75\n",
      "0.005602409638554184\n",
      "0.10702833497562436\n",
      "0.6850615441999254\n"
     ]
    }
   ],
   "source": [
    "t= get_interventions('../../Downloads/pooling_results_testing/batch/','32',7,'case_one','burden818twotimesaveshortmajoritysmall','?')\n",
    "checkbatch = by_cohort(ns,t[0],t[2])\n",
    "checktrue = by_cohort(ns,t[1],t[2])\n",
    "#checkbatch = by_cohort(ns,r)\n",
    "checks=[]\n",
    "avs=[]\n",
    "sent = []\n",
    "for k,v in checkbatch[0].items():\n",
    "    print(k)\n",
    "    print(np.array(v).mean())\n",
    "    sent.extend(v)\n",
    "    print(np.array(checktrue[0][k]).mean())\n",
    "    print(np.array(checktrue[1][k]).mean())\n",
    "    print(np.array(checktrue[0][k]).mean()-np.array(v).mean())\n",
    "    checks.append(abs(np.array(checktrue[0][k]).mean()-np.array(v).mean()))\n",
    "    avs.extend(checktrue[0][k])\n",
    "print(np.array(checks).sum())\n",
    "print(np.array(sent).mean())"
   ]
  },
  {
   "cell_type": "code",
   "execution_count": 74,
   "metadata": {},
   "outputs": [
    {
     "data": {
      "text/plain": [
       "0.5351198377581121"
      ]
     },
     "execution_count": 74,
     "metadata": {},
     "output_type": "execute_result"
    }
   ],
   "source": [
    "56"
   ]
  },
  {
   "cell_type": "code",
   "execution_count": 128,
   "metadata": {},
   "outputs": [
    {
     "name": "stdout",
     "output_type": "stream",
     "text": [
      "0\n",
      "0.48006952491309385\n",
      "0.36152954808806487\n",
      "1.6\n",
      "[2 2 2 1 1]\n",
      "-0.11853997682502898\n",
      "1\n",
      "0.4656019070321812\n",
      "0.54388557806913\n",
      "1.3\n",
      "[1 1 1 1 2 1 2 1 2 1]\n",
      "0.07828367103694878\n",
      "2\n",
      "0.39660332541567694\n",
      "0.4781710213776722\n",
      "1.4\n",
      "[1 1 1 2 2]\n",
      "0.08156769596199526\n",
      "3\n",
      "0.43677224736048265\n",
      "0.42470588235294116\n",
      "1.5\n",
      "[2 1 1 2]\n",
      "-0.01206636500754149\n",
      "4\n",
      "0.43049079754601227\n",
      "0.4480061349693252\n",
      "1.5\n",
      "[1 2 1 2]\n",
      "0.017515337423312904\n",
      "5\n",
      "0.409789156626506\n",
      "0.2929518072289157\n",
      "1.75\n",
      "[2 2 1 2]\n",
      "-0.11683734939759033\n",
      "0.42481039565241774\n",
      "0.44234986945169713\n"
     ]
    }
   ],
   "source": [
    "with open('../../Downloads/actions_burden818twotimesaveshortmajoritysmall.pkl','rb') as f:\n",
    "    tt = pickle.load(f)\n",
    "t=tt['case_two']\n",
    "checkbatch = by_cohort(ns,t[0],t[2])\n",
    "checktrue = by_cohort(ns,t[1],t[2])\n",
    "avs = []\n",
    "#checkbatch = by_cohort(ns,r)\n",
    "checks = []\n",
    "sent=[]\n",
    "for k,v in checkbatch[0].items():\n",
    "    print(k)\n",
    "    sent.extend(v)\n",
    "    print(np.array(v).mean())\n",
    "    print(np.array(checktrue[0][k]).mean())\n",
    "    print(np.array(checktrue[1][k]).mean())\n",
    "    print(np.array(checktrue[1][k]))\n",
    "    print(np.array(checktrue[0][k]).mean()-np.array(v).mean())\n",
    "    avs.extend(checktrue[0][k])\n",
    "    checks.append(abs(np.array(checktrue[0][k]).mean()-np.array(v).mean()))\n",
    "print(np.array(checks).sum())\n",
    "print(np.array(sent).mean())"
   ]
  },
  {
   "cell_type": "code",
   "execution_count": 84,
   "metadata": {},
   "outputs": [
    {
     "name": "stdout",
     "output_type": "stream",
     "text": [
      "51\n",
      "0\n",
      "0.562785348743603\n",
      "0.4158357771260997\n",
      "[2 2 2 1 1]\n",
      "1.6\n",
      "0.14694957161750327\n",
      "1\n",
      "0.6127892598480834\n",
      "0.6780062795243061\n",
      "[1 1 1 1 2 1 2 1 2 1]\n",
      "1.3\n",
      "0.06521701967622273\n",
      "2\n",
      "0.5877482867777507\n",
      "0.5960390069688432\n",
      "[1 1 1 2 2]\n",
      "1.4\n",
      "0.008290720191092449\n",
      "3\n",
      "0.5739141586867305\n",
      "0.5103311673506612\n",
      "[2 1 1 2]\n",
      "1.5\n",
      "0.06358299133606926\n",
      "4\n",
      "0.5883842898861672\n",
      "0.5062131235472913\n",
      "[1 2 1 2]\n",
      "1.5\n",
      "0.08217116633887589\n",
      "5\n",
      "0.5429544069333572\n",
      "0.2991273840847939\n",
      "[2 2 1 2]\n",
      "1.75\n",
      "0.24382702284856328\n",
      "0.6100384920083268\n",
      "0.5846437763896118\n"
     ]
    }
   ],
   "source": [
    "t= get_interventions('../../Downloads/pooling_results_testing/personalized/','32',7,'case_two','None818two','inc')\n",
    "checkbatch = by_cohort(ns,t[0],t[2])\n",
    "checktrue = by_cohort(ns,t[1],t[2])\n",
    "#checkbatch = by_cohort(ns,r)\n",
    "checks=[]\n",
    "avs=[]\n",
    "sent=[]\n",
    "for k,v in checkbatch[0].items():\n",
    "    print(k)\n",
    "    sent.extend(v)\n",
    "    print(np.array(v).mean())\n",
    "    print(np.array(checktrue[0][k]).mean())\n",
    "    print(np.array(checktrue[1][k]))\n",
    "    print(np.array(checktrue[1][k]).mean())\n",
    "    print(abs(np.array(checktrue[0][k]).mean()-np.array(v).mean()))\n",
    "    avs.extend(checktrue[0][k])\n",
    "    checks.append(abs(np.array(checktrue[0][k]).mean()-np.array(v).mean()))\n",
    "print(np.array(checks).sum())\n",
    "print(np.array(sent).mean())"
   ]
  },
  {
   "cell_type": "code",
   "execution_count": 55,
   "metadata": {},
   "outputs": [
    {
     "name": "stdout",
     "output_type": "stream",
     "text": [
      "50\n",
      "0\n",
      "0.5424281524926686\n",
      "0.4403284457478006\n",
      "1.6\n",
      "0.10209970674486801\n",
      "1\n",
      "0.5359197907585004\n",
      "0.69521650682941\n",
      "1.3\n",
      "0.15929671607090967\n",
      "2\n",
      "0.5331756357185098\n",
      "0.6212891780011828\n",
      "1.4\n",
      "0.08811354228267299\n",
      "3\n",
      "0.5301162790697674\n",
      "0.5284302325581396\n",
      "1.5\n",
      "0.0016860465116278478\n",
      "4\n",
      "0.5277811550151976\n",
      "0.5354863221884498\n",
      "1.5\n",
      "0.007705167173252203\n",
      "5\n",
      "0.516194086429113\n",
      "0.3333737680060652\n",
      "1.75\n",
      "0.1828203184230478\n",
      "0.5417214972063785\n"
     ]
    }
   ],
   "source": [
    "t= get_interventions('../../Downloads/pooling_results_testing/batch/','32',7,'case_two','None818','inc')\n",
    "checkbatch = by_cohort(ns,t[0],t[2])\n",
    "checktrue = by_cohort(ns,t[1],t[2])\n",
    "#checkbatch = by_cohort(ns,r)\n",
    "checks=[]\n",
    "for k,v in checkbatch[0].items():\n",
    "    print(k)\n",
    "    print(np.array(v).mean())\n",
    "    print(np.array(checktrue[0][k]).mean())\n",
    "    print(np.array(checktrue[1][k]).mean())\n",
    "    print(abs(np.array(checktrue[0][k]).mean()-np.array(v).mean()))\n",
    "    checks.append(abs(np.array(checktrue[0][k]).mean()-np.array(v).mean()))\n",
    "print(np.array(checks).sum())"
   ]
  },
  {
   "cell_type": "code",
   "execution_count": 22,
   "metadata": {},
   "outputs": [
    {
     "name": "stdout",
     "output_type": "stream",
     "text": [
      "51\n",
      "0\n",
      "0.6160948193285555\n",
      "0.644496762801648\n",
      "1\n",
      "0.626173319023526\n",
      "0.7852961051202989\n",
      "2\n",
      "0.618111149785358\n",
      "0.5204316045945006\n",
      "3\n",
      "0.6182095205547724\n",
      "0.5524513363805944\n",
      "4\n",
      "0.6262535548570574\n",
      "0.9622960634635533\n",
      "5\n",
      "0.6203850909733263\n",
      "0.8103397515162221\n"
     ]
    }
   ],
   "source": [
    "t= get_interventions('../../Downloads/pooling_results_testing/batch/','32',7,'case_three','burden817731','inc')\n",
    "checkbatch = by_cohort(ns,t[0])\n",
    "checktrue = by_cohort(ns,t[1])\n",
    "#checkbatch = by_cohort(ns,r)\n",
    "for k,v in checkbatch.items():\n",
    "    print(k)\n",
    "    print(np.array(v).mean())\n",
    "    print(np.array(checktrue[k]).mean())"
   ]
  },
  {
   "cell_type": "code",
   "execution_count": 79,
   "metadata": {},
   "outputs": [
    {
     "name": "stdout",
     "output_type": "stream",
     "text": [
      "0\n",
      "39.89120000000001\n",
      "1\n",
      "40.1758\n",
      "2\n",
      "39.13459999999999\n",
      "3\n",
      "39.0105\n",
      "4\n",
      "36.780750000000005\n",
      "5\n",
      "37.34375\n"
     ]
    }
   ],
   "source": [
    "t= get_results_new_save_person('../../Downloads/pooling_results_testing/hob_clipped/','32',7,'case_one','burden817731','inc')\n",
    "r = get_regret(t)\n",
    "checkbatch = by_cohort(ns,r)\n",
    "for k,v in checkbatch.items():\n",
    "    print(k)\n",
    "    print(np.array(v).mean())"
   ]
  },
  {
   "cell_type": "code",
   "execution_count": 80,
   "metadata": {},
   "outputs": [
    {
     "name": "stdout",
     "output_type": "stream",
     "text": [
      "0\n",
      "37.969800000000006\n",
      "1\n",
      "38.65089999999999\n",
      "2\n",
      "37.04579999999999\n",
      "3\n",
      "36.618500000000004\n",
      "4\n",
      "33.86125\n",
      "5\n",
      "33.88075\n"
     ]
    }
   ],
   "source": [
    "t= get_results_new_save_person('../../Downloads/pooling_results_testing/hob_clipped/','32',7,'case_two','burden817731','inc')\n",
    "r = get_regret(t)\n",
    "checkbatch = by_cohort(ns,r)\n",
    "for k,v in checkbatch.items():\n",
    "    print(k)\n",
    "    print(np.array(v).mean())"
   ]
  },
  {
   "cell_type": "code",
   "execution_count": 81,
   "metadata": {},
   "outputs": [
    {
     "name": "stdout",
     "output_type": "stream",
     "text": [
      "0\n",
      "39.35122467712511\n",
      "1\n",
      "51.40097696795171\n",
      "2\n",
      "35.7128585044465\n",
      "3\n",
      "50.26213872618795\n",
      "4\n",
      "41.86718708297336\n",
      "5\n",
      "42.24147302469068\n"
     ]
    }
   ],
   "source": [
    "t= get_results_new_save_person('../../Downloads/pooling_results_testing/hob_clipped/','32',7,'case_three','burden817731','inc')\n",
    "r = get_regret(t)\n",
    "checkbatch = by_cohort(ns,r)\n",
    "for k,v in checkbatch.items():\n",
    "    print(k)\n",
    "    print(np.array(v).mean())"
   ]
  },
  {
   "cell_type": "code",
   "execution_count": 82,
   "metadata": {},
   "outputs": [
    {
     "name": "stdout",
     "output_type": "stream",
     "text": [
      "0\n",
      "44.41660000000003\n",
      "1\n",
      "42.650600000000004\n",
      "2\n",
      "42.46820000000002\n",
      "3\n",
      "43.229750000000024\n",
      "4\n",
      "41.22400000000002\n",
      "5\n",
      "44.77775000000003\n"
     ]
    }
   ],
   "source": [
    "t= get_results_new_save_person('../../Downloads/pooling_results_testing/personalized/','32',7,'case_two','burden817731','inc')\n",
    "r = get_regret(t)\n",
    "checkbatch = by_cohort(ns,r)\n",
    "for k,v in checkbatch.items():\n",
    "    print(k)\n",
    "    print(np.array(v).mean())"
   ]
  },
  {
   "cell_type": "code",
   "execution_count": 83,
   "metadata": {},
   "outputs": [
    {
     "name": "stdout",
     "output_type": "stream",
     "text": [
      "0\n",
      "37.551800000000014\n",
      "1\n",
      "38.54310000000001\n",
      "2\n",
      "38.2934\n",
      "3\n",
      "38.209250000000004\n",
      "4\n",
      "34.943000000000005\n",
      "5\n",
      "36.87225000000001\n"
     ]
    }
   ],
   "source": [
    "t= get_results_new_save_person('../../Downloads/pooling_results_testing/personalized/','32',7,'case_one','burden817731','inc')\n",
    "r = get_regret(t)\n",
    "checkbatch = by_cohort(ns,r)\n",
    "for k,v in checkbatch.items():\n",
    "    print(k)\n",
    "    print(np.array(v).mean())"
   ]
  },
  {
   "cell_type": "code",
   "execution_count": 84,
   "metadata": {},
   "outputs": [
    {
     "name": "stdout",
     "output_type": "stream",
     "text": [
      "0\n",
      "40.16774222776907\n",
      "1\n",
      "51.92544741193913\n",
      "2\n",
      "42.09993268056138\n",
      "3\n",
      "54.46384500485858\n",
      "4\n",
      "42.634115429602744\n",
      "5\n",
      "42.585435238668175\n"
     ]
    }
   ],
   "source": [
    "t= get_results_new_save_person('../../Downloads/pooling_results_testing/personalized/','32',7,'case_three','burden817731','inc')\n",
    "r = get_regret(t)\n",
    "checkbatch = by_cohort(ns,r)\n",
    "for k,v in checkbatch.items():\n",
    "    print(k)\n",
    "    print(np.array(v).mean())"
   ]
  },
  {
   "cell_type": "code",
   "execution_count": 61,
   "metadata": {},
   "outputs": [
    {
     "name": "stdout",
     "output_type": "stream",
     "text": [
      "0\n",
      "21.745600000000007\n",
      "1\n",
      "23.173500000000008\n",
      "2\n",
      "24.748000000000008\n",
      "3\n",
      "23.859500000000004\n",
      "4\n",
      "22.418750000000003\n",
      "5\n",
      "20.159000000000002\n"
     ]
    }
   ],
   "source": [
    "with open('../../Downloads/regret_case_two_816747_person_dict.pkl','rb') as f:\n",
    "    t = pickle.load(f)\n",
    "r = get_regret(t)\n",
    "checkbatch = by_cohort(ns,r)\n",
    "for k,v in checkbatch.items():\n",
    "    print(k)\n",
    "    print(np.array(v).mean())"
   ]
  },
  {
   "cell_type": "code",
   "execution_count": 62,
   "metadata": {},
   "outputs": [
    {
     "name": "stdout",
     "output_type": "stream",
     "text": [
      "0\n",
      "18.397400000000005\n",
      "1\n",
      "19.87680000000001\n",
      "2\n",
      "19.95180000000001\n",
      "3\n",
      "21.617000000000008\n",
      "4\n",
      "19.92750000000001\n",
      "5\n",
      "22.53550000000001\n"
     ]
    }
   ],
   "source": [
    "with open('../../Downloads/regret_case_one_816747_person_dict.pkl','rb') as f:\n",
    "    t = pickle.load(f)\n",
    "r = get_regret(t)\n",
    "checkbatch = by_cohort(ns,r)\n",
    "for k,v in checkbatch.items():\n",
    "    print(k)\n",
    "    print(np.array(v).mean())"
   ]
  },
  {
   "cell_type": "code",
   "execution_count": 63,
   "metadata": {},
   "outputs": [
    {
     "name": "stdout",
     "output_type": "stream",
     "text": [
      "0\n",
      "20.31489657902877\n",
      "1\n",
      "33.41000131562465\n",
      "2\n",
      "21.584929740941437\n",
      "3\n",
      "34.48508551484087\n",
      "4\n",
      "31.67013433264591\n",
      "5\n",
      "28.544910313535265\n"
     ]
    }
   ],
   "source": [
    "with open('../../Downloads/regret_case_three_816747_person_dict.pkl','rb') as f:\n",
    "    t = pickle.load(f)\n",
    "r = get_regret(t)\n",
    "checkbatch = by_cohort(ns,r)\n",
    "for k,v in checkbatch.items():\n",
    "    print(k)\n",
    "    print(np.array(v).mean())"
   ]
  },
  {
   "cell_type": "code",
   "execution_count": null,
   "metadata": {},
   "outputs": [],
   "source": []
  }
 ],
 "metadata": {
  "kernelspec": {
   "display_name": "Python 3",
   "language": "python",
   "name": "python3"
  },
  "language_info": {
   "codemirror_mode": {
    "name": "ipython",
    "version": 3
   },
   "file_extension": ".py",
   "mimetype": "text/x-python",
   "name": "python",
   "nbconvert_exporter": "python",
   "pygments_lexer": "ipython3",
   "version": "3.6.8"
  }
 },
 "nbformat": 4,
 "nbformat_minor": 2
}
