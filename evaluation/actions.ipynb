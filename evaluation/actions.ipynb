{
 "cells": [
  {
   "cell_type": "code",
   "execution_count": 1,
   "metadata": {},
   "outputs": [],
   "source": [
    "import pickle\n",
    "import pandas as pd\n",
    "import os\n",
    "import sys\n",
    "sys.path\n",
    "from scipy import stats\n",
    "sys.path.append('../simulation')\n",
    "import TS_personal_params_pooled as pp\n",
    "import TS_global_params_pooled as gtp\n",
    "import numpy as np"
   ]
  },
  {
   "cell_type": "code",
   "execution_count": 3,
   "metadata": {},
   "outputs": [],
   "source": [
    "with open('../distributions_rl4rl/time_to_active_participants_pop_32_short_staggered_18.pkl','rb') as f:\n",
    "    t = pickle.load(f)"
   ]
  },
  {
   "cell_type": "code",
   "execution_count": 4,
   "metadata": {},
   "outputs": [],
   "source": [
    "seen={}\n",
    "seenset=set([])\n",
    "for k,v in t.items():\n",
    "    for person in v:\n",
    "        if person not in seenset:\n",
    "            seenset.add(person)\n",
    "            if k not in seen:\n",
    "                seen[k]=[]\n",
    "            seen[k].append(person)"
   ]
  },
  {
   "cell_type": "code",
   "execution_count": 5,
   "metadata": {},
   "outputs": [],
   "source": [
    "keys = sorted(seen)\n",
    "ns = {i:seen[keys[i]] for i in range(len(keys))}"
   ]
  },
  {
   "cell_type": "code",
   "execution_count": 6,
   "metadata": {},
   "outputs": [
    {
     "data": {
      "text/plain": [
       "{0: [0, 1, 2, 3, 4],\n",
       " 1: [5, 6, 7, 8, 9, 10, 11, 12, 13, 14],\n",
       " 2: [15, 16, 17, 18, 19],\n",
       " 3: [20, 21, 22, 23],\n",
       " 4: [24, 25, 26, 27],\n",
       " 5: [28, 29, 30, 31]}"
      ]
     },
     "execution_count": 6,
     "metadata": {},
     "output_type": "execute_result"
    }
   ],
   "source": [
    "ns"
   ]
  },
  {
   "cell_type": "code",
   "execution_count": 27,
   "metadata": {},
   "outputs": [],
   "source": [
    "def get_interventions(results_path,pop_size,update_time,case,phrase,ophrase):\n",
    "    \n",
    "    \n",
    "    files = os.listdir('{}{}'.format(results_path,case))\n",
    "    \n",
    "    steps = []\n",
    "\n",
    "    #check population and pop_size,update_time\n",
    "    files = [f for f in files if '.DS' not in f and pop_size in f and phrase in f and ophrase not in f and 'update_days_{}'.format(update_time) in f  and '2015' not in f    ]\n",
    "    #files = files[:50]\n",
    "    print(len(files))\n",
    "    #print(files)\n",
    "    seen = 0 \n",
    "    to_return={}\n",
    "    to_return_o={}\n",
    "    gids = {}\n",
    "    for ff in files:\n",
    "        #sim = int(ff.split('sim_')[1].strip('_continuous_pretreatment_base_coef_scale_hybrid.pkl'))\n",
    "        #try:\n",
    "        with open('{}{}/{}'.format(results_path,case,ff),'rb') as f:\n",
    "            d = pickle.load(f)\n",
    "            #print(d['gids'])\n",
    "            #return d\n",
    "            #print(d.keys())\n",
    "            if len(d)>0:\n",
    "            #if int(sim)<60:\n",
    "                for k,v in d['history'].items():\n",
    "                    #print(v.keys())\n",
    "                    #print(d.keys())\n",
    "                    #print(d['actions'])\n",
    "                    #print(k.split('-'))\n",
    "                    gid = int(k.split('-')[0])\n",
    "                    rgid = int(k.split('-')[-1])\n",
    "                    if gid not in to_return:\n",
    "                        to_return[gid]=[]\n",
    "                    if gid not in to_return_o:\n",
    "                        to_return_o[gid]=[]\n",
    "                    gids[gid]=rgid\n",
    "                    if v['avail'] and v['decision_time']:\n",
    "                        to_return[gid].append(v['action'])\n",
    "                        \n",
    "                        to_return_o[gid].append(v['optimal_action'])\n",
    "               \n",
    "                #print(len([k['steps'] for k in d['history'].values() if k['avail'] and k['decision_time']]))\n",
    "        \n",
    "    return to_return,to_return_o,gids\n",
    "\n"
   ]
  },
  {
   "cell_type": "code",
   "execution_count": 22,
   "metadata": {},
   "outputs": [],
   "source": [
    "def get_regret(p):\n",
    "    to_return={}\n",
    "    for time,dicts in p.items():\n",
    "        for person,sims in dicts.items():\n",
    "            if person not in to_return:\n",
    "                to_return[person]={}\n",
    "            for sim,r in sims.items():\n",
    "                if sim not in to_return[person]:\n",
    "                    to_return[person][sim]=[]\n",
    "                to_return[person][sim].append(r)\n",
    "                \n",
    "    for person in to_return:\n",
    "        for sim in to_return[person]:\n",
    "            to_return[person][sim]=sum(to_return[person][sim])\n",
    "    return to_return"
   ]
  },
  {
   "cell_type": "code",
   "execution_count": 28,
   "metadata": {},
   "outputs": [
    {
     "name": "stdout",
     "output_type": "stream",
     "text": [
      "50\n"
     ]
    }
   ],
   "source": [
    "t= get_interventions('../../Downloads/pooling_results_testing/personalized/','32',7,'case_two','burden816747time_cond','inc')\n",
    "#r = get_regret(t)"
   ]
  },
  {
   "cell_type": "code",
   "execution_count": 29,
   "metadata": {},
   "outputs": [
    {
     "data": {
      "text/plain": [
       "{0: 2,\n",
       " 1: 2,\n",
       " 2: 2,\n",
       " 3: 1,\n",
       " 4: 1,\n",
       " 5: 1,\n",
       " 6: 1,\n",
       " 7: 1,\n",
       " 8: 1,\n",
       " 9: 2,\n",
       " 10: 1,\n",
       " 11: 2,\n",
       " 12: 1,\n",
       " 13: 2,\n",
       " 14: 1,\n",
       " 15: 1,\n",
       " 16: 1,\n",
       " 17: 1,\n",
       " 18: 2,\n",
       " 19: 2,\n",
       " 20: 2,\n",
       " 21: 1,\n",
       " 22: 1,\n",
       " 23: 2,\n",
       " 24: 1,\n",
       " 25: 2,\n",
       " 26: 1,\n",
       " 27: 2,\n",
       " 28: 2,\n",
       " 29: 2,\n",
       " 30: 1,\n",
       " 31: 2}"
      ]
     },
     "execution_count": 29,
     "metadata": {},
     "output_type": "execute_result"
    }
   ],
   "source": [
    "#r = get_regret(t)\n",
    "\n",
    "t[2]"
   ]
  },
  {
   "cell_type": "code",
   "execution_count": 34,
   "metadata": {},
   "outputs": [],
   "source": [
    "def by_cohort(cohorts,regrets,gids):\n",
    "    to_return = {}\n",
    "    gs = {}\n",
    "    for k,v in cohorts.items():\n",
    "        temp = []\n",
    "        tempg=[]\n",
    "        for person in v:\n",
    "            reg = regrets[person]\n",
    "            temp.extend(reg)\n",
    "            tempg.append(gids[person])\n",
    "        to_return[k]=temp\n",
    "        gs[k]=tempg\n",
    "    return to_return,gs"
   ]
  },
  {
   "cell_type": "code",
   "execution_count": 36,
   "metadata": {},
   "outputs": [
    {
     "name": "stdout",
     "output_type": "stream",
     "text": [
      "0\n",
      "0.5894736842105263\n",
      "0.44903674280039724\n",
      "1.6\n",
      "1\n",
      "0.6255314960629921\n",
      "0.7068602362204724\n",
      "1.3\n",
      "2\n",
      "0.6051851851851852\n",
      "0.6213213213213213\n",
      "1.4\n",
      "3\n",
      "0.5869221260815822\n",
      "0.5338689740420272\n",
      "1.5\n",
      "4\n",
      "0.6149174078780177\n",
      "0.5605336721728081\n",
      "1.5\n",
      "5\n",
      "0.5633893919793014\n",
      "0.3516946959896507\n",
      "1.75\n"
     ]
    }
   ],
   "source": [
    "checkbatch = by_cohort(ns,t[0],t[2])\n",
    "checktrue = by_cohort(ns,t[1],t[2])\n",
    "#checkbatch = by_cohort(ns,r)\n",
    "for k,v in checkbatch[0].items():\n",
    "    print(k)\n",
    "    print(np.array(v).mean())\n",
    "    print(np.array(checktrue[0][k]).mean())\n",
    "    print(np.array(checktrue[1][k]).mean())"
   ]
  },
  {
   "cell_type": "code",
   "execution_count": 67,
   "metadata": {},
   "outputs": [
    {
     "name": "stdout",
     "output_type": "stream",
     "text": [
      "50\n",
      "0\n",
      "0.5185571847507331\n",
      "0.39872140762463343\n",
      "1.6\n",
      "-0.11983577712609966\n",
      "1\n",
      "0.5102818947980239\n",
      "0.6773031095611741\n",
      "1.3\n",
      "0.16702121476315024\n",
      "2\n",
      "0.5069071555292726\n",
      "0.5887640449438202\n",
      "1.4\n",
      "0.0818568894145476\n",
      "3\n",
      "0.5007703488372093\n",
      "0.4901017441860465\n",
      "1.5\n",
      "-0.01066860465116276\n",
      "4\n",
      "0.4997720364741641\n",
      "0.5010030395136779\n",
      "1.5\n",
      "0.001231003039513734\n",
      "5\n",
      "0.48978013646702045\n",
      "0.2699014404852161\n",
      "1.75\n",
      "-0.21987869598180437\n",
      "0.6004921849762783\n"
     ]
    }
   ],
   "source": [
    "t= get_interventions('../../Downloads/pooling_results_testing/batch/','32',7,'case_two','818two','inc')\n",
    "checkbatch = by_cohort(ns,t[0],t[2])\n",
    "checktrue = by_cohort(ns,t[1],t[2])\n",
    "#checkbatch = by_cohort(ns,r)\n",
    "checks=[]\n",
    "for k,v in checkbatch[0].items():\n",
    "    print(k)\n",
    "    print(np.array(v).mean())\n",
    "    print(np.array(checktrue[0][k]).mean())\n",
    "    print(np.array(checktrue[1][k]).mean())\n",
    "    print(np.array(checktrue[0][k]).mean()-np.array(v).mean())\n",
    "    checks.append(abs(np.array(checktrue[0][k]).mean()-np.array(v).mean()))\n",
    "print(np.array(checks).sum())"
   ]
  },
  {
   "cell_type": "code",
   "execution_count": 59,
   "metadata": {},
   "outputs": [
    {
     "name": "stdout",
     "output_type": "stream",
     "text": [
      "0\n",
      "0.552525014714538\n",
      "0.6477928193054738\n",
      "1.6\n",
      "0.09526780459093587\n",
      "1\n",
      "0.6132580364900087\n",
      "0.7802200984651028\n",
      "1.3\n",
      "0.1669620619750941\n",
      "2\n",
      "0.49444970414201184\n",
      "0.4954792899408284\n",
      "1.4\n",
      "0.001029585798816568\n",
      "3\n",
      "0.494161220043573\n",
      "0.5175744371822804\n",
      "1.5\n",
      "0.023413217138707365\n",
      "4\n",
      "0.6792213740458015\n",
      "0.9625954198473282\n",
      "1.5\n",
      "0.2833740458015267\n",
      "5\n",
      "0.5782432432432433\n",
      "0.8074024024024024\n",
      "1.75\n",
      "0.22915915915915908\n",
      "0.7992058744642396\n"
     ]
    }
   ],
   "source": [
    "with open('../../Downloads/actions_818.pkl','rb') as f:\n",
    "    tt = pickle.load(f)\n",
    "t=tt['case_three']\n",
    "checkbatch = by_cohort(ns,t[0],t[2])\n",
    "checktrue = by_cohort(ns,t[1],t[2])\n",
    "#checkbatch = by_cohort(ns,r)\n",
    "checks = []\n",
    "for k,v in checkbatch[0].items():\n",
    "    print(k)\n",
    "    print(np.array(v).mean())\n",
    "    print(np.array(checktrue[0][k]).mean())\n",
    "    print(np.array(checktrue[1][k]).mean())\n",
    "    print(np.array(checktrue[0][k]).mean()-np.array(v).mean())\n",
    "    checks.append(abs(np.array(checktrue[0][k]).mean()-np.array(v).mean()))\n",
    "print(np.array(checks).sum())"
   ]
  },
  {
   "cell_type": "code",
   "execution_count": 58,
   "metadata": {},
   "outputs": [
    {
     "name": "stdout",
     "output_type": "stream",
     "text": [
      "43\n",
      "0\n",
      "0.5771670190274841\n",
      "0.4398690581736343\n",
      "[2 2 2 1 1]\n",
      "1.6\n",
      "0.13729796085384982\n",
      "1\n",
      "0.6330771882159729\n",
      "0.6945858086143157\n",
      "[1 1 1 1 2 1 2 1 2 1]\n",
      "1.3\n",
      "0.06150862039834282\n",
      "2\n",
      "0.607236670196526\n",
      "0.6202742288174055\n",
      "[1 1 1 2 2]\n",
      "1.4\n",
      "0.013037558620879408\n",
      "3\n",
      "0.5827643320713899\n",
      "0.52756557598702\n",
      "[2 1 1 2]\n",
      "1.5\n",
      "0.05519875608436986\n",
      "4\n",
      "0.6064006503145544\n",
      "0.534724676609882\n",
      "[1 2 1 2]\n",
      "1.5\n",
      "0.07167597370467238\n",
      "5\n",
      "0.5432057407831867\n",
      "0.3321579068004302\n",
      "[2 2 1 2]\n",
      "1.75\n",
      "0.2110478339827565\n",
      "0.5497667036448708\n"
     ]
    }
   ],
   "source": [
    "t= get_interventions('../../Downloads/pooling_results_testing/personalized/','32',7,'case_two','818','inc')\n",
    "checkbatch = by_cohort(ns,t[0],t[2])\n",
    "checktrue = by_cohort(ns,t[1],t[2])\n",
    "#checkbatch = by_cohort(ns,r)\n",
    "checks=[]\n",
    "for k,v in checkbatch[0].items():\n",
    "    print(k)\n",
    "    print(np.array(v).mean())\n",
    "    print(np.array(checktrue[0][k]).mean())\n",
    "    print(np.array(checktrue[1][k]))\n",
    "    print(np.array(checktrue[1][k]).mean())\n",
    "    print(abs(np.array(checktrue[0][k]).mean()-np.array(v).mean()))\n",
    "    checks.append(abs(np.array(checktrue[0][k]).mean()-np.array(v).mean()))\n",
    "print(np.array(checks).sum())"
   ]
  },
  {
   "cell_type": "code",
   "execution_count": 55,
   "metadata": {},
   "outputs": [
    {
     "name": "stdout",
     "output_type": "stream",
     "text": [
      "50\n",
      "0\n",
      "0.5424281524926686\n",
      "0.4403284457478006\n",
      "1.6\n",
      "0.10209970674486801\n",
      "1\n",
      "0.5359197907585004\n",
      "0.69521650682941\n",
      "1.3\n",
      "0.15929671607090967\n",
      "2\n",
      "0.5331756357185098\n",
      "0.6212891780011828\n",
      "1.4\n",
      "0.08811354228267299\n",
      "3\n",
      "0.5301162790697674\n",
      "0.5284302325581396\n",
      "1.5\n",
      "0.0016860465116278478\n",
      "4\n",
      "0.5277811550151976\n",
      "0.5354863221884498\n",
      "1.5\n",
      "0.007705167173252203\n",
      "5\n",
      "0.516194086429113\n",
      "0.3333737680060652\n",
      "1.75\n",
      "0.1828203184230478\n",
      "0.5417214972063785\n"
     ]
    }
   ],
   "source": [
    "t= get_interventions('../../Downloads/pooling_results_testing/batch/','32',7,'case_two','None818','inc')\n",
    "checkbatch = by_cohort(ns,t[0],t[2])\n",
    "checktrue = by_cohort(ns,t[1],t[2])\n",
    "#checkbatch = by_cohort(ns,r)\n",
    "checks=[]\n",
    "for k,v in checkbatch[0].items():\n",
    "    print(k)\n",
    "    print(np.array(v).mean())\n",
    "    print(np.array(checktrue[0][k]).mean())\n",
    "    print(np.array(checktrue[1][k]).mean())\n",
    "    print(abs(np.array(checktrue[0][k]).mean()-np.array(v).mean()))\n",
    "    checks.append(abs(np.array(checktrue[0][k]).mean()-np.array(v).mean()))\n",
    "print(np.array(checks).sum())"
   ]
  },
  {
   "cell_type": "code",
   "execution_count": 22,
   "metadata": {},
   "outputs": [
    {
     "name": "stdout",
     "output_type": "stream",
     "text": [
      "51\n",
      "0\n",
      "0.6160948193285555\n",
      "0.644496762801648\n",
      "1\n",
      "0.626173319023526\n",
      "0.7852961051202989\n",
      "2\n",
      "0.618111149785358\n",
      "0.5204316045945006\n",
      "3\n",
      "0.6182095205547724\n",
      "0.5524513363805944\n",
      "4\n",
      "0.6262535548570574\n",
      "0.9622960634635533\n",
      "5\n",
      "0.6203850909733263\n",
      "0.8103397515162221\n"
     ]
    }
   ],
   "source": [
    "t= get_interventions('../../Downloads/pooling_results_testing/batch/','32',7,'case_three','burden817731','inc')\n",
    "checkbatch = by_cohort(ns,t[0])\n",
    "checktrue = by_cohort(ns,t[1])\n",
    "#checkbatch = by_cohort(ns,r)\n",
    "for k,v in checkbatch.items():\n",
    "    print(k)\n",
    "    print(np.array(v).mean())\n",
    "    print(np.array(checktrue[k]).mean())"
   ]
  },
  {
   "cell_type": "code",
   "execution_count": 79,
   "metadata": {},
   "outputs": [
    {
     "name": "stdout",
     "output_type": "stream",
     "text": [
      "0\n",
      "39.89120000000001\n",
      "1\n",
      "40.1758\n",
      "2\n",
      "39.13459999999999\n",
      "3\n",
      "39.0105\n",
      "4\n",
      "36.780750000000005\n",
      "5\n",
      "37.34375\n"
     ]
    }
   ],
   "source": [
    "t= get_results_new_save_person('../../Downloads/pooling_results_testing/hob_clipped/','32',7,'case_one','burden817731','inc')\n",
    "r = get_regret(t)\n",
    "checkbatch = by_cohort(ns,r)\n",
    "for k,v in checkbatch.items():\n",
    "    print(k)\n",
    "    print(np.array(v).mean())"
   ]
  },
  {
   "cell_type": "code",
   "execution_count": 80,
   "metadata": {},
   "outputs": [
    {
     "name": "stdout",
     "output_type": "stream",
     "text": [
      "0\n",
      "37.969800000000006\n",
      "1\n",
      "38.65089999999999\n",
      "2\n",
      "37.04579999999999\n",
      "3\n",
      "36.618500000000004\n",
      "4\n",
      "33.86125\n",
      "5\n",
      "33.88075\n"
     ]
    }
   ],
   "source": [
    "t= get_results_new_save_person('../../Downloads/pooling_results_testing/hob_clipped/','32',7,'case_two','burden817731','inc')\n",
    "r = get_regret(t)\n",
    "checkbatch = by_cohort(ns,r)\n",
    "for k,v in checkbatch.items():\n",
    "    print(k)\n",
    "    print(np.array(v).mean())"
   ]
  },
  {
   "cell_type": "code",
   "execution_count": 81,
   "metadata": {},
   "outputs": [
    {
     "name": "stdout",
     "output_type": "stream",
     "text": [
      "0\n",
      "39.35122467712511\n",
      "1\n",
      "51.40097696795171\n",
      "2\n",
      "35.7128585044465\n",
      "3\n",
      "50.26213872618795\n",
      "4\n",
      "41.86718708297336\n",
      "5\n",
      "42.24147302469068\n"
     ]
    }
   ],
   "source": [
    "t= get_results_new_save_person('../../Downloads/pooling_results_testing/hob_clipped/','32',7,'case_three','burden817731','inc')\n",
    "r = get_regret(t)\n",
    "checkbatch = by_cohort(ns,r)\n",
    "for k,v in checkbatch.items():\n",
    "    print(k)\n",
    "    print(np.array(v).mean())"
   ]
  },
  {
   "cell_type": "code",
   "execution_count": 82,
   "metadata": {},
   "outputs": [
    {
     "name": "stdout",
     "output_type": "stream",
     "text": [
      "0\n",
      "44.41660000000003\n",
      "1\n",
      "42.650600000000004\n",
      "2\n",
      "42.46820000000002\n",
      "3\n",
      "43.229750000000024\n",
      "4\n",
      "41.22400000000002\n",
      "5\n",
      "44.77775000000003\n"
     ]
    }
   ],
   "source": [
    "t= get_results_new_save_person('../../Downloads/pooling_results_testing/personalized/','32',7,'case_two','burden817731','inc')\n",
    "r = get_regret(t)\n",
    "checkbatch = by_cohort(ns,r)\n",
    "for k,v in checkbatch.items():\n",
    "    print(k)\n",
    "    print(np.array(v).mean())"
   ]
  },
  {
   "cell_type": "code",
   "execution_count": 83,
   "metadata": {},
   "outputs": [
    {
     "name": "stdout",
     "output_type": "stream",
     "text": [
      "0\n",
      "37.551800000000014\n",
      "1\n",
      "38.54310000000001\n",
      "2\n",
      "38.2934\n",
      "3\n",
      "38.209250000000004\n",
      "4\n",
      "34.943000000000005\n",
      "5\n",
      "36.87225000000001\n"
     ]
    }
   ],
   "source": [
    "t= get_results_new_save_person('../../Downloads/pooling_results_testing/personalized/','32',7,'case_one','burden817731','inc')\n",
    "r = get_regret(t)\n",
    "checkbatch = by_cohort(ns,r)\n",
    "for k,v in checkbatch.items():\n",
    "    print(k)\n",
    "    print(np.array(v).mean())"
   ]
  },
  {
   "cell_type": "code",
   "execution_count": 84,
   "metadata": {},
   "outputs": [
    {
     "name": "stdout",
     "output_type": "stream",
     "text": [
      "0\n",
      "40.16774222776907\n",
      "1\n",
      "51.92544741193913\n",
      "2\n",
      "42.09993268056138\n",
      "3\n",
      "54.46384500485858\n",
      "4\n",
      "42.634115429602744\n",
      "5\n",
      "42.585435238668175\n"
     ]
    }
   ],
   "source": [
    "t= get_results_new_save_person('../../Downloads/pooling_results_testing/personalized/','32',7,'case_three','burden817731','inc')\n",
    "r = get_regret(t)\n",
    "checkbatch = by_cohort(ns,r)\n",
    "for k,v in checkbatch.items():\n",
    "    print(k)\n",
    "    print(np.array(v).mean())"
   ]
  },
  {
   "cell_type": "code",
   "execution_count": 61,
   "metadata": {},
   "outputs": [
    {
     "name": "stdout",
     "output_type": "stream",
     "text": [
      "0\n",
      "21.745600000000007\n",
      "1\n",
      "23.173500000000008\n",
      "2\n",
      "24.748000000000008\n",
      "3\n",
      "23.859500000000004\n",
      "4\n",
      "22.418750000000003\n",
      "5\n",
      "20.159000000000002\n"
     ]
    }
   ],
   "source": [
    "with open('../../Downloads/regret_case_two_816747_person_dict.pkl','rb') as f:\n",
    "    t = pickle.load(f)\n",
    "r = get_regret(t)\n",
    "checkbatch = by_cohort(ns,r)\n",
    "for k,v in checkbatch.items():\n",
    "    print(k)\n",
    "    print(np.array(v).mean())"
   ]
  },
  {
   "cell_type": "code",
   "execution_count": 62,
   "metadata": {},
   "outputs": [
    {
     "name": "stdout",
     "output_type": "stream",
     "text": [
      "0\n",
      "18.397400000000005\n",
      "1\n",
      "19.87680000000001\n",
      "2\n",
      "19.95180000000001\n",
      "3\n",
      "21.617000000000008\n",
      "4\n",
      "19.92750000000001\n",
      "5\n",
      "22.53550000000001\n"
     ]
    }
   ],
   "source": [
    "with open('../../Downloads/regret_case_one_816747_person_dict.pkl','rb') as f:\n",
    "    t = pickle.load(f)\n",
    "r = get_regret(t)\n",
    "checkbatch = by_cohort(ns,r)\n",
    "for k,v in checkbatch.items():\n",
    "    print(k)\n",
    "    print(np.array(v).mean())"
   ]
  },
  {
   "cell_type": "code",
   "execution_count": 63,
   "metadata": {},
   "outputs": [
    {
     "name": "stdout",
     "output_type": "stream",
     "text": [
      "0\n",
      "20.31489657902877\n",
      "1\n",
      "33.41000131562465\n",
      "2\n",
      "21.584929740941437\n",
      "3\n",
      "34.48508551484087\n",
      "4\n",
      "31.67013433264591\n",
      "5\n",
      "28.544910313535265\n"
     ]
    }
   ],
   "source": [
    "with open('../../Downloads/regret_case_three_816747_person_dict.pkl','rb') as f:\n",
    "    t = pickle.load(f)\n",
    "r = get_regret(t)\n",
    "checkbatch = by_cohort(ns,r)\n",
    "for k,v in checkbatch.items():\n",
    "    print(k)\n",
    "    print(np.array(v).mean())"
   ]
  },
  {
   "cell_type": "code",
   "execution_count": null,
   "metadata": {},
   "outputs": [],
   "source": []
  }
 ],
 "metadata": {
  "kernelspec": {
   "display_name": "Python 3",
   "language": "python",
   "name": "python3"
  },
  "language_info": {
   "codemirror_mode": {
    "name": "ipython",
    "version": 3
   },
   "file_extension": ".py",
   "mimetype": "text/x-python",
   "name": "python",
   "nbconvert_exporter": "python",
   "pygments_lexer": "ipython3",
   "version": "3.6.8"
  }
 },
 "nbformat": 4,
 "nbformat_minor": 2
}
