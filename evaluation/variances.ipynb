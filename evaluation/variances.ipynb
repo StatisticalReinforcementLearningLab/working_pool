{
 "cells": [
  {
   "cell_type": "code",
   "execution_count": 53,
   "metadata": {},
   "outputs": [],
   "source": [
    "import pickle\n",
    "import itertools\n",
    "import pandas as pd\n",
    "import numpy as np\n",
    "import matplotlib.pyplot as plt\n",
    "import os\n",
    "%matplotlib inline\n",
    "import sys\n",
    "sys.path\n",
    "from scipy import stats\n",
    "sys.path.append('../simulation')\n",
    "import TS_personal_params_pooled as pp\n",
    "import TS_global_params_pooled as gtp"
   ]
  },
  {
   "cell_type": "code",
   "execution_count": 2,
   "metadata": {},
   "outputs": [],
   "source": [
    "def group_by_time_stamp(case_dict):\n",
    "    to_return={}\n",
    "    \n",
    "    for sim,data in case_dict.items():\n",
    "        \n",
    "        for date,results in data.items():\n",
    "            if date not in to_return:\n",
    "                to_return[date]={}\n",
    "            to_return[date][sim]=results\n",
    "    return to_return"
   ]
  },
  {
   "cell_type": "code",
   "execution_count": 36,
   "metadata": {},
   "outputs": [],
   "source": [
    "def get_all():\n",
    "    #to_return = {}\n",
    "    #for pn in range(10):\n",
    "    with open('../../Downloads/four_testingstaggered.pkl'.format(pn),'rb') as f:\n",
    "            pooled = pickle.load(f)      \n",
    "            #temp = group_by_time_stamp(['case_two']['regrets'])\n",
    "            to_return=pooled['case_three']['regrets']\n",
    "    return to_return"
   ]
  },
  {
   "cell_type": "code",
   "execution_count": 37,
   "metadata": {},
   "outputs": [],
   "source": [
    "def get_regret_at_time(alls):\n",
    "    to_return = {}\n",
    "    \n",
    "    for population in range(10):\n",
    "        temp = group_by_time_stamp(alls[population])\n",
    "        \n",
    "        for time,v in temp.items():\n",
    "            if time not in to_return:\n",
    "                to_return[time]={}\n",
    "            #td = {}\n",
    "            for sim_id,regrets in v.items():\n",
    "                new_key  = '{}-{}'.format(population,sim_id)\n",
    "                to_return[time][sim_id]=regrets\n",
    "            #to_return[time]=td\n",
    "    return to_return"
   ]
  },
  {
   "cell_type": "code",
   "execution_count": 38,
   "metadata": {},
   "outputs": [],
   "source": [
    "def get_population_averages(a_dict,key):\n",
    "    to_return = {}\n",
    "    for k,v in a_dict.items():\n",
    "        temp = {}\n",
    "        for lk,vals in v.items():\n",
    "            #print(lk)\n",
    "            population_id = int(lk.split('-')[key])\n",
    "            if population_id not in temp:\n",
    "                temp[population_id]=[]\n",
    "            temp[population_id].extend(vals)\n",
    "        to_return[k]= {kk:np.array(vv).mean() for kk,vv in temp.items()}\n",
    "    return to_return"
   ]
  },
  {
   "cell_type": "code",
   "execution_count": 15,
   "metadata": {},
   "outputs": [],
   "source": [
    "def ssg(big_dict,smaller_dict):\n",
    "    to_return = []\n",
    "    #print(big_dict.values())\n",
    "    meanc = np.array([np.array(v).mean() for v in big_dict.values()]).mean()\n",
    "    for i in range(10):\n",
    "       \n",
    "        to_return.append(50*(smaller_dict[i]-meanc)**2)\n",
    "    return sum(to_return)"
   ]
  },
  {
   "cell_type": "code",
   "execution_count": 16,
   "metadata": {},
   "outputs": [],
   "source": [
    "def get_s2(big_dict):\n",
    "    to_return = {}\n",
    "    \n",
    "    shelpers =  get_population_averages(big_dict,0)      \n",
    "    for time,ld in big_dict.items():\n",
    "        to_return[time]=ssg(ld,shelpers[time])\n",
    "    return to_return   "
   ]
  },
  {
   "cell_type": "code",
   "execution_count": 17,
   "metadata": {},
   "outputs": [],
   "source": [
    "def ssw(big_dict,smaller_dict):\n",
    "    to_return = []\n",
    "    for i in range(10):\n",
    "        smaller_val = smaller_dict[i]\n",
    "        #print(smaller_val)\n",
    "        temp = [(np.array(regrets).mean()-smaller_val)**2 for k,regrets in big_dict.items() if int(k.split('-')[0])==i]\n",
    "        #print(temp)\n",
    "        #print(len(temp))\n",
    "        to_return.extend(temp)\n",
    "    return sum(to_return)"
   ]
  },
  {
   "cell_type": "code",
   "execution_count": 18,
   "metadata": {},
   "outputs": [],
   "source": [
    "def get_s1(big_dict):\n",
    "    to_return = {}\n",
    "    \n",
    "    shelpers =  get_population_averages(big_dict,0)      \n",
    "    for time,ld in big_dict.items():\n",
    "        to_return[time]=ssw(ld,shelpers[time])\n",
    "    return to_return      "
   ]
  },
  {
   "cell_type": "code",
   "execution_count": 19,
   "metadata": {},
   "outputs": [],
   "source": [
    "def get_sst(big_dict):\n",
    "    to_return = {}\n",
    "    \n",
    "    for time,data in big_dict.items():\n",
    "        #means = [np.array(v).mean() for v in big_dict.values()]\n",
    "        \n",
    "        all_values = [np.array(v).mean() for v in data.values()]\n",
    "        #print(len(all_values))\n",
    "        meanc = np.array(all_values).mean()\n",
    "        temp = [(i-meanc)**2 for i in all_values]\n",
    "        to_return[time]=sum(temp)\n",
    "    return to_return"
   ]
  },
  {
   "cell_type": "code",
   "execution_count": 22,
   "metadata": {},
   "outputs": [],
   "source": [
    "p = get_all()"
   ]
  },
  {
   "cell_type": "code",
   "execution_count": 35,
   "metadata": {},
   "outputs": [
    {
     "data": {
      "text/plain": [
       "dict_keys([0, 1, 2, 3, 4, 5, 6, 7, 8, 9])"
      ]
     },
     "execution_count": 35,
     "metadata": {},
     "output_type": "execute_result"
    }
   ],
   "source": [
    "p.keys()"
   ]
  },
  {
   "cell_type": "code",
   "execution_count": 23,
   "metadata": {},
   "outputs": [],
   "source": [
    "nd = get_regret_at_time(p)"
   ]
  },
  {
   "cell_type": "code",
   "execution_count": 24,
   "metadata": {},
   "outputs": [],
   "source": [
    "t = get_population_averages(nd,0)"
   ]
  },
  {
   "cell_type": "code",
   "execution_count": 25,
   "metadata": {},
   "outputs": [],
   "source": [
    "psmall = t[pd.Timestamp('2015-07-27 10:00:00')]\n",
    "\n",
    "pbig = nd[pd.Timestamp('2015-07-27 10:00:00')]\n"
   ]
  },
  {
   "cell_type": "code",
   "execution_count": 26,
   "metadata": {},
   "outputs": [],
   "source": [
    "tr =group_by_time_stamp(p[0])"
   ]
  },
  {
   "cell_type": "code",
   "execution_count": 27,
   "metadata": {},
   "outputs": [],
   "source": [
    "#within\n",
    "s1 = get_s1(nd)\n"
   ]
  },
  {
   "cell_type": "code",
   "execution_count": 28,
   "metadata": {},
   "outputs": [],
   "source": [
    "#between\n",
    "s2 = get_s2(nd)"
   ]
  },
  {
   "cell_type": "code",
   "execution_count": 29,
   "metadata": {},
   "outputs": [],
   "source": [
    "st = get_sst(nd)"
   ]
  },
  {
   "cell_type": "code",
   "execution_count": 30,
   "metadata": {},
   "outputs": [],
   "source": [
    "checks = [(s1[t]+s2[t])-st[t] for t in st.keys()]"
   ]
  },
  {
   "cell_type": "code",
   "execution_count": 31,
   "metadata": {},
   "outputs": [],
   "source": [
    "def get_weekly_averages(points):\n",
    "    to_return = []\n",
    "    for i in range(0,len(points),35):\n",
    "        temp = points[i:i+35]\n",
    "        to_return.append(np.array(temp).mean())\n",
    "    return to_return"
   ]
  },
  {
   "cell_type": "code",
   "execution_count": 32,
   "metadata": {},
   "outputs": [],
   "source": [
    "to_plot = [s2[t]/st[t] for t in sorted(st.keys())]"
   ]
  },
  {
   "cell_type": "code",
   "execution_count": 33,
   "metadata": {},
   "outputs": [],
   "source": [
    "ts2 = get_weekly_averages(to_plot)"
   ]
  },
  {
   "cell_type": "code",
   "execution_count": 34,
   "metadata": {},
   "outputs": [
    {
     "data": {
      "image/png": "[encoded data removed]",
      "text/plain": [
       "<Figure size 432x288 with 1 Axes>"
      ]
     },
     "metadata": {
      "needs_background": "light"
     },
     "output_type": "display_data"
    }
   ],
   "source": [
    "plt.plot(ts2)\n",
    "plt.ylabel('SSG/SST')\n",
    "plt.xlabel('Week of study')\n",
    "plt.title('Algorithms have random seeds')\n",
    "plt.tight_layout()\n",
    "plt.savefig('between study variance (SSG) over total measure of variability (SST) algorithm random seeds')\n"
   ]
  },
  {
   "cell_type": "code",
   "execution_count": 26,
   "metadata": {},
   "outputs": [
    {
     "data": {
      "text/plain": [
       "array([[4, 0, 0, 0],\n",
       "       [0, 3, 0, 0],\n",
       "       [0, 0, 2, 0],\n",
       "       [0, 0, 0, 1]])"
      ]
     },
     "execution_count": 26,
     "metadata": {},
     "output_type": "execute_result"
    }
   ],
   "source": [
    "np.diag([4,3,2,1])"
   ]
  },
  {
   "cell_type": "code",
   "execution_count": 40,
   "metadata": {},
   "outputs": [],
   "source": [
    "def get_results_new_save_person(results_path,pop_size,update_time,case,phrase,ophrase):\n",
    "    \n",
    "    \n",
    "    files = os.listdir('{}{}'.format(results_path,case))\n",
    "    \n",
    "    steps = []\n",
    "\n",
    "    #check population and pop_size,update_time\n",
    "    files = [f for f in files if '.DS' not in f and pop_size in f and phrase in f and ophrase not in f and 'update_days_{}'.format(update_time) in f  and '2015' not in f    ]\n",
    "    #files = files[:50]\n",
    "    #print(len(files))\n",
    "    #print(files)\n",
    "    seen = 0 \n",
    "    to_return = {}\n",
    "    for ff in files:\n",
    "        sim = int(ff.split('sim_')[1].split('_')[0])\n",
    "        \n",
    "        #try:\n",
    "        with open('{}{}/{}'.format(results_path,case,ff),'rb') as f:\n",
    "            d = pickle.load(f)\n",
    "     \n",
    "            #print(d.keys())\n",
    "            if len(d)>0:\n",
    "                to_return[sim]=d['pregret']\n",
    "    return to_return"
   ]
  },
  {
   "cell_type": "code",
   "execution_count": 76,
   "metadata": {},
   "outputs": [],
   "source": [
    "t= get_results_new_save_person('../../Downloads/pooling_results_testing/batch/','32',7,'case_one','sanitytwo','?')"
   ]
  },
  {
   "cell_type": "code",
   "execution_count": 55,
   "metadata": {},
   "outputs": [
    {
     "data": {
      "text/plain": [
       "dict_keys([11, 7, 34, 8, 45, 25, 0, 16, 33, 19, 42, 22, 24, 44, 9, 35, 6, 10, 23, 18, 43, 32, 17, 1, 20, 40, 31, 2, 14, 27, 39, 47, 28, 36, 13, 48, 5, 15, 3, 30, 41, 21, 4, 12, 49, 29, 37, 46, 26, 38])"
      ]
     },
     "execution_count": 55,
     "metadata": {},
     "output_type": "execute_result"
    }
   ],
   "source": [
    "t.keys()"
   ]
  },
  {
   "cell_type": "code",
   "execution_count": 77,
   "metadata": {},
   "outputs": [],
   "source": [
    "to_save = {}\n",
    "for sim in range(50):\n",
    "    for person in range(32):\n",
    "        for time,regret in t[sim][person].items():\n",
    "            if time not in to_save:\n",
    "                to_save[time]={}\n",
    "            if person not in to_save[time]:\n",
    "                to_save[time][person]={}\n",
    "            to_save[time][person][sim]=regret"
   ]
  },
  {
   "cell_type": "code",
   "execution_count": 78,
   "metadata": {},
   "outputs": [],
   "source": [
    "with open('../../Downloads/batch_sanitytwo_regret_check_caseone.pkl','wb') as f:\n",
    "    pickle.dump(to_save,f) "
   ]
  },
  {
   "cell_type": "code",
   "execution_count": null,
   "metadata": {},
   "outputs": [],
   "source": []
  }
 ],
 "metadata": {
  "kernelspec": {
   "display_name": "Python 3",
   "language": "python",
   "name": "python3"
  },
  "language_info": {
   "codemirror_mode": {
    "name": "ipython",
    "version": 3
   },
   "file_extension": ".py",
   "mimetype": "text/x-python",
   "name": "python",
   "nbconvert_exporter": "python",
   "pygments_lexer": "ipython3",
   "version": "3.6.8"
  }
 },
 "nbformat": 4,
 "nbformat_minor": 2
}
