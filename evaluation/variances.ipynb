{
 "cells": [
  {
   "cell_type": "code",
   "execution_count": 1,
   "metadata": {},
   "outputs": [],
   "source": [
    "import pickle\n",
    "import itertools\n",
    "import pandas as pd\n",
    "import numpy as np\n",
    "import matplotlib.pyplot as plt\n",
    "\n",
    "%matplotlib inline"
   ]
  },
  {
   "cell_type": "code",
   "execution_count": 2,
   "metadata": {},
   "outputs": [],
   "source": [
    "def group_by_time_stamp(case_dict):\n",
    "    to_return={}\n",
    "    \n",
    "    for sim,data in case_dict.items():\n",
    "        \n",
    "        for date,results in data.items():\n",
    "            if date not in to_return:\n",
    "                to_return[date]={}\n",
    "            to_return[date][sim]=results\n",
    "    return to_return"
   ]
  },
  {
   "cell_type": "code",
   "execution_count": 3,
   "metadata": {},
   "outputs": [],
   "source": [
    "def get_all():\n",
    "    to_return = {}\n",
    "    for pn in range(10):\n",
    "        with open('../../Downloads/pooling_four_results_7_24_pn_{}.pkl'.format(pn),'rb') as f:\n",
    "            pooled = pickle.load(f)      \n",
    "            #temp = group_by_time_stamp(['case_two']['regrets'])\n",
    "            to_return[pn]=pooled['case_three']['regrets']\n",
    "    return to_return"
   ]
  },
  {
   "cell_type": "code",
   "execution_count": 4,
   "metadata": {},
   "outputs": [],
   "source": [
    "def get_regret_at_time(alls):\n",
    "    to_return = {}\n",
    "    \n",
    "    for population in range(10):\n",
    "        temp = group_by_time_stamp(alls[population])\n",
    "        \n",
    "        for time,v in temp.items():\n",
    "            if time not in to_return:\n",
    "                to_return[time]={}\n",
    "            #td = {}\n",
    "            for sim_id,regrets in v.items():\n",
    "                new_key  = '{}-{}'.format(population,sim_id)\n",
    "                to_return[time][new_key]=regrets\n",
    "            #to_return[time]=td\n",
    "    return to_return"
   ]
  },
  {
   "cell_type": "code",
   "execution_count": 5,
   "metadata": {},
   "outputs": [],
   "source": [
    "def get_population_averages(a_dict,key):\n",
    "    to_return = {}\n",
    "    for k,v in a_dict.items():\n",
    "        temp = {}\n",
    "        for lk,vals in v.items():\n",
    "            #print(lk)\n",
    "            population_id = int(lk.split('-')[key])\n",
    "            if population_id not in temp:\n",
    "                temp[population_id]=[]\n",
    "            temp[population_id].extend(vals)\n",
    "        to_return[k]= {kk:np.array(vv).mean() for kk,vv in temp.items()}\n",
    "    return to_return"
   ]
  },
  {
   "cell_type": "code",
   "execution_count": 6,
   "metadata": {},
   "outputs": [],
   "source": [
    "def ssg(big_dict,smaller_dict):\n",
    "    to_return = []\n",
    "    #print(big_dict.values())\n",
    "    meanc = np.array([np.array(v).mean() for v in big_dict.values()]).mean()\n",
    "    for i in range(10):\n",
    "       \n",
    "        to_return.append(50*(smaller_dict[i]-meanc)**2)\n",
    "    return sum(to_return)"
   ]
  },
  {
   "cell_type": "code",
   "execution_count": 7,
   "metadata": {},
   "outputs": [],
   "source": [
    "def get_s2(big_dict):\n",
    "    to_return = {}\n",
    "    \n",
    "    shelpers =  get_population_averages(big_dict,0)      \n",
    "    for time,ld in big_dict.items():\n",
    "        to_return[time]=ssg(ld,shelpers[time])\n",
    "    return to_return   "
   ]
  },
  {
   "cell_type": "code",
   "execution_count": 8,
   "metadata": {},
   "outputs": [],
   "source": [
    "def ssw(big_dict,smaller_dict):\n",
    "    to_return = []\n",
    "    for i in range(10):\n",
    "        smaller_val = smaller_dict[i]\n",
    "        #print(smaller_val)\n",
    "        temp = [(np.array(regrets).mean()-smaller_val)**2 for k,regrets in big_dict.items() if int(k.split('-')[0])==i]\n",
    "        #print(temp)\n",
    "        #print(len(temp))\n",
    "        to_return.extend(temp)\n",
    "    return sum(to_return)"
   ]
  },
  {
   "cell_type": "code",
   "execution_count": 9,
   "metadata": {},
   "outputs": [],
   "source": [
    "def get_s1(big_dict):\n",
    "    to_return = {}\n",
    "    \n",
    "    shelpers =  get_population_averages(big_dict,0)      \n",
    "    for time,ld in big_dict.items():\n",
    "        to_return[time]=ssw(ld,shelpers[time])\n",
    "    return to_return      "
   ]
  },
  {
   "cell_type": "code",
   "execution_count": 10,
   "metadata": {},
   "outputs": [],
   "source": [
    "def get_sst(big_dict):\n",
    "    to_return = {}\n",
    "    \n",
    "    for time,data in big_dict.items():\n",
    "        #means = [np.array(v).mean() for v in big_dict.values()]\n",
    "        \n",
    "        all_values = [np.array(v).mean() for v in data.values()]\n",
    "        #print(len(all_values))\n",
    "        meanc = np.array(all_values).mean()\n",
    "        temp = [(i-meanc)**2 for i in all_values]\n",
    "        to_return[time]=sum(temp)\n",
    "    return to_return"
   ]
  },
  {
   "cell_type": "code",
   "execution_count": 11,
   "metadata": {},
   "outputs": [],
   "source": [
    "p = get_all()"
   ]
  },
  {
   "cell_type": "code",
   "execution_count": 12,
   "metadata": {},
   "outputs": [],
   "source": [
    "nd = get_regret_at_time(p)"
   ]
  },
  {
   "cell_type": "code",
   "execution_count": 13,
   "metadata": {},
   "outputs": [],
   "source": [
    "t = get_population_averages(nd,0)"
   ]
  },
  {
   "cell_type": "code",
   "execution_count": 15,
   "metadata": {},
   "outputs": [],
   "source": [
    "psmall = t[pd.Timestamp('2015-07-27 10:00:00')]\n",
    "\n",
    "pbig = nd[pd.Timestamp('2015-07-27 10:00:00')]\n"
   ]
  },
  {
   "cell_type": "code",
   "execution_count": 46,
   "metadata": {},
   "outputs": [],
   "source": [
    "tr =group_by_time_stamp(p[0])"
   ]
  },
  {
   "cell_type": "code",
   "execution_count": 16,
   "metadata": {},
   "outputs": [],
   "source": [
    "#within\n",
    "s1 = get_s1(nd)\n"
   ]
  },
  {
   "cell_type": "code",
   "execution_count": 17,
   "metadata": {},
   "outputs": [],
   "source": [
    "#between\n",
    "s2 = get_s2(nd)"
   ]
  },
  {
   "cell_type": "code",
   "execution_count": 18,
   "metadata": {},
   "outputs": [],
   "source": [
    "st = get_sst(nd)"
   ]
  },
  {
   "cell_type": "code",
   "execution_count": 19,
   "metadata": {},
   "outputs": [],
   "source": [
    "checks = [(s1[t]+s2[t])-st[t] for t in st.keys()]"
   ]
  },
  {
   "cell_type": "code",
   "execution_count": 22,
   "metadata": {},
   "outputs": [],
   "source": [
    "def get_weekly_averages(points):\n",
    "    to_return = []\n",
    "    for i in range(0,len(points),35):\n",
    "        temp = points[i:i+35]\n",
    "        to_return.append(np.array(temp).mean())\n",
    "    return to_return"
   ]
  },
  {
   "cell_type": "code",
   "execution_count": 23,
   "metadata": {},
   "outputs": [],
   "source": [
    "ts2 = get_weekly_averages(to_plot)"
   ]
  },
  {
   "cell_type": "code",
   "execution_count": 20,
   "metadata": {},
   "outputs": [],
   "source": [
    "to_plot = [s2[t]/st[t] for t in sorted(st.keys())]"
   ]
  },
  {
   "cell_type": "code",
   "execution_count": 25,
   "metadata": {},
   "outputs": [
    {
     "data": {
      "image/png": "[encoded data removed]",
      "text/plain": [
       "<Figure size 432x288 with 1 Axes>"
      ]
     },
     "metadata": {
      "needs_background": "light"
     },
     "output_type": "display_data"
    }
   ],
   "source": [
    "plt.plot(ts2)\n",
    "plt.ylabel('SSG/SST')\n",
    "plt.xlabel('Week of study')\n",
    "plt.title('Algorithms have random seeds')\n",
    "plt.tight_layout()\n",
    "plt.savefig('between study variance (SSG) over total measure of variability (SST) algorithm random seeds')\n"
   ]
  },
  {
   "cell_type": "code",
   "execution_count": 26,
   "metadata": {},
   "outputs": [
    {
     "data": {
      "text/plain": [
       "array([[4, 0, 0, 0],\n",
       "       [0, 3, 0, 0],\n",
       "       [0, 0, 2, 0],\n",
       "       [0, 0, 0, 1]])"
      ]
     },
     "execution_count": 26,
     "metadata": {},
     "output_type": "execute_result"
    }
   ],
   "source": [
    "np.diag([4,3,2,1])"
   ]
  },
  {
   "cell_type": "code",
   "execution_count": null,
   "metadata": {},
   "outputs": [],
   "source": []
  }
 ],
 "metadata": {
  "kernelspec": {
   "display_name": "Python 3",
   "language": "python",
   "name": "python3"
  },
  "language_info": {
   "codemirror_mode": {
    "name": "ipython",
    "version": 3
   },
   "file_extension": ".py",
   "mimetype": "text/x-python",
   "name": "python",
   "nbconvert_exporter": "python",
   "pygments_lexer": "ipython3",
   "version": "3.7.1"
  }
 },
 "nbformat": 4,
 "nbformat_minor": 2
}
