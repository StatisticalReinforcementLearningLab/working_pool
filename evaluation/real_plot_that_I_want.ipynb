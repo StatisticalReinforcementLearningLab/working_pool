{
 "cells": [
  {
   "cell_type": "code",
   "execution_count": 1,
   "metadata": {},
   "outputs": [],
   "source": [
    "##six lines of cohorts\n",
    "##for each cohort I want to see the regret over time"
   ]
  },
  {
   "cell_type": "code",
   "execution_count": 4,
   "metadata": {},
   "outputs": [],
   "source": [
    "import pickle\n",
    "import pandas as pd\n",
    "import os\n",
    "import sys\n",
    "sys.path\n",
    "from scipy import stats\n",
    "sys.path.append('../simulation')\n",
    "import TS_personal_params_pooled as pp\n",
    "import TS_global_params_pooled as gtp\n",
    "import numpy as np\n",
    "import matplotlib.pyplot as plt\n",
    "\n",
    "%matplotlib inline"
   ]
  },
  {
   "cell_type": "code",
   "execution_count": 8,
   "metadata": {},
   "outputs": [],
   "source": [
    "cohorts = {0: [0, 1, 2, 3, 4],\n",
    " 1: [5, 6, 7, 8, 9, 10, 11, 12, 13, 14],\n",
    " 2: [15, 16, 17, 18, 19],\n",
    " 3: [20, 21, 22, 23],\n",
    " 4: [24, 25, 26, 27],\n",
    " 5: [28, 29, 30, 31]}"
   ]
  },
  {
   "cell_type": "code",
   "execution_count": 5,
   "metadata": {},
   "outputs": [],
   "source": [
    "def get_results_new_save_person(results_path,pop_size,update_time,case,phrase,ophrase):\n",
    "    \n",
    "    \n",
    "    files = os.listdir('{}{}'.format(results_path,case))\n",
    "    \n",
    "    steps = []\n",
    "\n",
    "    #check population and pop_size,update_time\n",
    "    files = [f for f in files if '.DS' not in f and pop_size in f and phrase in f and ophrase not in f and 'update_days_{}'.format(update_time) in f  and '2015' not in f    ]\n",
    "    #files = files[:50]\n",
    "    #print(len(files))\n",
    "    #print(files)\n",
    "    seen = 0 \n",
    "    to_return = {}\n",
    "    to_returno = {}\n",
    "    for ff in files:\n",
    "        sim = int(ff.split('sim_')[1].split('_')[0])\n",
    "        \n",
    "        #try:\n",
    "        with open('{}{}/{}'.format(results_path,case,ff),'rb') as f:\n",
    "            d = pickle.load(f)\n",
    "     \n",
    "            #print(d.keys())\n",
    "            if len(d)>0:\n",
    "                to_return[sim]=d['pregret']\n",
    "                to_returno[sim]=d['poregret']\n",
    "    to_save = {}\n",
    "    to_saveo = {}\n",
    "    for sim in range(50):\n",
    "        for person in range(32):\n",
    "            for time,regret in to_return[sim][person].items():\n",
    "                if time not in to_save:\n",
    "                    to_save[time]={}\n",
    "                if time not in to_saveo:\n",
    "                    to_saveo[time]={}\n",
    "                if person not in to_save[time]:\n",
    "                    to_save[time][person]={}\n",
    "                if person not in to_saveo[time]:\n",
    "                    to_saveo[time][person]={}\n",
    "                to_save[time][person][sim]=regret\n",
    "                to_saveo[time][person][sim]=to_returno[sim][person][time]\n",
    "    return {'r':to_save,'or':to_saveo}\n"
   ]
  },
  {
   "cell_type": "code",
   "execution_count": 158,
   "metadata": {},
   "outputs": [],
   "source": [
    "tt= get_results_new_save_person('../../Downloads/pooling_results_testing/batch/','32',7,'case_three','burden818twotimesaveshortmajoritymellow','inc')\n"
   ]
  },
  {
   "cell_type": "code",
   "execution_count": 9,
   "metadata": {},
   "outputs": [],
   "source": [
    "with open('../distributions_rl4rl/time_to_active_participants_pop_32_short_staggered_12.pkl','rb') as f:\n",
    "    t = pickle.load(f)"
   ]
  },
  {
   "cell_type": "code",
   "execution_count": 114,
   "metadata": {},
   "outputs": [],
   "source": [
    "def get_cohort_times(td):\n",
    "    time_to_cohort_ids={}\n",
    "    seen_user_ids = set([0, 1, 2, 3, 4])\n",
    "    cohort_id = 0 \n",
    "    for time,ids in td.items():\n",
    "        if len(ids)>len(seen_user_ids):\n",
    "            seen_user_ids.update(ids)\n",
    "            cohort_id = cohort_id+1\n",
    "       \n",
    "        time_to_cohort_ids [time]=cohort_id\n",
    "    print(seen_user_ids)\n",
    "    \n",
    "    cohort_to_times = {}\n",
    "    for time,ids in td.items():\n",
    "        for c,cset in cohorts.items():\n",
    "            #print(set(cset))\n",
    "            #print(set(set(ids)))\n",
    "            if len(set(cset).intersection(set(ids)))>0:\n",
    "                if c not in cohort_to_times:\n",
    "                    cohort_to_times[c]=[]\n",
    "                cohort_to_times[c].append(time)\n",
    "    \n",
    "    \n",
    "    return time_to_cohort_ids,cohort_to_times"
   ]
  },
  {
   "cell_type": "code",
   "execution_count": 115,
   "metadata": {},
   "outputs": [
    {
     "name": "stdout",
     "output_type": "stream",
     "text": [
      "{0, 1, 2, 3, 4, 5, 6, 7, 8, 9, 10, 11, 12, 13, 14, 15, 16, 17, 18, 19, 20, 21, 22, 23, 24, 25, 26, 27, 28, 29, 30, 31}\n"
     ]
    }
   ],
   "source": [
    "ctimes,tr = get_cohort_times(t)"
   ]
  },
  {
   "cell_type": "code",
   "execution_count": 62,
   "metadata": {},
   "outputs": [],
   "source": [
    "def get_regret_by_times(time_series,rdict):\n",
    "    to_return =[]\n",
    "    for time in time_series:\n",
    "        if pd.Timestamp(time) in rdict:\n",
    "            temp = [np.array(list(v.values())).mean() for k,v in rdict[pd.Timestamp(time)].items() ]\n",
    "            to_return.append(np.array(temp).mean())\n",
    "    return to_return"
   ]
  },
  {
   "cell_type": "code",
   "execution_count": 117,
   "metadata": {},
   "outputs": [
    {
     "data": {
      "text/plain": [
       "dict_keys([0, 1, 2, 3, 4, 5])"
      ]
     },
     "execution_count": 117,
     "metadata": {},
     "output_type": "execute_result"
    }
   ],
   "source": [
    "tr.keys()"
   ]
  },
  {
   "cell_type": "code",
   "execution_count": 149,
   "metadata": {},
   "outputs": [],
   "source": [
    "def get_weekly_averages(points):\n",
    "    to_return = []\n",
    "    sems = []\n",
    "    for i in range(0,len(points),35):\n",
    "        temp = points[i:i+35]\n",
    "        to_return.append(np.array(temp).mean())\n",
    "        #print(temp)\n",
    "        sems.append(stats.sem(temp))\n",
    "    return to_return,sems"
   ]
  },
  {
   "cell_type": "code",
   "execution_count": 125,
   "metadata": {},
   "outputs": [],
   "source": [
    "cone = get_weekly_averages(get_regret_by_times(tr[0],tt['or']))\n",
    "ctwo = get_weekly_averages(get_regret_by_times(tr[1],tt['or']))\n",
    "cthree = get_weekly_averages(get_regret_by_times(tr[5],tt['or']))"
   ]
  },
  {
   "cell_type": "code",
   "execution_count": 159,
   "metadata": {},
   "outputs": [
    {
     "name": "stdout",
     "output_type": "stream",
     "text": [
      "0.06137123639280825\n",
      "0.12458208270878726\n"
     ]
    },
    {
     "data": {
      "image/png": "[encoded data removed]",
      "text/plain": [
       "<Figure size 432x288 with 1 Axes>"
      ]
     },
     "metadata": {
      "needs_background": "light"
     },
     "output_type": "display_data"
    }
   ],
   "source": [
    "cone = get_weekly_averages(get_regret_by_times(tr[0],tt['or']))\n",
    "ctwo = get_weekly_averages(get_regret_by_times(tr[3],tt['or']))\n",
    "cthree = get_weekly_averages(get_regret_by_times(tr[5],tt['or']))\n",
    "plt.plot(cone[0],label = 'cohort two')\n",
    "plt.plot(ctwo[0],label = 'cohort four')\n",
    "plt.plot(cthree[0],label = 'cohort six')\n",
    "plt.legend(bbox_to_anchor=(1.15, .5))\n",
    "print(cthree[0][-1])\n",
    "print(cone[0][-1])"
   ]
  },
  {
   "cell_type": "code",
   "execution_count": 127,
   "metadata": {},
   "outputs": [],
   "source": [
    "with open('../../Downloads/regret_burden818twoshortmajmellongf.pkl','rb') as f:\n",
    "    pt = pickle.load(f)"
   ]
  },
  {
   "cell_type": "code",
   "execution_count": 155,
   "metadata": {},
   "outputs": [
    {
     "name": "stdout",
     "output_type": "stream",
     "text": [
      "0.07231379480685465\n",
      "0.11880158867000014\n"
     ]
    },
    {
     "data": {
      "image/png": "[encoded data removed]",
      "text/plain": [
       "<Figure size 432x288 with 1 Axes>"
      ]
     },
     "metadata": {
      "needs_background": "light"
     },
     "output_type": "display_data"
    }
   ],
   "source": [
    "cone = get_weekly_averages(get_regret_by_times(tr[0],pt['case_three']['or']))\n",
    "#ctwo = get_weekly_averages(get_regret_by_times(tr[3],pt['case_three']['or']))\n",
    "cthree = get_weekly_averages(get_regret_by_times(tr[5],pt['case_three']['or']))\n",
    "plt.plot(cone[0],label = 'cohort one')\n",
    "#plt.plot(ctwo[0],label = 'cohort four')\n",
    "plt.plot(cthree[0],label = 'cohort six')\n",
    "plt.legend(bbox_to_anchor=(1.15, .5))\n",
    "print(cthree[0][-1])\n",
    "print(cone[0][-1])"
   ]
  },
  {
   "cell_type": "code",
   "execution_count": 153,
   "metadata": {},
   "outputs": [
    {
     "data": {
      "text/plain": [
       "0.07231379480685465"
      ]
     },
     "execution_count": 153,
     "metadata": {},
     "output_type": "execute_result"
    }
   ],
   "source": [
    "cthree[0][-1]"
   ]
  },
  {
   "cell_type": "code",
   "execution_count": null,
   "metadata": {},
   "outputs": [],
   "source": []
  }
 ],
 "metadata": {
  "kernelspec": {
   "display_name": "Python 3",
   "language": "python",
   "name": "python3"
  },
  "language_info": {
   "codemirror_mode": {
    "name": "ipython",
    "version": 3
   },
   "file_extension": ".py",
   "mimetype": "text/x-python",
   "name": "python",
   "nbconvert_exporter": "python",
   "pygments_lexer": "ipython3",
   "version": "3.6.8"
  }
 },
 "nbformat": 4,
 "nbformat_minor": 2
}
