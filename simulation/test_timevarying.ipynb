{
 "cells": [
  {
   "cell_type": "code",
   "execution_count": 1,
   "metadata": {},
   "outputs": [],
   "source": [
    "import sim_working\n",
    "import pickle\n",
    "import numpy as np\n",
    "import time\n",
    "import pandas as pd"
   ]
  },
  {
   "cell_type": "code",
   "execution_count": null,
   "metadata": {},
   "outputs": [
    {
     "name": "stdout",
     "output_type": "stream",
     "text": [
      "torch.Size([140, 140])\n",
      "torch.Size([140, 140])\n",
      "0.06449696\n",
      "0.00896479\n",
      "torch.Size([576, 576])\n",
      "torch.Size([576, 576])\n",
      "0.06449696\n",
      "0.00896479\n",
      "torch.Size([1131, 1131])\n",
      "torch.Size([1131, 1131])\n",
      "0.06449696\n",
      "0.00896479\n",
      "torch.Size([1801, 1801])\n",
      "torch.Size([1801, 1801])\n",
      "0.06449696\n",
      "0.00896479\n"
     ]
    }
   ],
   "source": [
    "#'case_three',\n",
    "#'case_two','case_three'\n",
    "#,'case_one','case_three'\n",
    "start = time.time()\n",
    "for g in ['burden']:\n",
    "    for p in [32]:\n",
    "        t=sim_working.run_many('time_compe',['case_two'],0,1,7,'../distributions_rl4rl/','../../Downloads/pooling_results_testing/','None',time_cond=g,pop_size=p)\n",
    "end = time.time()\n",
    "print(end-start)\n",
    "\n",
    "\n"
   ]
  },
  {
   "cell_type": "code",
   "execution_count": 17,
   "metadata": {},
   "outputs": [],
   "source": [
    "def get_most_recent_index(users,days):\n",
    "    maxes = {}\n",
    "    for i in range(len(users)):\n",
    "        user_id = users[i]\n",
    "        if user_id not in maxes:\n",
    "            maxes[user_id] = 0\n",
    "        if days[i]>days[maxes[user_id]]:\n",
    "            maxes[user_id]=i\n",
    "    return maxes"
   ]
  },
  {
   "cell_type": "code",
   "execution_count": 18,
   "metadata": {},
   "outputs": [],
   "source": [
    "test = get_most_recent_index(t[1],t[3])"
   ]
  },
  {
   "cell_type": "code",
   "execution_count": 7,
   "metadata": {},
   "outputs": [
    {
     "data": {
      "text/plain": [
       "(907,)"
      ]
     },
     "execution_count": 7,
     "metadata": {},
     "output_type": "execute_result"
    }
   ],
   "source": [
    "np.dot(np.ones(907),np.eye(907)).shape"
   ]
  },
  {
   "cell_type": "code",
   "execution_count": 4,
   "metadata": {},
   "outputs": [
    {
     "data": {
      "text/plain": [
       "array([ -1.14173313, -10.24449527,  -6.80857888,   8.8743782 ,\n",
       "         8.62360099])"
      ]
     },
     "execution_count": 4,
     "metadata": {},
     "output_type": "execute_result"
    }
   ],
   "source": [
    "t[2].mus2[1]"
   ]
  },
  {
   "cell_type": "code",
   "execution_count": null,
   "metadata": {},
   "outputs": [],
   "source": [
    "t[0].population[1].beta"
   ]
  },
  {
   "cell_type": "code",
   "execution_count": null,
   "metadata": {},
   "outputs": [],
   "source": [
    "x = t[0].population[1].history"
   ]
  },
  {
   "cell_type": "code",
   "execution_count": null,
   "metadata": {},
   "outputs": [],
   "source": [
    "y = t[0].population[1].history"
   ]
  },
  {
   "cell_type": "code",
   "execution_count": null,
   "metadata": {},
   "outputs": [],
   "source": [
    "with open('../Downloads/pooling_results_testing/batch/case_one/population_size_32_update_days_7_short_static_sim_0.pkl','rb') as f:\n",
    "    d = pickle.load(f)\n",
    "with open('../Downloads/pooling_results_testing/personalized/case_one/population_size_32_update_days_7_short_static_sim_0.pkl','rb') as f:\n",
    "    dd = pickle.load(f)"
   ]
  },
  {
   "cell_type": "code",
   "execution_count": null,
   "metadata": {},
   "outputs": [],
   "source": [
    "x[pd.Timestamp('2015-08-30 10:00:00')]"
   ]
  },
  {
   "cell_type": "code",
   "execution_count": null,
   "metadata": {},
   "outputs": [],
   "source": [
    "len(dd['gparams'].history)"
   ]
  },
  {
   "cell_type": "code",
   "execution_count": null,
   "metadata": {},
   "outputs": [],
   "source": [
    "420*32"
   ]
  },
  {
   "cell_type": "code",
   "execution_count": null,
   "metadata": {},
   "outputs": [],
   "source": []
  },
  {
   "cell_type": "code",
   "execution_count": null,
   "metadata": {},
   "outputs": [],
   "source": []
  }
 ],
 "metadata": {
  "kernelspec": {
   "display_name": "Python 3",
   "language": "python",
   "name": "python3"
  },
  "language_info": {
   "codemirror_mode": {
    "name": "ipython",
    "version": 3
   },
   "file_extension": ".py",
   "mimetype": "text/x-python",
   "name": "python",
   "nbconvert_exporter": "python",
   "pygments_lexer": "ipython3",
   "version": "3.6.8"
  }
 },
 "nbformat": 4,
 "nbformat_minor": 2
}
