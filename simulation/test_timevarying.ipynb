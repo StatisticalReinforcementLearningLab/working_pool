{
 "cells": [
  {
   "cell_type": "code",
   "execution_count": 1,
   "metadata": {},
   "outputs": [
    {
     "ename": "IndentationError",
     "evalue": "unindent does not match any outer indentation level (model_updates.py, line 262)",
     "output_type": "error",
     "traceback": [
      "Traceback \u001b[0;36m(most recent call last)\u001b[0m:\n",
      "  File \u001b[1;32m\"/Users/sabina/anaconda3/envs/py36/lib/python3.6/site-packages/IPython/core/interactiveshell.py\"\u001b[0m, line \u001b[1;32m3267\u001b[0m, in \u001b[1;35mrun_code\u001b[0m\n    exec(code_obj, self.user_global_ns, self.user_ns)\n",
      "  File \u001b[1;32m\"<ipython-input-1-4f4ed9890026>\"\u001b[0m, line \u001b[1;32m1\u001b[0m, in \u001b[1;35m<module>\u001b[0m\n    import sim_working\n",
      "\u001b[0;36m  File \u001b[0;32m\"/Users/sabina/pooling_code_clean/simulation/sim_working.py\"\u001b[0;36m, line \u001b[0;32m22\u001b[0;36m, in \u001b[0;35m<module>\u001b[0;36m\u001b[0m\n\u001b[0;31m    import model_updates\u001b[0m\n",
      "\u001b[0;36m  File \u001b[0;32m\"/Users/sabina/pooling_code_clean/simulation/model_updates.py\"\u001b[0;36m, line \u001b[0;32m262\u001b[0m\n\u001b[0;31m    for participant in experiment.population.values():\u001b[0m\n\u001b[0m                                                      ^\u001b[0m\n\u001b[0;31mIndentationError\u001b[0m\u001b[0;31m:\u001b[0m unindent does not match any outer indentation level\n"
     ]
    }
   ],
   "source": [
    "import sim_working\n",
    "import pickle\n",
    "import numpy as np\n",
    "import time\n",
    "import pandas as pd"
   ]
  },
  {
   "cell_type": "code",
   "execution_count": null,
   "metadata": {},
   "outputs": [],
   "source": [
    "#'case_three',\n",
    "#'case_two','case_three'\n",
    "start = time.time()\n",
    "for g in ['burden']:\n",
    "    for p in [32]:\n",
    "        t=sim_working.run_many('time_comp',['case_one'],0,1,7,'../distributions_rl4rl/','../../Downloads/pooling_results_testing/','None',time_cond=g,pop_size=p)\n",
    "end = time.time()\n",
    "print(end-start)\n",
    "\n",
    "\n"
   ]
  },
  {
   "cell_type": "code",
   "execution_count": 17,
   "metadata": {},
   "outputs": [],
   "source": [
    "def get_most_recent_index(users,days):\n",
    "    maxes = {}\n",
    "    for i in range(len(users)):\n",
    "        user_id = users[i]\n",
    "        if user_id not in maxes:\n",
    "            maxes[user_id] = 0\n",
    "        if days[i]>days[maxes[user_id]]:\n",
    "            maxes[user_id]=i\n",
    "    return maxes"
   ]
  },
  {
   "cell_type": "code",
   "execution_count": 18,
   "metadata": {},
   "outputs": [],
   "source": [
    "test = get_most_recent_index(t[1],t[3])"
   ]
  },
  {
   "cell_type": "code",
   "execution_count": 7,
   "metadata": {},
   "outputs": [
    {
     "data": {
      "text/plain": [
       "(907,)"
      ]
     },
     "execution_count": 7,
     "metadata": {},
     "output_type": "execute_result"
    }
   ],
   "source": [
    "np.dot(np.ones(907),np.eye(907)).shape"
   ]
  },
  {
   "cell_type": "code",
   "execution_count": 4,
   "metadata": {},
   "outputs": [
    {
     "data": {
      "text/plain": [
       "array([ -1.14173313, -10.24449527,  -6.80857888,   8.8743782 ,\n",
       "         8.62360099])"
      ]
     },
     "execution_count": 4,
     "metadata": {},
     "output_type": "execute_result"
    }
   ],
   "source": [
    "t[2].mus2[1]"
   ]
  },
  {
   "cell_type": "code",
   "execution_count": null,
   "metadata": {},
   "outputs": [],
   "source": [
    "t[0].population[1].beta"
   ]
  },
  {
   "cell_type": "code",
   "execution_count": null,
   "metadata": {},
   "outputs": [],
   "source": [
    "x = t[0].population[1].history"
   ]
  },
  {
   "cell_type": "code",
   "execution_count": null,
   "metadata": {},
   "outputs": [],
   "source": [
    "y = t[0].population[1].history"
   ]
  },
  {
   "cell_type": "code",
   "execution_count": null,
   "metadata": {},
   "outputs": [],
   "source": [
    "with open('../Downloads/pooling_results_testing/batch/case_one/population_size_32_update_days_7_short_static_sim_0.pkl','rb') as f:\n",
    "    d = pickle.load(f)\n",
    "with open('../Downloads/pooling_results_testing/personalized/case_one/population_size_32_update_days_7_short_static_sim_0.pkl','rb') as f:\n",
    "    dd = pickle.load(f)"
   ]
  },
  {
   "cell_type": "code",
   "execution_count": null,
   "metadata": {},
   "outputs": [],
   "source": [
    "x[pd.Timestamp('2015-08-30 10:00:00')]"
   ]
  },
  {
   "cell_type": "code",
   "execution_count": null,
   "metadata": {},
   "outputs": [],
   "source": [
    "len(dd['gparams'].history)"
   ]
  },
  {
   "cell_type": "code",
   "execution_count": null,
   "metadata": {},
   "outputs": [],
   "source": [
    "420*32"
   ]
  },
  {
   "cell_type": "code",
   "execution_count": null,
   "metadata": {},
   "outputs": [],
   "source": []
  },
  {
   "cell_type": "code",
   "execution_count": null,
   "metadata": {},
   "outputs": [],
   "source": []
  }
 ],
 "metadata": {
  "kernelspec": {
   "display_name": "Python 3",
   "language": "python",
   "name": "python3"
  }
 },
 "nbformat": 4,
 "nbformat_minor": 2
}
