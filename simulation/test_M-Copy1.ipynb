{
 "cells": [
  {
   "cell_type": "code",
   "execution_count": 1,
   "metadata": {},
   "outputs": [],
   "source": [
    "import sim_working\n",
    "import pickle\n",
    "import numpy as np\n",
    "import pandas as pd"
   ]
  },
  {
   "cell_type": "code",
   "execution_count": null,
   "metadata": {
    "scrolled": true
   },
   "outputs": [
    {
     "name": "stdout",
     "output_type": "stream",
     "text": [
      "0.0433\n",
      "0.0338\n",
      "0.039259620010852814\n",
      "0.030632739886641502\n",
      "0.03559006005525589\n",
      "0.027762718498706818\n",
      "0.032258227467536926\n",
      "0.025154223665595055\n",
      "0.02923402562737465\n",
      "0.02278805337846279\n",
      "0.026489583775401115\n",
      "0.02064232900738716\n",
      "0.024000687524676323\n",
      "0.018696656450629234\n",
      "0.021743083372712135\n",
      "0.016932813450694084\n",
      "0.0196964330971241\n",
      "0.015334175899624825\n"
     ]
    }
   ],
   "source": [
    "t=sim_working.run_many('time_effects',['case_three'],0,1,7,'../distributions_rl4rl/','../../Downloads/pooling_results_testing/','None')\n",
    "\n",
    "\n",
    "\n"
   ]
  },
  {
   "cell_type": "code",
   "execution_count": 15,
   "metadata": {},
   "outputs": [],
   "source": [
    "def cluster_by_group(population,mus):\n",
    "    groups = {}\n",
    "    \n",
    "    for k,v in population.items():\n",
    "        g = v.gid\n",
    "        if g not in groups:\n",
    "            groups[g]=[]\n",
    "        groups[g].append(mus[k][-2])\n",
    "    return groups"
   ]
  },
  {
   "cell_type": "code",
   "execution_count": 16,
   "metadata": {},
   "outputs": [],
   "source": [
    "with open('../../look/temp_cov_8.pkl','rb') as f:\n",
    "    t = pickle.load(f)"
   ]
  },
  {
   "cell_type": "code",
   "execution_count": 17,
   "metadata": {},
   "outputs": [
    {
     "data": {
      "text/plain": [
       "array([0.00991711, 0.00396265, 0.00488758, 0.00387342, 0.00526802])"
      ]
     },
     "execution_count": 17,
     "metadata": {},
     "output_type": "execute_result"
    }
   ],
   "source": [
    "np.diagonal(t)"
   ]
  },
  {
   "cell_type": "code",
   "execution_count": 18,
   "metadata": {},
   "outputs": [
    {
     "data": {
      "text/plain": [
       "-0.03181125049099459"
      ]
     },
     "execution_count": 18,
     "metadata": {},
     "output_type": "execute_result"
    }
   ],
   "source": [
    "np.array(f[2]).mean()"
   ]
  },
  {
   "cell_type": "code",
   "execution_count": 4,
   "metadata": {},
   "outputs": [
    {
     "data": {
      "text/plain": [
       "{0: array([-0.32112287,  0.23784313,  0.20541038, -0.16721567,  0.01293068]),\n",
       " 1: array([-1.16721572,  0.23784313,  0.20541038, -0.16721567, -0.49426085]),\n",
       " 2: array([-0.58500023,  0.23784313,  0.20541038, -0.16721567, -0.15455452]),\n",
       " 3: array([-0.86509727,  0.23784313,  0.20541038, -0.16721567, -0.29414953]),\n",
       " 4: array([-0.49064294,  0.23784313,  0.20541038, -0.16721567, -0.10624416]),\n",
       " 5: array([-0.75862906,  0.23784313,  0.20541038, -0.16721567, -0.21943672]),\n",
       " 6: array([-0.50556561,  0.23784313,  0.20541038, -0.16721567, -0.1138191 ]),\n",
       " 7: array([-0.76859915,  0.23784313,  0.20541038, -0.16721567, -0.2133023 ]),\n",
       " 8: array([-1.03527122,  0.23784313,  0.20541038, -0.16721567, -0.40839448]),\n",
       " 9: array([-1.58081996,  0.23784313,  0.20541038, -0.16721567, -0.70649699]),\n",
       " 10: array([-0.85818186,  0.23784313,  0.20541038, -0.16721567, -0.32470008]),\n",
       " 11: array([-0.74049655,  0.23784313,  0.20541038, -0.16721567, -0.25673913]),\n",
       " 12: array([-0.86272662,  0.23784313,  0.20541038, -0.16721567, -0.30454236]),\n",
       " 13: array([-0.52873339,  0.23784313,  0.20541038, -0.16721567, -0.13120468]),\n",
       " 14: array([-0.49965464,  0.23784313,  0.20541038, -0.16721567, -0.12037832]),\n",
       " 15: array([-1.17521249,  0.23784313,  0.20541038, -0.16721567, -0.48993053]),\n",
       " 16: array([ 0.24994996,  0.23784313,  0.20541038, -0.16721567,  0.32119463]),\n",
       " 17: array([-0.99497778,  0.23784313,  0.20541038, -0.16721567, -0.37182168]),\n",
       " 18: array([-0.36376374,  0.23784313,  0.20541038, -0.16721567, -0.0213237 ]),\n",
       " 19: array([-0.81002782,  0.23784313,  0.20541038, -0.16721567, -0.24664348]),\n",
       " 20: array([-0.96441758,  0.23784313,  0.20541038, -0.16721567, -0.34530352]),\n",
       " 21: array([-0.64080658,  0.23784313,  0.20541038, -0.16721567, -0.21450532]),\n",
       " 22: array([-1.52220574,  0.23784313,  0.20541038, -0.16721567, -0.68110009]),\n",
       " 23: array([-1.12100091,  0.23784313,  0.20541038, -0.16721567, -0.50996317]),\n",
       " 24: array([-1.17138094,  0.23784313,  0.20541038, -0.16721567, -0.46118656]),\n",
       " 25: array([-1.17580543,  0.23784313,  0.20541038, -0.16721567, -0.48048088]),\n",
       " 26: array([-0.35804575,  0.23784313,  0.20541038, -0.16721567, -0.03582788]),\n",
       " 27: array([-0.29478504,  0.23784313,  0.20541038, -0.16721567, -0.00468478]),\n",
       " 28: array([-0.8426775 ,  0.23784313,  0.20541038, -0.16721567, -0.28249759]),\n",
       " 29: array([-0.82147708,  0.23784313,  0.20541038, -0.16721567, -0.27125776]),\n",
       " 30: array([-0.33313768,  0.23784313,  0.20541038, -0.16721567, -0.06311272]),\n",
       " 31: array([-0.83450628,  0.23784313,  0.20541038, -0.16721567, -0.27596417])}"
      ]
     },
     "execution_count": 4,
     "metadata": {},
     "output_type": "execute_result"
    }
   ],
   "source": [
    "t[2].mus2"
   ]
  },
  {
   "cell_type": "code",
   "execution_count": 3,
   "metadata": {},
   "outputs": [],
   "source": [
    "with open('../../look/mtwo_27.pkl','rb') as f:\n",
    "    mtwo = pickle.load(f)\n",
    "with open('../../look/mone_27.pkl','rb') as f:\n",
    "    mone = pickle.load(f)\n",
    "with open('../../look/mthree_27.pkl','rb') as f:\n",
    "    mthree = pickle.load(f)"
   ]
  },
  {
   "cell_type": "code",
   "execution_count": 5,
   "metadata": {},
   "outputs": [
    {
     "data": {
      "text/plain": [
       "29"
      ]
     },
     "execution_count": 5,
     "metadata": {},
     "output_type": "execute_result"
    }
   ],
   "source": [
    "eqs.count(False)"
   ]
  },
  {
   "cell_type": "code",
   "execution_count": 4,
   "metadata": {},
   "outputs": [],
   "source": [
    "eqs = [np.all(mthree[i]==mtwo[i]) for i in range(mone.shape[0])]\n",
    "    "
   ]
  },
  {
   "cell_type": "code",
   "execution_count": 6,
   "metadata": {},
   "outputs": [
    {
     "data": {
      "text/plain": [
       "array([ 1.06418582,  0.        ,  0.        ,  0.        ,  0.        ,\n",
       "        0.51492969,  0.        ,  0.        ,  0.        ,  0.01492969,\n",
       "       -0.48507031,  0.        ,  0.        ,  0.        ,  0.01492969])"
      ]
     },
     "execution_count": 6,
     "metadata": {},
     "output_type": "execute_result"
    }
   ],
   "source": [
    "mone[2538]"
   ]
  },
  {
   "cell_type": "code",
   "execution_count": 11,
   "metadata": {},
   "outputs": [
    {
     "data": {
      "text/plain": [
       "array([1. , 0. , 0. , 0. , 1. , 0.5, 0. , 0. , 0. , 0.5, 0.5, 0. , 0. ,\n",
       "       0. , 0.5])"
      ]
     },
     "execution_count": 11,
     "metadata": {},
     "output_type": "execute_result"
    }
   ],
   "source": [
    "mtwo[3]"
   ]
  },
  {
   "cell_type": "code",
   "execution_count": 11,
   "metadata": {},
   "outputs": [],
   "source": [
    "with open('../Downloads/pooling_results_testing/batch/case_one/population_size_32_update_days_7_short_static_sim_0.pkl','rb') as f:\n",
    "    d = pickle.load(f)\n",
    "with open('../Downloads/pooling_results_testing/personalized/case_one/population_size_32_update_days_7_short_static_sim_0.pkl','rb') as f:\n",
    "    dd = pickle.load(f)"
   ]
  },
  {
   "cell_type": "code",
   "execution_count": 13,
   "metadata": {},
   "outputs": [
    {
     "data": {
      "text/plain": [
       "{'steps': 2.1824307449805813,\n",
       " 'add': 0.0,\n",
       " 'action': 0,\n",
       " 'location': 0,\n",
       " 'location_1': 0,\n",
       " 'ltps': 2.3144147789124854,\n",
       " 'location_2': 0,\n",
       " 'location_3': 0,\n",
       " 'study_day': 34,\n",
       " 'decision_time': 1,\n",
       " 'time': Timestamp('2015-08-30 10:00:00'),\n",
       " 'avail': True,\n",
       " 'prob': 0.5703922948921332,\n",
       " 'dow': 1,\n",
       " 'tod': 0,\n",
       " 'weather': 1,\n",
       " 'pretreatment': 0,\n",
       " 'optimal_reward': 0.035282963245947874,\n",
       " 'optimal_action': 1,\n",
       " 'mu2': [0, 0, 0, 0, 0],\n",
       " 'gid': 1}"
      ]
     },
     "execution_count": 13,
     "metadata": {},
     "output_type": "execute_result"
    }
   ],
   "source": [
    "x[pd.Timestamp('2015-08-30 10:00:00')]"
   ]
  },
  {
   "cell_type": "code",
   "execution_count": 23,
   "metadata": {},
   "outputs": [
    {
     "ename": "TypeError",
     "evalue": "object of type 'NoneType' has no len()",
     "output_type": "error",
     "traceback": [
      "\u001b[0;31m---------------------------------------------------------------------------\u001b[0m",
      "\u001b[0;31mTypeError\u001b[0m                                 Traceback (most recent call last)",
      "\u001b[0;32m<ipython-input-23-4f18dc11f4c8>\u001b[0m in \u001b[0;36m<module>\u001b[0;34m\u001b[0m\n\u001b[0;32m----> 1\u001b[0;31m \u001b[0mlen\u001b[0m\u001b[0;34m(\u001b[0m\u001b[0mdd\u001b[0m\u001b[0;34m[\u001b[0m\u001b[0;34m'gparams'\u001b[0m\u001b[0;34m]\u001b[0m\u001b[0;34m.\u001b[0m\u001b[0mhistory\u001b[0m\u001b[0;34m)\u001b[0m\u001b[0;34m\u001b[0m\u001b[0;34m\u001b[0m\u001b[0m\n\u001b[0m",
      "\u001b[0;31mTypeError\u001b[0m: object of type 'NoneType' has no len()"
     ]
    }
   ],
   "source": [
    "len(dd['gparams'].history)"
   ]
  },
  {
   "cell_type": "code",
   "execution_count": 3,
   "metadata": {},
   "outputs": [
    {
     "data": {
      "text/plain": [
       "13440"
      ]
     },
     "execution_count": 3,
     "metadata": {},
     "output_type": "execute_result"
    }
   ],
   "source": [
    "420*32"
   ]
  },
  {
   "cell_type": "code",
   "execution_count": 4,
   "metadata": {},
   "outputs": [],
   "source": [
    "import os"
   ]
  },
  {
   "cell_type": "code",
   "execution_count": 16,
   "metadata": {},
   "outputs": [],
   "source": [
    "with open('../../look/temp_cov_4.pkl','rb') as f:\n",
    "    t = pickle.load(f)"
   ]
  },
  {
   "cell_type": "code",
   "execution_count": 17,
   "metadata": {},
   "outputs": [
    {
     "data": {
      "text/plain": [
       "array([0.04631295, 0.01643922, 0.02059733, 0.01596524, 0.01934526])"
      ]
     },
     "execution_count": 17,
     "metadata": {},
     "output_type": "execute_result"
    }
   ],
   "source": [
    "np.diagonal(t)"
   ]
  },
  {
   "cell_type": "code",
   "execution_count": null,
   "metadata": {},
   "outputs": [],
   "source": []
  }
 ],
 "metadata": {
  "kernelspec": {
   "display_name": "Python 3",
   "language": "python",
   "name": "python3"
  },
  "language_info": {
   "codemirror_mode": {
    "name": "ipython",
    "version": 3
   },
   "file_extension": ".py",
   "mimetype": "text/x-python",
   "name": "python",
   "nbconvert_exporter": "python",
   "pygments_lexer": "ipython3",
   "version": "3.6.8"
  }
 },
 "nbformat": 4,
 "nbformat_minor": 2
}
